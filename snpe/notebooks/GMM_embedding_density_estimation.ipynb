{
 "cells": [
  {
   "cell_type": "code",
   "execution_count": 1,
   "id": "8b9c3699",
   "metadata": {},
   "outputs": [],
   "source": [
    "%load_ext autoreload\n",
    "%autoreload 2"
   ]
  },
  {
   "cell_type": "code",
   "execution_count": 2,
   "id": "e70134ae",
   "metadata": {},
   "outputs": [
    {
     "data": {
      "application/javascript": [
       "\n",
       "            setTimeout(function() {\n",
       "                var nbb_cell_id = 2;\n",
       "                var nbb_unformatted_code = \"# Just a formatting related plugin\\n%load_ext nb_black\";\n",
       "                var nbb_formatted_code = \"# Just a formatting related plugin\\n%load_ext nb_black\";\n",
       "                var nbb_cells = Jupyter.notebook.get_cells();\n",
       "                for (var i = 0; i < nbb_cells.length; ++i) {\n",
       "                    if (nbb_cells[i].input_prompt_number == nbb_cell_id) {\n",
       "                        if (nbb_cells[i].get_text() == nbb_unformatted_code) {\n",
       "                             nbb_cells[i].set_text(nbb_formatted_code);\n",
       "                        }\n",
       "                        break;\n",
       "                    }\n",
       "                }\n",
       "            }, 500);\n",
       "            "
      ],
      "text/plain": [
       "<IPython.core.display.Javascript object>"
      ]
     },
     "metadata": {},
     "output_type": "display_data"
    }
   ],
   "source": [
    "# Just a formatting related plugin\n",
    "%load_ext nb_black"
   ]
  },
  {
   "cell_type": "code",
   "execution_count": 3,
   "id": "d1c38bea",
   "metadata": {},
   "outputs": [
    {
     "data": {
      "application/javascript": [
       "\n",
       "            setTimeout(function() {\n",
       "                var nbb_cell_id = 3;\n",
       "                var nbb_unformatted_code = \"%matplotlib inline\\nimport matplotlib.pyplot as plt\";\n",
       "                var nbb_formatted_code = \"%matplotlib inline\\nimport matplotlib.pyplot as plt\";\n",
       "                var nbb_cells = Jupyter.notebook.get_cells();\n",
       "                for (var i = 0; i < nbb_cells.length; ++i) {\n",
       "                    if (nbb_cells[i].input_prompt_number == nbb_cell_id) {\n",
       "                        if (nbb_cells[i].get_text() == nbb_unformatted_code) {\n",
       "                             nbb_cells[i].set_text(nbb_formatted_code);\n",
       "                        }\n",
       "                        break;\n",
       "                    }\n",
       "                }\n",
       "            }, 500);\n",
       "            "
      ],
      "text/plain": [
       "<IPython.core.display.Javascript object>"
      ]
     },
     "metadata": {},
     "output_type": "display_data"
    }
   ],
   "source": [
    "%matplotlib inline\n",
    "import matplotlib.pyplot as plt"
   ]
  },
  {
   "cell_type": "code",
   "execution_count": 4,
   "id": "d30cc96a",
   "metadata": {},
   "outputs": [
    {
     "data": {
      "application/javascript": [
       "\n",
       "            setTimeout(function() {\n",
       "                var nbb_cell_id = 4;\n",
       "                var nbb_unformatted_code = \"import sys\\n\\nsys.path.append(\\\"../\\\")\";\n",
       "                var nbb_formatted_code = \"import sys\\n\\nsys.path.append(\\\"../\\\")\";\n",
       "                var nbb_cells = Jupyter.notebook.get_cells();\n",
       "                for (var i = 0; i < nbb_cells.length; ++i) {\n",
       "                    if (nbb_cells[i].input_prompt_number == nbb_cell_id) {\n",
       "                        if (nbb_cells[i].get_text() == nbb_unformatted_code) {\n",
       "                             nbb_cells[i].set_text(nbb_formatted_code);\n",
       "                        }\n",
       "                        break;\n",
       "                    }\n",
       "                }\n",
       "            }, 500);\n",
       "            "
      ],
      "text/plain": [
       "<IPython.core.display.Javascript object>"
      ]
     },
     "metadata": {},
     "output_type": "display_data"
    }
   ],
   "source": [
    "import sys\n",
    "\n",
    "sys.path.append(\"../\")"
   ]
  },
  {
   "cell_type": "markdown",
   "id": "755b4b97",
   "metadata": {},
   "source": [
    "# Using the final class to fit GMM density estimation models for embeddings"
   ]
  },
  {
   "cell_type": "code",
   "execution_count": 5,
   "id": "a16b2b41",
   "metadata": {},
   "outputs": [
    {
     "data": {
      "application/javascript": [
       "\n",
       "            setTimeout(function() {\n",
       "                var nbb_cell_id = 5;\n",
       "                var nbb_unformatted_code = \"from snpe.embeddings.embeddings_density_est_GMM import EmbeddingDensityGMM\";\n",
       "                var nbb_formatted_code = \"from snpe.embeddings.embeddings_density_est_GMM import EmbeddingDensityGMM\";\n",
       "                var nbb_cells = Jupyter.notebook.get_cells();\n",
       "                for (var i = 0; i < nbb_cells.length; ++i) {\n",
       "                    if (nbb_cells[i].input_prompt_number == nbb_cell_id) {\n",
       "                        if (nbb_cells[i].get_text() == nbb_unformatted_code) {\n",
       "                             nbb_cells[i].set_text(nbb_formatted_code);\n",
       "                        }\n",
       "                        break;\n",
       "                    }\n",
       "                }\n",
       "            }, 500);\n",
       "            "
      ],
      "text/plain": [
       "<IPython.core.display.Javascript object>"
      ]
     },
     "metadata": {},
     "output_type": "display_data"
    }
   ],
   "source": [
    "from snpe.embeddings.embeddings_density_est_GMM import EmbeddingDensityGMM"
   ]
  },
  {
   "cell_type": "code",
   "execution_count": 6,
   "id": "fff11c97",
   "metadata": {},
   "outputs": [
    {
     "data": {
      "application/javascript": [
       "\n",
       "            setTimeout(function() {\n",
       "                var nbb_cell_id = 6;\n",
       "                var nbb_unformatted_code = \"model = EmbeddingDensityGMM(n_components=10, n_init=5)\";\n",
       "                var nbb_formatted_code = \"model = EmbeddingDensityGMM(n_components=10, n_init=5)\";\n",
       "                var nbb_cells = Jupyter.notebook.get_cells();\n",
       "                for (var i = 0; i < nbb_cells.length; ++i) {\n",
       "                    if (nbb_cells[i].input_prompt_number == nbb_cell_id) {\n",
       "                        if (nbb_cells[i].get_text() == nbb_unformatted_code) {\n",
       "                             nbb_cells[i].set_text(nbb_formatted_code);\n",
       "                        }\n",
       "                        break;\n",
       "                    }\n",
       "                }\n",
       "            }, 500);\n",
       "            "
      ],
      "text/plain": [
       "<IPython.core.display.Javascript object>"
      ]
     },
     "metadata": {},
     "output_type": "display_data"
    }
   ],
   "source": [
    "model = EmbeddingDensityGMM(n_components=10, n_init=5)"
   ]
  },
  {
   "cell_type": "code",
   "execution_count": 7,
   "id": "c1d6d3bb",
   "metadata": {},
   "outputs": [
    {
     "name": "stdout",
     "output_type": "stream",
     "text": [
      "Product embeddings of shape: (31704, 100)\n",
      "User embeddings of shape: (88312, 100)\n"
     ]
    },
    {
     "data": {
      "application/javascript": [
       "\n",
       "            setTimeout(function() {\n",
       "                var nbb_cell_id = 7;\n",
       "                var nbb_unformatted_code = \"product_embeddings, user_embeddings = model.process_input_data()\";\n",
       "                var nbb_formatted_code = \"product_embeddings, user_embeddings = model.process_input_data()\";\n",
       "                var nbb_cells = Jupyter.notebook.get_cells();\n",
       "                for (var i = 0; i < nbb_cells.length; ++i) {\n",
       "                    if (nbb_cells[i].input_prompt_number == nbb_cell_id) {\n",
       "                        if (nbb_cells[i].get_text() == nbb_unformatted_code) {\n",
       "                             nbb_cells[i].set_text(nbb_formatted_code);\n",
       "                        }\n",
       "                        break;\n",
       "                    }\n",
       "                }\n",
       "            }, 500);\n",
       "            "
      ],
      "text/plain": [
       "<IPython.core.display.Javascript object>"
      ]
     },
     "metadata": {},
     "output_type": "display_data"
    }
   ],
   "source": [
    "product_embeddings, user_embeddings = model.process_input_data()"
   ]
  },
  {
   "cell_type": "code",
   "execution_count": 8,
   "id": "4029ced0",
   "metadata": {},
   "outputs": [
    {
     "name": "stdout",
     "output_type": "stream",
     "text": [
      "Fitting product model: GaussianMixture(max_iter=500, n_components=10, n_init=5, random_state=42,\n",
      "                verbose=2, verbose_interval=20)\n",
      "28533 samples in train set, 3171 samples in test set\n",
      "Initialization 0\n",
      "  Iteration 20\t time lapse 12.82877s\t ll change 0.05765\n",
      "  Iteration 40\t time lapse 12.13749s\t ll change 0.00353\n",
      "  Iteration 60\t time lapse 11.93765s\t ll change 0.00200\n",
      "  Iteration 80\t time lapse 11.74014s\t ll change 0.00143\n",
      "Initialization converged: True\t time lapse 53.36903s\t ll 264.39208\n",
      "Initialization 1\n",
      "  Iteration 20\t time lapse 12.77572s\t ll change 0.04078\n",
      "  Iteration 40\t time lapse 11.80866s\t ll change 0.00834\n",
      "  Iteration 60\t time lapse 11.80837s\t ll change 0.00129\n",
      "Initialization converged: True\t time lapse 38.82259s\t ll 264.44586\n",
      "Initialization 2\n",
      "  Iteration 20\t time lapse 12.80276s\t ll change 0.09703\n",
      "  Iteration 40\t time lapse 11.89121s\t ll change 0.01519\n",
      "  Iteration 60\t time lapse 12.00242s\t ll change 0.00214\n",
      "Initialization converged: True\t time lapse 47.64774s\t ll 264.31358\n",
      "Initialization 3\n",
      "  Iteration 20\t time lapse 12.50186s\t ll change 0.33290\n",
      "  Iteration 40\t time lapse 11.61438s\t ll change 0.00203\n",
      "Initialization converged: True\t time lapse 27.53618s\t ll 264.74516\n",
      "Initialization 4\n",
      "  Iteration 20\t time lapse 13.29023s\t ll change 0.04896\n",
      "  Iteration 40\t time lapse 11.57945s\t ll change 0.00648\n",
      "Initialization converged: True\t time lapse 36.11026s\t ll 264.61943\n",
      "Fitting user model: GaussianMixture(max_iter=500, n_components=10, n_init=5, random_state=42,\n",
      "                verbose=2, verbose_interval=20)\n",
      "79480 samples in train set, 8832 samples in test set\n",
      "Initialization 0\n",
      "  Iteration 20\t time lapse 44.91419s\t ll change 0.02945\n",
      "  Iteration 40\t time lapse 43.29461s\t ll change 0.00638\n",
      "  Iteration 60\t time lapse 43.36323s\t ll change 0.00631\n",
      "  Iteration 80\t time lapse 43.44634s\t ll change 0.00342\n",
      "  Iteration 100\t time lapse 41.98967s\t ll change 0.00188\n",
      "Initialization converged: True\t time lapse 225.56774s\t ll 288.53095\n",
      "Initialization 1\n",
      "  Iteration 20\t time lapse 43.94657s\t ll change 0.01599\n",
      "  Iteration 40\t time lapse 40.13243s\t ll change 0.00526\n",
      "  Iteration 60\t time lapse 40.61657s\t ll change 0.00261\n",
      "  Iteration 80\t time lapse 41.11161s\t ll change 0.00171\n",
      "Initialization converged: True\t time lapse 184.05371s\t ll 288.33980\n",
      "Initialization 2\n",
      "  Iteration 20\t time lapse 43.71201s\t ll change 0.03218\n",
      "  Iteration 40\t time lapse 40.70952s\t ll change 0.00435\n",
      "  Iteration 60\t time lapse 40.58639s\t ll change 0.00221\n",
      "  Iteration 80\t time lapse 42.08717s\t ll change 0.00089\n",
      "Initialization converged: True\t time lapse 167.09523s\t ll 288.89339\n",
      "Initialization 3\n",
      "  Iteration 20\t time lapse 43.99239s\t ll change 0.02596\n",
      "  Iteration 40\t time lapse 42.85482s\t ll change 0.01020\n",
      "  Iteration 60\t time lapse 42.17953s\t ll change 0.00910\n",
      "  Iteration 80\t time lapse 42.19873s\t ll change 0.00221\n",
      "Initialization converged: True\t time lapse 185.49094s\t ll 288.74137\n",
      "Initialization 4\n",
      "  Iteration 20\t time lapse 43.89556s\t ll change 0.01489\n",
      "  Iteration 40\t time lapse 43.46716s\t ll change 0.00448\n",
      "  Iteration 60\t time lapse 43.66445s\t ll change 0.00292\n",
      "  Iteration 80\t time lapse 43.15290s\t ll change 0.00393\n",
      "Initialization converged: True\t time lapse 193.72153s\t ll 288.33590\n",
      "Training baseline models\n",
      "Initialization 0\n",
      "Initialization converged: True\t time lapse 0.29606s\t ll 253.17554\n",
      "Initialization 0\n",
      "Initialization converged: True\t time lapse 0.70411s\t ll 275.87160\n",
      "\n",
      "            Report for product embedding GMM density estimator:\n",
      "            Model score: 261.81539967190747\n",
      "            Basline score: 252.38529089520318\n",
      "            Model improvement over baseline:\n",
      "            0.037363939646625086 percent\n",
      "        \n",
      "\n",
      "            Report for user embedding GMM density estimator:\n",
      "            Model score: 287.91374860631004\n",
      "            Basline score: 276.0545593050676\n",
      "            Model improvement over baseline:\n",
      "            0.04295958498601313 percent\n",
      "        \n"
     ]
    },
    {
     "data": {
      "application/javascript": [
       "\n",
       "            setTimeout(function() {\n",
       "                var nbb_cell_id = 8;\n",
       "                var nbb_unformatted_code = \"model.fit(product_embeddings, user_embeddings)\";\n",
       "                var nbb_formatted_code = \"model.fit(product_embeddings, user_embeddings)\";\n",
       "                var nbb_cells = Jupyter.notebook.get_cells();\n",
       "                for (var i = 0; i < nbb_cells.length; ++i) {\n",
       "                    if (nbb_cells[i].input_prompt_number == nbb_cell_id) {\n",
       "                        if (nbb_cells[i].get_text() == nbb_unformatted_code) {\n",
       "                             nbb_cells[i].set_text(nbb_formatted_code);\n",
       "                        }\n",
       "                        break;\n",
       "                    }\n",
       "                }\n",
       "            }, 500);\n",
       "            "
      ],
      "text/plain": [
       "<IPython.core.display.Javascript object>"
      ]
     },
     "metadata": {},
     "output_type": "display_data"
    }
   ],
   "source": [
    "model.fit(product_embeddings, user_embeddings)"
   ]
  },
  {
   "cell_type": "code",
   "execution_count": 9,
   "id": "16c753fb",
   "metadata": {},
   "outputs": [
    {
     "data": {
      "application/javascript": [
       "\n",
       "            setTimeout(function() {\n",
       "                var nbb_cell_id = 9;\n",
       "                var nbb_unformatted_code = \"model.save()\";\n",
       "                var nbb_formatted_code = \"model.save()\";\n",
       "                var nbb_cells = Jupyter.notebook.get_cells();\n",
       "                for (var i = 0; i < nbb_cells.length; ++i) {\n",
       "                    if (nbb_cells[i].input_prompt_number == nbb_cell_id) {\n",
       "                        if (nbb_cells[i].get_text() == nbb_unformatted_code) {\n",
       "                             nbb_cells[i].set_text(nbb_formatted_code);\n",
       "                        }\n",
       "                        break;\n",
       "                    }\n",
       "                }\n",
       "            }, 500);\n",
       "            "
      ],
      "text/plain": [
       "<IPython.core.display.Javascript object>"
      ]
     },
     "metadata": {},
     "output_type": "display_data"
    }
   ],
   "source": [
    "model.save()"
   ]
  },
  {
   "cell_type": "code",
   "execution_count": null,
   "id": "509f85a3",
   "metadata": {},
   "outputs": [],
   "source": []
  }
 ],
 "metadata": {
  "kernelspec": {
   "display_name": "Python 3 (ipykernel)",
   "language": "python",
   "name": "python3"
  },
  "language_info": {
   "codemirror_mode": {
    "name": "ipython",
    "version": 3
   },
   "file_extension": ".py",
   "mimetype": "text/x-python",
   "name": "python",
   "nbconvert_exporter": "python",
   "pygments_lexer": "ipython3",
   "version": "3.9.7"
  }
 },
 "nbformat": 4,
 "nbformat_minor": 5
}
