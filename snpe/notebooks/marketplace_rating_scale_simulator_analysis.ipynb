{
 "cells": [
  {
   "cell_type": "raw",
   "id": "51d00e1a",
   "metadata": {},
   "source": []
  },
  {
   "cell_type": "markdown",
   "id": "96879790",
   "metadata": {},
   "source": [
    "# This notebook is for use on cloud services where interactive use of matplotlib is hard. A script similar to this notebook is in in: snpe/rating_scale_simulator_analysis.py"
   ]
  },
  {
   "cell_type": "code",
   "execution_count": 1,
   "id": "d2095d65",
   "metadata": {},
   "outputs": [],
   "source": [
    "%load_ext autoreload\n",
    "%autoreload 2"
   ]
  },
  {
   "cell_type": "code",
   "execution_count": 2,
   "id": "14912a32",
   "metadata": {},
   "outputs": [
    {
     "data": {
      "application/javascript": [
       "\n",
       "            setTimeout(function() {\n",
       "                var nbb_cell_id = 2;\n",
       "                var nbb_unformatted_code = \"# Just a formatting related plugin\\n%load_ext nb_black\";\n",
       "                var nbb_formatted_code = \"# Just a formatting related plugin\\n%load_ext nb_black\";\n",
       "                var nbb_cells = Jupyter.notebook.get_cells();\n",
       "                for (var i = 0; i < nbb_cells.length; ++i) {\n",
       "                    if (nbb_cells[i].input_prompt_number == nbb_cell_id) {\n",
       "                        if (nbb_cells[i].get_text() == nbb_unformatted_code) {\n",
       "                             nbb_cells[i].set_text(nbb_formatted_code);\n",
       "                        }\n",
       "                        break;\n",
       "                    }\n",
       "                }\n",
       "            }, 500);\n",
       "            "
      ],
      "text/plain": [
       "<IPython.core.display.Javascript object>"
      ]
     },
     "metadata": {},
     "output_type": "display_data"
    }
   ],
   "source": [
    "# Just a formatting related plugin\n",
    "%load_ext nb_black"
   ]
  },
  {
   "cell_type": "code",
   "execution_count": 3,
   "id": "93ff67e7",
   "metadata": {},
   "outputs": [
    {
     "data": {
      "application/javascript": [
       "\n",
       "            setTimeout(function() {\n",
       "                var nbb_cell_id = 3;\n",
       "                var nbb_unformatted_code = \"%matplotlib inline\\nimport matplotlib.pyplot as plt\";\n",
       "                var nbb_formatted_code = \"%matplotlib inline\\nimport matplotlib.pyplot as plt\";\n",
       "                var nbb_cells = Jupyter.notebook.get_cells();\n",
       "                for (var i = 0; i < nbb_cells.length; ++i) {\n",
       "                    if (nbb_cells[i].input_prompt_number == nbb_cell_id) {\n",
       "                        if (nbb_cells[i].get_text() == nbb_unformatted_code) {\n",
       "                             nbb_cells[i].set_text(nbb_formatted_code);\n",
       "                        }\n",
       "                        break;\n",
       "                    }\n",
       "                }\n",
       "            }, 500);\n",
       "            "
      ],
      "text/plain": [
       "<IPython.core.display.Javascript object>"
      ]
     },
     "metadata": {},
     "output_type": "display_data"
    }
   ],
   "source": [
    "%matplotlib inline\n",
    "import matplotlib.pyplot as plt"
   ]
  },
  {
   "cell_type": "code",
   "execution_count": 4,
   "id": "6c45ecfb",
   "metadata": {},
   "outputs": [
    {
     "data": {
      "application/javascript": [
       "\n",
       "            setTimeout(function() {\n",
       "                var nbb_cell_id = 4;\n",
       "                var nbb_unformatted_code = \"import sys\\n\\nsys.path.append(\\\"../\\\")\";\n",
       "                var nbb_formatted_code = \"import sys\\n\\nsys.path.append(\\\"../\\\")\";\n",
       "                var nbb_cells = Jupyter.notebook.get_cells();\n",
       "                for (var i = 0; i < nbb_cells.length; ++i) {\n",
       "                    if (nbb_cells[i].input_prompt_number == nbb_cell_id) {\n",
       "                        if (nbb_cells[i].get_text() == nbb_unformatted_code) {\n",
       "                             nbb_cells[i].set_text(nbb_formatted_code);\n",
       "                        }\n",
       "                        break;\n",
       "                    }\n",
       "                }\n",
       "            }, 500);\n",
       "            "
      ],
      "text/plain": [
       "<IPython.core.display.Javascript object>"
      ]
     },
     "metadata": {},
     "output_type": "display_data"
    }
   ],
   "source": [
    "import sys\n",
    "\n",
    "sys.path.append(\"../\")"
   ]
  },
  {
   "cell_type": "code",
   "execution_count": 5,
   "id": "6a5b57e5",
   "metadata": {},
   "outputs": [
    {
     "data": {
      "application/javascript": [
       "\n",
       "            setTimeout(function() {\n",
       "                var nbb_cell_id = 5;\n",
       "                var nbb_unformatted_code = \"import multiprocessing as mp\\n\\nfrom collections import deque\\nfrom pathlib import Path\\nfrom typing import Dict, Optional\\n\\nimport arviz\\nimport pickle\\n\\nimport numpy as np\\nimport pandas as pd\\nimport pyreadr\\nimport sbi\\nimport sbi.utils as sbi_utils\\nimport seaborn as sns\\nimport statsmodels.formula.api as smf\\nimport torch\\n\\nfrom joblib import Parallel, delayed\\nfrom matplotlib.lines import Line2D\\nfrom scipy.stats import ttest_ind\\nfrom snpe.inference import inference_class\\nfrom snpe.simulations import simulator_class, marketplace_simulator_class\\nfrom snpe.embeddings.embeddings_to_ratings import EmbeddingRatingPredictor\\nfrom snpe.utils.statistics import review_histogram_correlation\\nfrom snpe.utils.tqdm_utils import tqdm_joblib\\nfrom tqdm import tqdm\\n\\n# Set plotting parameters\\nsns.set(style=\\\"white\\\", context=\\\"talk\\\", font_scale=2.5)\\nsns.set_color_codes(palette=\\\"colorblind\\\")\\nsns.set_style(\\\"ticks\\\", {\\\"axes.linewidth\\\": 2.0})\";\n",
       "                var nbb_formatted_code = \"import multiprocessing as mp\\n\\nfrom collections import deque\\nfrom pathlib import Path\\nfrom typing import Dict, Optional\\n\\nimport arviz\\nimport pickle\\n\\nimport numpy as np\\nimport pandas as pd\\nimport pyreadr\\nimport sbi\\nimport sbi.utils as sbi_utils\\nimport seaborn as sns\\nimport statsmodels.formula.api as smf\\nimport torch\\n\\nfrom joblib import Parallel, delayed\\nfrom matplotlib.lines import Line2D\\nfrom scipy.stats import ttest_ind\\nfrom snpe.inference import inference_class\\nfrom snpe.simulations import simulator_class, marketplace_simulator_class\\nfrom snpe.embeddings.embeddings_to_ratings import EmbeddingRatingPredictor\\nfrom snpe.utils.statistics import review_histogram_correlation\\nfrom snpe.utils.tqdm_utils import tqdm_joblib\\nfrom tqdm import tqdm\\n\\n# Set plotting parameters\\nsns.set(style=\\\"white\\\", context=\\\"talk\\\", font_scale=2.5)\\nsns.set_color_codes(palette=\\\"colorblind\\\")\\nsns.set_style(\\\"ticks\\\", {\\\"axes.linewidth\\\": 2.0})\";\n",
       "                var nbb_cells = Jupyter.notebook.get_cells();\n",
       "                for (var i = 0; i < nbb_cells.length; ++i) {\n",
       "                    if (nbb_cells[i].input_prompt_number == nbb_cell_id) {\n",
       "                        if (nbb_cells[i].get_text() == nbb_unformatted_code) {\n",
       "                             nbb_cells[i].set_text(nbb_formatted_code);\n",
       "                        }\n",
       "                        break;\n",
       "                    }\n",
       "                }\n",
       "            }, 500);\n",
       "            "
      ],
      "text/plain": [
       "<IPython.core.display.Javascript object>"
      ]
     },
     "metadata": {},
     "output_type": "display_data"
    }
   ],
   "source": [
    "import multiprocessing as mp\n",
    "\n",
    "from collections import deque\n",
    "from pathlib import Path\n",
    "from typing import Dict, Optional\n",
    "\n",
    "import arviz\n",
    "import pickle\n",
    "\n",
    "import numpy as np\n",
    "import pandas as pd\n",
    "import pyreadr\n",
    "import sbi\n",
    "import sbi.utils as sbi_utils\n",
    "import seaborn as sns\n",
    "import statsmodels.formula.api as smf\n",
    "import torch\n",
    "\n",
    "from joblib import Parallel, delayed\n",
    "from matplotlib.lines import Line2D\n",
    "from scipy.stats import ttest_ind\n",
    "from snpe.inference import inference_class\n",
    "from snpe.simulations import simulator_class, marketplace_simulator_class\n",
    "from snpe.embeddings.embeddings_to_ratings import EmbeddingRatingPredictor\n",
    "from snpe.utils.statistics import review_histogram_correlation\n",
    "from snpe.utils.tqdm_utils import tqdm_joblib\n",
    "from tqdm import tqdm\n",
    "\n",
    "# Set plotting parameters\n",
    "sns.set(style=\"white\", context=\"talk\", font_scale=2.5)\n",
    "sns.set_color_codes(palette=\"colorblind\")\n",
    "sns.set_style(\"ticks\", {\"axes.linewidth\": 2.0})"
   ]
  },
  {
   "cell_type": "code",
   "execution_count": 6,
   "id": "cd004dff",
   "metadata": {},
   "outputs": [
    {
     "data": {
      "application/javascript": [
       "\n",
       "            setTimeout(function() {\n",
       "                var nbb_cell_id = 6;\n",
       "                var nbb_unformatted_code = \"ARTIFACT_PATH = Path(\\\"../../../gcs_mount/artifacts/rating_spacing_simulator\\\")\\n# ARTIFACT_PATH = Path(\\\"/data/reputation-systems/snpe/artifacts/rating_spacing_simulator\\\")\";\n",
       "                var nbb_formatted_code = \"ARTIFACT_PATH = Path(\\\"../../../gcs_mount/artifacts/rating_spacing_simulator\\\")\\n# ARTIFACT_PATH = Path(\\\"/data/reputation-systems/snpe/artifacts/rating_spacing_simulator\\\")\";\n",
       "                var nbb_cells = Jupyter.notebook.get_cells();\n",
       "                for (var i = 0; i < nbb_cells.length; ++i) {\n",
       "                    if (nbb_cells[i].input_prompt_number == nbb_cell_id) {\n",
       "                        if (nbb_cells[i].get_text() == nbb_unformatted_code) {\n",
       "                             nbb_cells[i].set_text(nbb_formatted_code);\n",
       "                        }\n",
       "                        break;\n",
       "                    }\n",
       "                }\n",
       "            }, 500);\n",
       "            "
      ],
      "text/plain": [
       "<IPython.core.display.Javascript object>"
      ]
     },
     "metadata": {},
     "output_type": "display_data"
    }
   ],
   "source": [
    "ARTIFACT_PATH = Path(\"../../../gcs_mount/artifacts/rating_spacing_simulator\")\n",
    "# ARTIFACT_PATH = Path(\"/data/reputation-systems/snpe/artifacts/rating_spacing_simulator\")"
   ]
  },
  {
   "cell_type": "markdown",
   "id": "9573d550",
   "metadata": {},
   "source": [
    "# Functions"
   ]
  },
  {
   "cell_type": "code",
   "execution_count": 7,
   "id": "28e1af35",
   "metadata": {},
   "outputs": [
    {
     "data": {
      "application/javascript": [
       "\n",
       "            setTimeout(function() {\n",
       "                var nbb_cell_id = 7;\n",
       "                var nbb_unformatted_code = \"def generate_and_save_simulations(\\n    num_simulations: int,\\n    review_prior: np.array,\\n    tendency_to_rate: float,\\n    simulation_type: str,\\n    previous_rating_measure: str,\\n    min_reviews_for_herding: int,\\n    herding_differentiating_measure: str,\\n) -> None:\\n    params = {\\n        \\\"review_prior\\\": review_prior,\\n        \\\"tendency_to_rate\\\": tendency_to_rate,\\n        \\\"simulation_type\\\": simulation_type,\\n        \\\"previous_rating_measure\\\": previous_rating_measure,\\n        \\\"min_reviews_for_herding\\\": min_reviews_for_herding,\\n        \\\"herding_differentiating_measure\\\": herding_differentiating_measure,\\n    }\\n    simulator = simulator_class.DoubleHerdingSimulator(params)\\n    simulator.simulate(num_simulations=num_simulations)\\n    simulator.save_simulations(ARTIFACT_PATH)\";\n",
       "                var nbb_formatted_code = \"def generate_and_save_simulations(\\n    num_simulations: int,\\n    review_prior: np.array,\\n    tendency_to_rate: float,\\n    simulation_type: str,\\n    previous_rating_measure: str,\\n    min_reviews_for_herding: int,\\n    herding_differentiating_measure: str,\\n) -> None:\\n    params = {\\n        \\\"review_prior\\\": review_prior,\\n        \\\"tendency_to_rate\\\": tendency_to_rate,\\n        \\\"simulation_type\\\": simulation_type,\\n        \\\"previous_rating_measure\\\": previous_rating_measure,\\n        \\\"min_reviews_for_herding\\\": min_reviews_for_herding,\\n        \\\"herding_differentiating_measure\\\": herding_differentiating_measure,\\n    }\\n    simulator = simulator_class.DoubleHerdingSimulator(params)\\n    simulator.simulate(num_simulations=num_simulations)\\n    simulator.save_simulations(ARTIFACT_PATH)\";\n",
       "                var nbb_cells = Jupyter.notebook.get_cells();\n",
       "                for (var i = 0; i < nbb_cells.length; ++i) {\n",
       "                    if (nbb_cells[i].input_prompt_number == nbb_cell_id) {\n",
       "                        if (nbb_cells[i].get_text() == nbb_unformatted_code) {\n",
       "                             nbb_cells[i].set_text(nbb_formatted_code);\n",
       "                        }\n",
       "                        break;\n",
       "                    }\n",
       "                }\n",
       "            }, 500);\n",
       "            "
      ],
      "text/plain": [
       "<IPython.core.display.Javascript object>"
      ]
     },
     "metadata": {},
     "output_type": "display_data"
    }
   ],
   "source": [
    "def generate_and_save_simulations(\n",
    "    num_simulations: int,\n",
    "    review_prior: np.ndarray,\n",
    "    tendency_to_rate: float,\n",
    "    simulation_type: str,\n",
    "    previous_rating_measure: str,\n",
    "    min_reviews_for_herding: int,\n",
    "    herding_differentiating_measure: str,\n",
    ") -> None:\n",
    "    params = {\n",
    "        \"review_prior\": review_prior,\n",
    "        \"tendency_to_rate\": tendency_to_rate,\n",
    "        \"simulation_type\": simulation_type,\n",
    "        \"previous_rating_measure\": previous_rating_measure,\n",
    "        \"min_reviews_for_herding\": min_reviews_for_herding,\n",
    "        \"herding_differentiating_measure\": herding_differentiating_measure,\n",
    "    }\n",
    "    simulator = simulator_class.DoubleHerdingSimulator(params)\n",
    "    simulator.simulate(num_simulations=num_simulations)\n",
    "    simulator.save_simulations(ARTIFACT_PATH)"
   ]
  },
  {
   "cell_type": "code",
   "execution_count": 7,
   "id": "36374aba",
   "metadata": {},
   "outputs": [
    {
     "data": {
      "application/javascript": [
       "\n",
       "            setTimeout(function() {\n",
       "                var nbb_cell_id = 7;\n",
       "                var nbb_unformatted_code = \"def infer_and_save_posterior(\\n    device: str, simulator_type: str, simulation_type: str, params: Dict\\n) -> None:\\n    parameter_prior = sbi_utils.BoxUniform(\\n        low=torch.tensor([0.0, 0.0, 0.0, 0.0, 0.5, 0.25, 0.25, 0.5]).type(torch.FloatTensor),\\n        high=torch.tensor([4.0, 4.0, 1.0, 1.0, 1.0, 0.75, 0.75, 1.0]).type(torch.FloatTensor),\\n        device=device,\\n    )\\n    inferrer = inference_class.TimeSeriesInference(\\n        parameter_prior=parameter_prior, device=device\\n    )\\n    inferrer.load_simulator(\\n        dirname=ARTIFACT_PATH,\\n        simulator_type=simulator_type,\\n        simulation_type=simulation_type,\\n    )\\n    batch_size = params.pop(\\\"batch_size\\\")\\n    learning_rate = params.pop(\\\"learning_rate\\\")\\n    hidden_features = params.pop(\\\"hidden_features\\\")\\n    num_transforms = params.pop(\\\"num_transforms\\\")\\n    inferrer.infer_snpe_posterior(\\n        embedding_net_conf=params,\\n        batch_size=batch_size,\\n        learning_rate=learning_rate,\\n        hidden_features=hidden_features,\\n        num_transforms=num_transforms,\\n    )\\n    inferrer.save_inference(ARTIFACT_PATH)\";\n",
       "                var nbb_formatted_code = \"def infer_and_save_posterior(\\n    device: str, simulator_type: str, simulation_type: str, params: Dict\\n) -> None:\\n    parameter_prior = sbi_utils.BoxUniform(\\n        low=torch.tensor([0.0, 0.0, 0.0, 0.0, 0.5, 0.25, 0.25, 0.5]).type(\\n            torch.FloatTensor\\n        ),\\n        high=torch.tensor([4.0, 4.0, 1.0, 1.0, 1.0, 0.75, 0.75, 1.0]).type(\\n            torch.FloatTensor\\n        ),\\n        device=device,\\n    )\\n    inferrer = inference_class.TimeSeriesInference(\\n        parameter_prior=parameter_prior, device=device\\n    )\\n    inferrer.load_simulator(\\n        dirname=ARTIFACT_PATH,\\n        simulator_type=simulator_type,\\n        simulation_type=simulation_type,\\n    )\\n    batch_size = params.pop(\\\"batch_size\\\")\\n    learning_rate = params.pop(\\\"learning_rate\\\")\\n    hidden_features = params.pop(\\\"hidden_features\\\")\\n    num_transforms = params.pop(\\\"num_transforms\\\")\\n    inferrer.infer_snpe_posterior(\\n        embedding_net_conf=params,\\n        batch_size=batch_size,\\n        learning_rate=learning_rate,\\n        hidden_features=hidden_features,\\n        num_transforms=num_transforms,\\n    )\\n    inferrer.save_inference(ARTIFACT_PATH)\";\n",
       "                var nbb_cells = Jupyter.notebook.get_cells();\n",
       "                for (var i = 0; i < nbb_cells.length; ++i) {\n",
       "                    if (nbb_cells[i].input_prompt_number == nbb_cell_id) {\n",
       "                        if (nbb_cells[i].get_text() == nbb_unformatted_code) {\n",
       "                             nbb_cells[i].set_text(nbb_formatted_code);\n",
       "                        }\n",
       "                        break;\n",
       "                    }\n",
       "                }\n",
       "            }, 500);\n",
       "            "
      ],
      "text/plain": [
       "<IPython.core.display.Javascript object>"
      ]
     },
     "metadata": {},
     "output_type": "display_data"
    }
   ],
   "source": [
    "def infer_and_save_posterior(\n",
    "    device: str, simulator_type: str, simulation_type: str, params: Dict\n",
    ") -> None:\n",
    "    parameter_prior = sbi_utils.BoxUniform(\n",
    "        low=torch.tensor([0.0, 0.0, 0.0, 0.0, 0.5, 0.25, 0.25, 0.5]).type(torch.FloatTensor),\n",
    "        high=torch.tensor([4.0, 4.0, 1.0, 1.0, 1.0, 0.75, 0.75, 1.0]).type(torch.FloatTensor),\n",
    "        device=device,\n",
    "    )\n",
    "    inferrer = inference_class.TimeSeriesInference(\n",
    "        parameter_prior=parameter_prior, device=device\n",
    "    )\n",
    "    inferrer.load_simulator(\n",
    "        dirname=ARTIFACT_PATH,\n",
    "        simulator_type=simulator_type,\n",
    "        simulation_type=simulation_type,\n",
    "    )\n",
    "    batch_size = params.pop(\"batch_size\")\n",
    "    learning_rate = params.pop(\"learning_rate\")\n",
    "    hidden_features = params.pop(\"hidden_features\")\n",
    "    num_transforms = params.pop(\"num_transforms\")\n",
    "    inferrer.infer_snpe_posterior(\n",
    "        embedding_net_conf=params,\n",
    "        batch_size=batch_size,\n",
    "        learning_rate=learning_rate,\n",
    "        hidden_features=hidden_features,\n",
    "        num_transforms=num_transforms,\n",
    "    )\n",
    "    inferrer.save_inference(ARTIFACT_PATH)"
   ]
  },
  {
   "cell_type": "code",
   "execution_count": 22,
   "id": "528a78b2",
   "metadata": {},
   "outputs": [
    {
     "data": {
      "application/javascript": [
       "\n",
       "            setTimeout(function() {\n",
       "                var nbb_cell_id = 22;\n",
       "                var nbb_unformatted_code = \"def sample_posterior_with_observed(\\n    device: str,\\n    observations: np.array,\\n    num_samples: int,\\n    simulator_type: str,\\n    simulation_type: str,\\n) -> np.ndarray:\\n    # The parameter prior doesn't matter here as it will be overridden by that of the loaded inference object\\n    parameter_prior = sbi.utils.BoxUniform(\\n        low=torch.tensor([0.0, 0.0, 0.0, 0.0, 0.5, 0.25, 0.25, 0.5]).type(torch.FloatTensor),\\n        high=torch.tensor([4.0, 4.0, 1.0, 1.0, 1.0, 0.75, 0.75, 1.0]).type(torch.FloatTensor),\\n        device=device,\\n    )\\n    inferrer = inference_class.TimeSeriesInference(\\n        parameter_prior=parameter_prior, device=device\\n    )\\n    inferrer.load_simulator(\\n        dirname=ARTIFACT_PATH,\\n        simulator_type=simulator_type,\\n        simulation_type=simulation_type,\\n    )\\n    inferrer.load_inference(dirname=ARTIFACT_PATH)\\n    posterior_samples = inferrer.get_posterior_samples(\\n        observations, num_samples=num_samples\\n    )\\n    return posterior_samples\";\n",
       "                var nbb_formatted_code = \"def sample_posterior_with_observed(\\n    device: str,\\n    observations: np.array,\\n    num_samples: int,\\n    simulator_type: str,\\n    simulation_type: str,\\n) -> np.ndarray:\\n    # The parameter prior doesn't matter here as it will be overridden by that of the loaded inference object\\n    parameter_prior = sbi.utils.BoxUniform(\\n        low=torch.tensor([0.0, 0.0, 0.0, 0.0, 0.5, 0.25, 0.25, 0.5]).type(\\n            torch.FloatTensor\\n        ),\\n        high=torch.tensor([4.0, 4.0, 1.0, 1.0, 1.0, 0.75, 0.75, 1.0]).type(\\n            torch.FloatTensor\\n        ),\\n        device=device,\\n    )\\n    inferrer = inference_class.TimeSeriesInference(\\n        parameter_prior=parameter_prior, device=device\\n    )\\n    inferrer.load_simulator(\\n        dirname=ARTIFACT_PATH,\\n        simulator_type=simulator_type,\\n        simulation_type=simulation_type,\\n    )\\n    inferrer.load_inference(dirname=ARTIFACT_PATH)\\n    posterior_samples = inferrer.get_posterior_samples(\\n        observations, num_samples=num_samples\\n    )\\n    return posterior_samples\";\n",
       "                var nbb_cells = Jupyter.notebook.get_cells();\n",
       "                for (var i = 0; i < nbb_cells.length; ++i) {\n",
       "                    if (nbb_cells[i].input_prompt_number == nbb_cell_id) {\n",
       "                        if (nbb_cells[i].get_text() == nbb_unformatted_code) {\n",
       "                             nbb_cells[i].set_text(nbb_formatted_code);\n",
       "                        }\n",
       "                        break;\n",
       "                    }\n",
       "                }\n",
       "            }, 500);\n",
       "            "
      ],
      "text/plain": [
       "<IPython.core.display.Javascript object>"
      ]
     },
     "metadata": {},
     "output_type": "display_data"
    }
   ],
   "source": [
    "def sample_posterior_with_observed(\n",
    "    device: str,\n",
    "    observations: np.array,\n",
    "    num_samples: int,\n",
    "    simulator_type: str,\n",
    "    simulation_type: str,\n",
    ") -> np.ndarray:\n",
    "    # The parameter prior doesn't matter here as it will be overridden by that of the loaded inference object\n",
    "    parameter_prior = sbi.utils.BoxUniform(\n",
    "        low=torch.tensor([0.0, 0.0, 0.0, 0.0, 0.5, 0.25, 0.25, 0.5]).type(\n",
    "            torch.FloatTensor\n",
    "        ),\n",
    "        high=torch.tensor([4.0, 4.0, 1.0, 1.0, 1.0, 0.75, 0.75, 1.0]).type(\n",
    "            torch.FloatTensor\n",
    "        ),\n",
    "        device=device,\n",
    "    )\n",
    "    inferrer = inference_class.TimeSeriesInference(\n",
    "        parameter_prior=parameter_prior, device=device\n",
    "    )\n",
    "    inferrer.load_simulator(\n",
    "        dirname=ARTIFACT_PATH,\n",
    "        simulator_type=simulator_type,\n",
    "        simulation_type=simulation_type,\n",
    "    )\n",
    "    inferrer.load_inference(dirname=ARTIFACT_PATH)\n",
    "    posterior_samples = inferrer.get_posterior_samples(\n",
    "        observations, num_samples=num_samples\n",
    "    )\n",
    "    return posterior_samples"
   ]
  },
  {
   "cell_type": "code",
   "execution_count": 8,
   "id": "9b01fbd2",
   "metadata": {},
   "outputs": [
    {
     "data": {
      "application/javascript": [
       "\n",
       "            setTimeout(function() {\n",
       "                var nbb_cell_id = 8;\n",
       "                var nbb_unformatted_code = \"def plot_mean_posteriors_for_products(posterior_samples: np.ndarray) -> None:\\n    fig, ax = plt.subplots(1, 2, squeeze=False)\\n    ax[0, 0].hist(\\n        np.mean(posterior_samples[:, :, 0], axis=0),\\n        color=sns.xkcd_rgb[\\\"cerulean\\\"],\\n        alpha=0.5,\\n        bins=10,\\n        label=r\\\"$\\\\rho_{-}$\\\",\\n    )\\n    ax[0, 0].hist(\\n        np.mean(posterior_samples[:, :, 1], axis=0),\\n        color=sns.xkcd_rgb[\\\"dark orange\\\"],\\n        alpha=0.5,\\n        bins=10,\\n        label=r\\\"$\\\\rho_{+}$\\\",\\n    )\\n    ax[0, 1].hist(\\n        np.mean(posterior_samples[:, :, 2], axis=0),\\n        color=sns.xkcd_rgb[\\\"black\\\"],\\n        alpha=0.5,\\n        bins=10,\\n        label=r\\\"$h_p$\\\",\\n    )\\n    ax[0, 0].legend(fontsize=20)\\n    ax[0, 1].legend(fontsize=20)\\n    ax[0, 0].set_xticks([0, 1, 2, 3, 4])\\n    ax[0, 1].set_xticks([0, 0.5, 1])\\n    ax[0, 0].tick_params(axis=\\\"both\\\", labelsize=23)\\n    ax[0, 1].tick_params(axis=\\\"both\\\", labelsize=23)\\n    # add a big axis, hide frame\\n    fig.add_subplot(111, frameon=False)\\n    # hide tick and tick label of the big axis\\n    plt.tick_params(labelcolor=\\\"none\\\", top=False, bottom=False, left=False, right=False)\\n    # plt.xlabel(r\\\"$\\\\rho_{-}, \\\\rho_{+}$\\\")\\n    plt.ylabel(\\n        f\\\"Number of products (Total = {posterior_samples.shape[1]})\\\", fontsize=28\\n    )\\n    fig.savefig(ARTIFACT_PATH / \\\"mean_posteriors.png\\\", bbox_inches=\\\"tight\\\")\";\n",
       "                var nbb_formatted_code = \"def plot_mean_posteriors_for_products(posterior_samples: np.ndarray) -> None:\\n    fig, ax = plt.subplots(1, 2, squeeze=False)\\n    ax[0, 0].hist(\\n        np.mean(posterior_samples[:, :, 0], axis=0),\\n        color=sns.xkcd_rgb[\\\"cerulean\\\"],\\n        alpha=0.5,\\n        bins=10,\\n        label=r\\\"$\\\\rho_{-}$\\\",\\n    )\\n    ax[0, 0].hist(\\n        np.mean(posterior_samples[:, :, 1], axis=0),\\n        color=sns.xkcd_rgb[\\\"dark orange\\\"],\\n        alpha=0.5,\\n        bins=10,\\n        label=r\\\"$\\\\rho_{+}$\\\",\\n    )\\n    ax[0, 1].hist(\\n        np.mean(posterior_samples[:, :, 2], axis=0),\\n        color=sns.xkcd_rgb[\\\"black\\\"],\\n        alpha=0.5,\\n        bins=10,\\n        label=r\\\"$h_p$\\\",\\n    )\\n    ax[0, 0].legend(fontsize=20)\\n    ax[0, 1].legend(fontsize=20)\\n    ax[0, 0].set_xticks([0, 1, 2, 3, 4])\\n    ax[0, 1].set_xticks([0, 0.5, 1])\\n    ax[0, 0].tick_params(axis=\\\"both\\\", labelsize=23)\\n    ax[0, 1].tick_params(axis=\\\"both\\\", labelsize=23)\\n    # add a big axis, hide frame\\n    fig.add_subplot(111, frameon=False)\\n    # hide tick and tick label of the big axis\\n    plt.tick_params(labelcolor=\\\"none\\\", top=False, bottom=False, left=False, right=False)\\n    # plt.xlabel(r\\\"$\\\\rho_{-}, \\\\rho_{+}$\\\")\\n    plt.ylabel(\\n        f\\\"Number of products (Total = {posterior_samples.shape[1]})\\\", fontsize=28\\n    )\\n    fig.savefig(ARTIFACT_PATH / \\\"mean_posteriors.png\\\", bbox_inches=\\\"tight\\\")\";\n",
       "                var nbb_cells = Jupyter.notebook.get_cells();\n",
       "                for (var i = 0; i < nbb_cells.length; ++i) {\n",
       "                    if (nbb_cells[i].input_prompt_number == nbb_cell_id) {\n",
       "                        if (nbb_cells[i].get_text() == nbb_unformatted_code) {\n",
       "                             nbb_cells[i].set_text(nbb_formatted_code);\n",
       "                        }\n",
       "                        break;\n",
       "                    }\n",
       "                }\n",
       "            }, 500);\n",
       "            "
      ],
      "text/plain": [
       "<IPython.core.display.Javascript object>"
      ]
     },
     "metadata": {},
     "output_type": "display_data"
    }
   ],
   "source": [
    "def plot_mean_posteriors_for_products(posterior_samples: np.ndarray) -> None:\n",
    "    fig, ax = plt.subplots(1, 2, squeeze=False)\n",
    "    ax[0, 0].hist(\n",
    "        np.mean(posterior_samples[:, :, 0], axis=0),\n",
    "        color=sns.xkcd_rgb[\"cerulean\"],\n",
    "        alpha=0.5,\n",
    "        bins=10,\n",
    "        label=r\"$\\rho_{-}$\",\n",
    "    )\n",
    "    ax[0, 0].hist(\n",
    "        np.mean(posterior_samples[:, :, 1], axis=0),\n",
    "        color=sns.xkcd_rgb[\"dark orange\"],\n",
    "        alpha=0.5,\n",
    "        bins=10,\n",
    "        label=r\"$\\rho_{+}$\",\n",
    "    )\n",
    "    ax[0, 1].hist(\n",
    "        np.mean(posterior_samples[:, :, 2], axis=0),\n",
    "        color=sns.xkcd_rgb[\"black\"],\n",
    "        alpha=0.5,\n",
    "        bins=10,\n",
    "        label=r\"$h_p$\",\n",
    "    )\n",
    "    ax[0, 0].legend(fontsize=20)\n",
    "    ax[0, 1].legend(fontsize=20)\n",
    "    ax[0, 0].set_xticks([0, 1, 2, 3, 4])\n",
    "    ax[0, 1].set_xticks([0, 0.5, 1])\n",
    "    ax[0, 0].tick_params(axis=\"both\", labelsize=23)\n",
    "    ax[0, 1].tick_params(axis=\"both\", labelsize=23)\n",
    "    # add a big axis, hide frame\n",
    "    fig.add_subplot(111, frameon=False)\n",
    "    # hide tick and tick label of the big axis\n",
    "    plt.tick_params(labelcolor=\"none\", top=False, bottom=False, left=False, right=False)\n",
    "    # plt.xlabel(r\"$\\rho_{-}, \\rho_{+}$\")\n",
    "    plt.ylabel(\n",
    "        f\"Number of products (Total = {posterior_samples.shape[1]})\", fontsize=28\n",
    "    )\n",
    "    fig.savefig(ARTIFACT_PATH / \"mean_posteriors.png\", bbox_inches=\"tight\")"
   ]
  },
  {
   "cell_type": "code",
   "execution_count": 28,
   "id": "598b9a61",
   "metadata": {},
   "outputs": [
    {
     "data": {
      "application/javascript": [
       "\n",
       "            setTimeout(function() {\n",
       "                var nbb_cell_id = 28;\n",
       "                var nbb_unformatted_code = \"# In marketplace simulations, we cannot just supply a set of rho params, then simulate and infer on these simulations\\n# to test if the inference can recover the initially provided params\\n# So we instead sample from the posterior of a separate set of marketplace simulations not used in training and see\\n# if parameters are recovered on this new set\\ndef sample_posterior_on_simulations(\\n    device: str,\\n    num_samples: int,\\n    simulator_type: str,\\n    simulation_type: str,\\n    max_inference_length: int,\\n) -> np.ndarray:\\n    # We load the larger simulation (over 64 marketplaces) as the separate simulation for the inference to be tested on\\n    params = {\\n        \\\"review_prior\\\": np.ones(5),\\n        \\\"tendency_to_rate\\\": 0.05,\\n        \\\"simulation_type\\\": simulation_type,\\n        \\\"previous_rating_measure\\\": \\\"mode\\\",\\n        \\\"min_reviews_for_herding\\\": 5,\\n        \\\"num_products\\\": 1400,\\n        # \\\"num_products\\\": 100,\\n        \\\"num_total_marketplace_reviews\\\": 300_000,\\n        # \\\"num_total_marketplace_reviews\\\": 5_000,\\n        \\\"consideration_set_size\\\": 5,\\n    }\\n    simulator = marketplace_simulator_class.MarketplaceSimulator(params)\\n    simulator.load_simulator(ARTIFACT_PATH / \\\"large_simulation\\\")\\n    # We pick all simulations from a single marketplace as the observations on which we wish to obtain\\n    # posterior samples\\n    # These are the observations for the posterior sampling function defined above\\n    observations = simulator.simulations[0]\\n    # Also pick the simulation parameters corresponding to these simulations\\n    simulation_params = simulator.simulation_parameters.copy()\\n    simulation_params[\\\"rho\\\"] = simulation_params[\\\"rho\\\"][:len(observations), :]\\n    simulation_params[\\\"h_p\\\"] = simulation_params[\\\"h_p\\\"][:len(observations)]\\n    # Cut the observations to the max length seen during SNPE training\\n    observations = np.array(\\n        [obs[:max_inference_length, :] for obs in observations], dtype=\\\"object\\\"\\n    )\\n    posterior_samples = sample_posterior_with_observed(\\n        device, observations, num_samples, simulator_type, simulation_type\\n    )\\n    return posterior_samples, simulation_params\";\n",
       "                var nbb_formatted_code = \"# In marketplace simulations, we cannot just supply a set of rho params, then simulate and infer on these simulations\\n# to test if the inference can recover the initially provided params\\n# So we instead sample from the posterior of a separate set of marketplace simulations not used in training and see\\n# if parameters are recovered on this new set\\ndef sample_posterior_on_simulations(\\n    device: str,\\n    num_samples: int,\\n    simulator_type: str,\\n    simulation_type: str,\\n    max_inference_length: int,\\n) -> np.ndarray:\\n    # We load the larger simulation (over 64 marketplaces) as the separate simulation for the inference to be tested on\\n    params = {\\n        \\\"review_prior\\\": np.ones(5),\\n        \\\"tendency_to_rate\\\": 0.05,\\n        \\\"simulation_type\\\": simulation_type,\\n        \\\"previous_rating_measure\\\": \\\"mode\\\",\\n        \\\"min_reviews_for_herding\\\": 5,\\n        \\\"num_products\\\": 1400,\\n        # \\\"num_products\\\": 100,\\n        \\\"num_total_marketplace_reviews\\\": 300_000,\\n        # \\\"num_total_marketplace_reviews\\\": 5_000,\\n        \\\"consideration_set_size\\\": 5,\\n    }\\n    simulator = marketplace_simulator_class.MarketplaceSimulator(params)\\n    simulator.load_simulator(ARTIFACT_PATH / \\\"large_simulation\\\")\\n    # We pick all simulations from a single marketplace as the observations on which we wish to obtain\\n    # posterior samples\\n    # These are the observations for the posterior sampling function defined above\\n    observations = simulator.simulations[0]\\n    # Also pick the simulation parameters corresponding to these simulations\\n    simulation_params = simulator.simulation_parameters.copy()\\n    simulation_params[\\\"rho\\\"] = simulation_params[\\\"rho\\\"][: len(observations), :]\\n    simulation_params[\\\"h_p\\\"] = simulation_params[\\\"h_p\\\"][: len(observations)]\\n    # Cut the observations to the max length seen during SNPE training\\n    observations = np.array(\\n        [obs[:max_inference_length, :] for obs in observations], dtype=\\\"object\\\"\\n    )\\n    posterior_samples = sample_posterior_with_observed(\\n        device, observations, num_samples, simulator_type, simulation_type\\n    )\\n    return posterior_samples, simulation_params\";\n",
       "                var nbb_cells = Jupyter.notebook.get_cells();\n",
       "                for (var i = 0; i < nbb_cells.length; ++i) {\n",
       "                    if (nbb_cells[i].input_prompt_number == nbb_cell_id) {\n",
       "                        if (nbb_cells[i].get_text() == nbb_unformatted_code) {\n",
       "                             nbb_cells[i].set_text(nbb_formatted_code);\n",
       "                        }\n",
       "                        break;\n",
       "                    }\n",
       "                }\n",
       "            }, 500);\n",
       "            "
      ],
      "text/plain": [
       "<IPython.core.display.Javascript object>"
      ]
     },
     "metadata": {},
     "output_type": "display_data"
    }
   ],
   "source": [
    "# In marketplace simulations, we cannot just supply a set of rho params, then simulate and infer on these simulations\n",
    "# to test if the inference can recover the initially provided params\n",
    "# So we instead sample from the posterior of a separate set of marketplace simulations not used in training and see\n",
    "# if parameters are recovered on this new set\n",
    "def sample_posterior_on_simulations(\n",
    "    device: str,\n",
    "    num_samples: int,\n",
    "    simulator_type: str,\n",
    "    simulation_type: str,\n",
    "    max_inference_length: int,\n",
    ") -> np.ndarray:\n",
    "    # We load the larger simulation (over 64 marketplaces) as the separate simulation for the inference to be tested on\n",
    "    params = {\n",
    "        \"review_prior\": np.ones(5),\n",
    "        \"tendency_to_rate\": 0.05,\n",
    "        \"simulation_type\": simulation_type,\n",
    "        \"previous_rating_measure\": \"mode\",\n",
    "        \"min_reviews_for_herding\": 5,\n",
    "        \"num_products\": 1400,\n",
    "        # \"num_products\": 100,\n",
    "        \"num_total_marketplace_reviews\": 300_000,\n",
    "        # \"num_total_marketplace_reviews\": 5_000,\n",
    "        \"consideration_set_size\": 5,\n",
    "    }\n",
    "    simulator = marketplace_simulator_class.MarketplaceSimulator(params)\n",
    "    simulator.load_simulator(ARTIFACT_PATH / \"large_simulation\")\n",
    "    # We pick all simulations from a single marketplace as the observations on which we wish to obtain\n",
    "    # posterior samples\n",
    "    # These are the observations for the posterior sampling function defined above\n",
    "    observations = simulator.simulations[0]\n",
    "    # Also pick the simulation parameters corresponding to these simulations\n",
    "    simulation_params = simulator.simulation_parameters.copy()\n",
    "    simulation_params[\"rho\"] = simulation_params[\"rho\"][: len(observations), :]\n",
    "    simulation_params[\"h_p\"] = simulation_params[\"h_p\"][: len(observations)]\n",
    "    # Cut the observations to the max length seen during SNPE training\n",
    "    observations = np.array(\n",
    "        [obs[:max_inference_length, :] for obs in observations], dtype=\"object\"\n",
    "    )\n",
    "    posterior_samples = sample_posterior_with_observed(\n",
    "        device, observations, num_samples, simulator_type, simulation_type\n",
    "    )\n",
    "    return posterior_samples, simulation_params"
   ]
  },
  {
   "cell_type": "code",
   "execution_count": null,
   "id": "474c7807",
   "metadata": {},
   "outputs": [],
   "source": []
  },
  {
   "cell_type": "code",
   "execution_count": null,
   "id": "3842065e",
   "metadata": {},
   "outputs": [],
   "source": []
  },
  {
   "cell_type": "code",
   "execution_count": null,
   "id": "de7ed42d",
   "metadata": {},
   "outputs": [],
   "source": []
  },
  {
   "cell_type": "markdown",
   "id": "c7c94a14",
   "metadata": {},
   "source": [
    "# Actual code to run the functions above"
   ]
  },
  {
   "cell_type": "code",
   "execution_count": 8,
   "id": "59f5405e",
   "metadata": {},
   "outputs": [
    {
     "data": {
      "text/plain": [
       "16"
      ]
     },
     "execution_count": 8,
     "metadata": {},
     "output_type": "execute_result"
    },
    {
     "data": {
      "application/javascript": [
       "\n",
       "            setTimeout(function() {\n",
       "                var nbb_cell_id = 8;\n",
       "                var nbb_unformatted_code = \"torch.set_num_threads(mp.cpu_count())\\ntorch.get_num_threads()\";\n",
       "                var nbb_formatted_code = \"torch.set_num_threads(mp.cpu_count())\\ntorch.get_num_threads()\";\n",
       "                var nbb_cells = Jupyter.notebook.get_cells();\n",
       "                for (var i = 0; i < nbb_cells.length; ++i) {\n",
       "                    if (nbb_cells[i].input_prompt_number == nbb_cell_id) {\n",
       "                        if (nbb_cells[i].get_text() == nbb_unformatted_code) {\n",
       "                             nbb_cells[i].set_text(nbb_formatted_code);\n",
       "                        }\n",
       "                        break;\n",
       "                    }\n",
       "                }\n",
       "            }, 500);\n",
       "            "
      ],
      "text/plain": [
       "<IPython.core.display.Javascript object>"
      ]
     },
     "metadata": {},
     "output_type": "display_data"
    }
   ],
   "source": [
    "torch.set_num_threads(mp.cpu_count())\n",
    "torch.get_num_threads()"
   ]
  },
  {
   "cell_type": "code",
   "execution_count": 11,
   "id": "dd1108c8",
   "metadata": {},
   "outputs": [
    {
     "data": {
      "application/javascript": [
       "\n",
       "            setTimeout(function() {\n",
       "                var nbb_cell_id = 11;\n",
       "                var nbb_unformatted_code = \"inference_params = {\\n    \\\"batch_size\\\": 64,\\n    \\\"learning_rate\\\": 3.1e-4,\\n    \\\"hidden_features\\\": 70,\\n    \\\"num_transforms\\\": 8,\\n    \\\"num_conv_layers\\\": 2,\\n    \\\"num_channels\\\": 9,\\n    \\\"conv_kernel_size\\\": 17,\\n    \\\"maxpool_kernel_size\\\": 11,\\n    \\\"num_dense_layers\\\": 2,\\n}\";\n",
       "                var nbb_formatted_code = \"inference_params = {\\n    \\\"batch_size\\\": 64,\\n    \\\"learning_rate\\\": 3.1e-4,\\n    \\\"hidden_features\\\": 70,\\n    \\\"num_transforms\\\": 8,\\n    \\\"num_conv_layers\\\": 2,\\n    \\\"num_channels\\\": 9,\\n    \\\"conv_kernel_size\\\": 17,\\n    \\\"maxpool_kernel_size\\\": 11,\\n    \\\"num_dense_layers\\\": 2,\\n}\";\n",
       "                var nbb_cells = Jupyter.notebook.get_cells();\n",
       "                for (var i = 0; i < nbb_cells.length; ++i) {\n",
       "                    if (nbb_cells[i].input_prompt_number == nbb_cell_id) {\n",
       "                        if (nbb_cells[i].get_text() == nbb_unformatted_code) {\n",
       "                             nbb_cells[i].set_text(nbb_formatted_code);\n",
       "                        }\n",
       "                        break;\n",
       "                    }\n",
       "                }\n",
       "            }, 500);\n",
       "            "
      ],
      "text/plain": [
       "<IPython.core.display.Javascript object>"
      ]
     },
     "metadata": {},
     "output_type": "display_data"
    }
   ],
   "source": [
    "inference_params = {\n",
    "    \"batch_size\": 64,\n",
    "    \"learning_rate\": 3.1e-4,\n",
    "    \"hidden_features\": 70,\n",
    "    \"num_transforms\": 8,\n",
    "    \"num_conv_layers\": 2,\n",
    "    \"num_channels\": 9,\n",
    "    \"conv_kernel_size\": 17,\n",
    "    \"maxpool_kernel_size\": 11,\n",
    "    \"num_dense_layers\": 2,\n",
    "}"
   ]
  },
  {
   "cell_type": "code",
   "execution_count": 12,
   "id": "9a001f49",
   "metadata": {},
   "outputs": [
    {
     "name": "stdout",
     "output_type": "stream",
     "text": [
      "Embedding net created: \n",
      " Sequential(\n",
      "  (0): Conv1d(5, 9, kernel_size=(17,), stride=(1,), padding=(8,))\n",
      "  (1): LeakyReLU(negative_slope=0.01)\n",
      "  (2): Conv1d(9, 9, kernel_size=(17,), stride=(1,), padding=(16,), dilation=(2,))\n",
      "  (3): MaxPool1d(kernel_size=11, stride=11, padding=0, dilation=1, ceil_mode=False)\n",
      "  (4): Flatten(start_dim=1, end_dim=-1)\n",
      "  (5): LeakyReLU(negative_slope=0.01)\n",
      "  (6): Linear(in_features=513, out_features=64, bias=True)\n",
      "  (7): LeakyReLU(negative_slope=0.01)\n",
      "  (8): Linear(in_features=64, out_features=32, bias=True)\n",
      ")\n"
     ]
    },
    {
     "name": "stderr",
     "output_type": "stream",
     "text": [
      "/opt/conda/lib/python3.7/site-packages/sbi/utils/user_input_checks.py:697: UserWarning: Parameters theta has device 'cpu'. Moving theta to the data_device 'cuda:0'.Training will proceed on device 'cuda:0'.\n",
      "  f\"Parameters theta has device '{theta.device}'. \"\n"
     ]
    },
    {
     "name": "stdout",
     "output_type": "stream",
     "text": [
      " Neural network successfully converged after 109 epochs.\n",
      "        -------------------------\n",
      "        ||||| ROUND 1 STATS |||||:\n",
      "        -------------------------\n",
      "        Epochs trained: 109\n",
      "        Best validation performance: 3.6965\n",
      "        -------------------------\n",
      "        \n"
     ]
    },
    {
     "data": {
      "application/javascript": [
       "\n",
       "            setTimeout(function() {\n",
       "                var nbb_cell_id = 12;\n",
       "                var nbb_unformatted_code = \"infer_and_save_posterior(\\\"cuda\\\", \\\"marketplace\\\", \\\"timeseries\\\", inference_params)\";\n",
       "                var nbb_formatted_code = \"infer_and_save_posterior(\\\"cuda\\\", \\\"marketplace\\\", \\\"timeseries\\\", inference_params)\";\n",
       "                var nbb_cells = Jupyter.notebook.get_cells();\n",
       "                for (var i = 0; i < nbb_cells.length; ++i) {\n",
       "                    if (nbb_cells[i].input_prompt_number == nbb_cell_id) {\n",
       "                        if (nbb_cells[i].get_text() == nbb_unformatted_code) {\n",
       "                             nbb_cells[i].set_text(nbb_formatted_code);\n",
       "                        }\n",
       "                        break;\n",
       "                    }\n",
       "                }\n",
       "            }, 500);\n",
       "            "
      ],
      "text/plain": [
       "<IPython.core.display.Javascript object>"
      ]
     },
     "metadata": {},
     "output_type": "display_data"
    }
   ],
   "source": [
    "infer_and_save_posterior(\"cuda\", \"marketplace\", \"timeseries\", inference_params)"
   ]
  },
  {
   "cell_type": "code",
   "execution_count": 30,
   "id": "38085283",
   "metadata": {},
   "outputs": [
    {
     "data": {
      "application/javascript": [
       "\n",
       "            setTimeout(function() {\n",
       "                var nbb_cell_id = 30;\n",
       "                var nbb_unformatted_code = \"posterior_simulations, simulation_parameters = sample_posterior_on_simulations(\\n    \\\"cuda\\\", 10_000, \\\"marketplace\\\", \\\"timeseries\\\", 673\\n)\";\n",
       "                var nbb_formatted_code = \"posterior_simulations, simulation_parameters = sample_posterior_on_simulations(\\n    \\\"cuda\\\", 10_000, \\\"marketplace\\\", \\\"timeseries\\\", 673\\n)\";\n",
       "                var nbb_cells = Jupyter.notebook.get_cells();\n",
       "                for (var i = 0; i < nbb_cells.length; ++i) {\n",
       "                    if (nbb_cells[i].input_prompt_number == nbb_cell_id) {\n",
       "                        if (nbb_cells[i].get_text() == nbb_unformatted_code) {\n",
       "                             nbb_cells[i].set_text(nbb_formatted_code);\n",
       "                        }\n",
       "                        break;\n",
       "                    }\n",
       "                }\n",
       "            }, 500);\n",
       "            "
      ],
      "text/plain": [
       "<IPython.core.display.Javascript object>"
      ]
     },
     "metadata": {},
     "output_type": "display_data"
    }
   ],
   "source": [
    "posterior_simulations, simulation_parameters = sample_posterior_on_simulations(\n",
    "    \"cuda\", 10_000, \"marketplace\", \"timeseries\", 673\n",
    ")"
   ]
  },
  {
   "cell_type": "code",
   "execution_count": 31,
   "id": "b13fcc0a",
   "metadata": {},
   "outputs": [
    {
     "data": {
      "text/plain": [
       "(10000, 1400, 3)"
      ]
     },
     "execution_count": 31,
     "metadata": {},
     "output_type": "execute_result"
    },
    {
     "data": {
      "application/javascript": [
       "\n",
       "            setTimeout(function() {\n",
       "                var nbb_cell_id = 31;\n",
       "                var nbb_unformatted_code = \"posterior_simulations.shape\";\n",
       "                var nbb_formatted_code = \"posterior_simulations.shape\";\n",
       "                var nbb_cells = Jupyter.notebook.get_cells();\n",
       "                for (var i = 0; i < nbb_cells.length; ++i) {\n",
       "                    if (nbb_cells[i].input_prompt_number == nbb_cell_id) {\n",
       "                        if (nbb_cells[i].get_text() == nbb_unformatted_code) {\n",
       "                             nbb_cells[i].set_text(nbb_formatted_code);\n",
       "                        }\n",
       "                        break;\n",
       "                    }\n",
       "                }\n",
       "            }, 500);\n",
       "            "
      ],
      "text/plain": [
       "<IPython.core.display.Javascript object>"
      ]
     },
     "metadata": {},
     "output_type": "display_data"
    }
   ],
   "source": [
    "posterior_simulations.shape"
   ]
  },
  {
   "cell_type": "code",
   "execution_count": 33,
   "id": "f428e4ce",
   "metadata": {},
   "outputs": [
    {
     "data": {
      "text/plain": [
       "(1400, 2)"
      ]
     },
     "execution_count": 33,
     "metadata": {},
     "output_type": "execute_result"
    },
    {
     "data": {
      "application/javascript": [
       "\n",
       "            setTimeout(function() {\n",
       "                var nbb_cell_id = 33;\n",
       "                var nbb_unformatted_code = \"simulation_parameters[\\\"rho\\\"].shape\";\n",
       "                var nbb_formatted_code = \"simulation_parameters[\\\"rho\\\"].shape\";\n",
       "                var nbb_cells = Jupyter.notebook.get_cells();\n",
       "                for (var i = 0; i < nbb_cells.length; ++i) {\n",
       "                    if (nbb_cells[i].input_prompt_number == nbb_cell_id) {\n",
       "                        if (nbb_cells[i].get_text() == nbb_unformatted_code) {\n",
       "                             nbb_cells[i].set_text(nbb_formatted_code);\n",
       "                        }\n",
       "                        break;\n",
       "                    }\n",
       "                }\n",
       "            }, 500);\n",
       "            "
      ],
      "text/plain": [
       "<IPython.core.display.Javascript object>"
      ]
     },
     "metadata": {},
     "output_type": "display_data"
    }
   ],
   "source": [
    "simulation_parameters[\"rho\"].shape"
   ]
  },
  {
   "cell_type": "code",
   "execution_count": 40,
   "id": "c348c647",
   "metadata": {},
   "outputs": [
    {
     "data": {
      "application/javascript": [
       "\n",
       "            setTimeout(function() {\n",
       "                var nbb_cell_id = 40;\n",
       "                var nbb_unformatted_code = \"save_dict = {\\n    \\\"posterior_simulations\\\": posterior_simulations,\\n    \\\"simulation_parameters\\\": simulation_parameters,\\n}\";\n",
       "                var nbb_formatted_code = \"save_dict = {\\n    \\\"posterior_simulations\\\": posterior_simulations,\\n    \\\"simulation_parameters\\\": simulation_parameters,\\n}\";\n",
       "                var nbb_cells = Jupyter.notebook.get_cells();\n",
       "                for (var i = 0; i < nbb_cells.length; ++i) {\n",
       "                    if (nbb_cells[i].input_prompt_number == nbb_cell_id) {\n",
       "                        if (nbb_cells[i].get_text() == nbb_unformatted_code) {\n",
       "                             nbb_cells[i].set_text(nbb_formatted_code);\n",
       "                        }\n",
       "                        break;\n",
       "                    }\n",
       "                }\n",
       "            }, 500);\n",
       "            "
      ],
      "text/plain": [
       "<IPython.core.display.Javascript object>"
      ]
     },
     "metadata": {},
     "output_type": "display_data"
    }
   ],
   "source": [
    "save_dict = {\n",
    "    \"posterior_simulations\": posterior_simulations,\n",
    "    \"simulation_parameters\": simulation_parameters,\n",
    "}"
   ]
  },
  {
   "cell_type": "code",
   "execution_count": 41,
   "id": "8291b29e",
   "metadata": {},
   "outputs": [
    {
     "data": {
      "application/javascript": [
       "\n",
       "            setTimeout(function() {\n",
       "                var nbb_cell_id = 41;\n",
       "                var nbb_unformatted_code = \"with open(ARTIFACT_PATH / \\\"posterior_inference_on_simulations.pkl\\\", \\\"wb\\\") as f:\\n    pickle.dump(save_dict, f)\";\n",
       "                var nbb_formatted_code = \"with open(ARTIFACT_PATH / \\\"posterior_inference_on_simulations.pkl\\\", \\\"wb\\\") as f:\\n    pickle.dump(save_dict, f)\";\n",
       "                var nbb_cells = Jupyter.notebook.get_cells();\n",
       "                for (var i = 0; i < nbb_cells.length; ++i) {\n",
       "                    if (nbb_cells[i].input_prompt_number == nbb_cell_id) {\n",
       "                        if (nbb_cells[i].get_text() == nbb_unformatted_code) {\n",
       "                             nbb_cells[i].set_text(nbb_formatted_code);\n",
       "                        }\n",
       "                        break;\n",
       "                    }\n",
       "                }\n",
       "            }, 500);\n",
       "            "
      ],
      "text/plain": [
       "<IPython.core.display.Javascript object>"
      ]
     },
     "metadata": {},
     "output_type": "display_data"
    }
   ],
   "source": [
    "with open(ARTIFACT_PATH / \"posterior_inference_on_simulations.pkl\", \"wb\") as f:\n",
    "    pickle.dump(save_dict, f)"
   ]
  },
  {
   "cell_type": "code",
   "execution_count": null,
   "id": "6b41d9c7",
   "metadata": {},
   "outputs": [],
   "source": []
  },
  {
   "cell_type": "code",
   "execution_count": null,
   "id": "fb62a4ca",
   "metadata": {},
   "outputs": [],
   "source": []
  },
  {
   "cell_type": "markdown",
   "id": "991605ac",
   "metadata": {},
   "source": [
    "# Working with the observed data"
   ]
  },
  {
   "cell_type": "code",
   "execution_count": 7,
   "id": "ad754950",
   "metadata": {},
   "outputs": [
    {
     "data": {
      "text/html": [
       "<div>\n",
       "<style scoped>\n",
       "    .dataframe tbody tr th:only-of-type {\n",
       "        vertical-align: middle;\n",
       "    }\n",
       "\n",
       "    .dataframe tbody tr th {\n",
       "        vertical-align: top;\n",
       "    }\n",
       "\n",
       "    .dataframe thead th {\n",
       "        text-align: right;\n",
       "    }\n",
       "</style>\n",
       "<table border=\"1\" class=\"dataframe\">\n",
       "  <thead>\n",
       "    <tr style=\"text-align: right;\">\n",
       "      <th></th>\n",
       "      <th>asin</th>\n",
       "      <th>overall</th>\n",
       "      <th>ReviewId</th>\n",
       "      <th>unixReviewTime</th>\n",
       "      <th>rootcategoryid</th>\n",
       "    </tr>\n",
       "  </thead>\n",
       "  <tbody>\n",
       "    <tr>\n",
       "      <th>0</th>\n",
       "      <td>670155</td>\n",
       "      <td>4</td>\n",
       "      <td>3480905</td>\n",
       "      <td>2009-02-10</td>\n",
       "      <td>33005908</td>\n",
       "    </tr>\n",
       "    <tr>\n",
       "      <th>1</th>\n",
       "      <td>670155</td>\n",
       "      <td>3</td>\n",
       "      <td>3535864</td>\n",
       "      <td>2009-02-24</td>\n",
       "      <td>33005908</td>\n",
       "    </tr>\n",
       "    <tr>\n",
       "      <th>2</th>\n",
       "      <td>670155</td>\n",
       "      <td>5</td>\n",
       "      <td>3539112</td>\n",
       "      <td>2009-02-24</td>\n",
       "      <td>33005908</td>\n",
       "    </tr>\n",
       "    <tr>\n",
       "      <th>3</th>\n",
       "      <td>670155</td>\n",
       "      <td>4</td>\n",
       "      <td>3539514</td>\n",
       "      <td>2009-02-25</td>\n",
       "      <td>33005908</td>\n",
       "    </tr>\n",
       "    <tr>\n",
       "      <th>4</th>\n",
       "      <td>670155</td>\n",
       "      <td>1</td>\n",
       "      <td>3556157</td>\n",
       "      <td>2009-03-05</td>\n",
       "      <td>33005908</td>\n",
       "    </tr>\n",
       "  </tbody>\n",
       "</table>\n",
       "</div>"
      ],
      "text/plain": [
       "     asin  overall  ReviewId unixReviewTime  rootcategoryid\n",
       "0  670155        4   3480905     2009-02-10        33005908\n",
       "1  670155        3   3535864     2009-02-24        33005908\n",
       "2  670155        5   3539112     2009-02-24        33005908\n",
       "3  670155        4   3539514     2009-02-25        33005908\n",
       "4  670155        1   3556157     2009-03-05        33005908"
      ]
     },
     "execution_count": 7,
     "metadata": {},
     "output_type": "execute_result"
    },
    {
     "data": {
      "application/javascript": [
       "\n",
       "            setTimeout(function() {\n",
       "                var nbb_cell_id = 7;\n",
       "                var nbb_unformatted_code = \"# reviews = pyreadr.read_r(\\n#    \\\"/data/Dropbox/SNPE/all_data/reviews_bazaarvoice_main_vars.Rds\\\"\\n# )\\nreviews = pyreadr.read_r(ARTIFACT_PATH / \\\"reviews_bazaarvoice_main_vars.Rds\\\")\\n# reviews = pyreadr.read_r(\\n#    Path(\\\"../../../gcs_mount/artifacts/marketplace/\\\")\\n#    / \\\"reviews_bazaarvoice_main_vars.Rds\\\"\\n# )\\nreviews = reviews[None]\\nreviews.head()\";\n",
       "                var nbb_formatted_code = \"# reviews = pyreadr.read_r(\\n#    \\\"/data/Dropbox/SNPE/all_data/reviews_bazaarvoice_main_vars.Rds\\\"\\n# )\\nreviews = pyreadr.read_r(ARTIFACT_PATH / \\\"reviews_bazaarvoice_main_vars.Rds\\\")\\n# reviews = pyreadr.read_r(\\n#    Path(\\\"../../../gcs_mount/artifacts/marketplace/\\\")\\n#    / \\\"reviews_bazaarvoice_main_vars.Rds\\\"\\n# )\\nreviews = reviews[None]\\nreviews.head()\";\n",
       "                var nbb_cells = Jupyter.notebook.get_cells();\n",
       "                for (var i = 0; i < nbb_cells.length; ++i) {\n",
       "                    if (nbb_cells[i].input_prompt_number == nbb_cell_id) {\n",
       "                        if (nbb_cells[i].get_text() == nbb_unformatted_code) {\n",
       "                             nbb_cells[i].set_text(nbb_formatted_code);\n",
       "                        }\n",
       "                        break;\n",
       "                    }\n",
       "                }\n",
       "            }, 500);\n",
       "            "
      ],
      "text/plain": [
       "<IPython.core.display.Javascript object>"
      ]
     },
     "metadata": {},
     "output_type": "display_data"
    }
   ],
   "source": [
    "# reviews = pyreadr.read_r(\n",
    "#    \"/data/Dropbox/SNPE/all_data/reviews_bazaarvoice_main_vars.Rds\"\n",
    "# )\n",
    "reviews = pyreadr.read_r(ARTIFACT_PATH / \"reviews_bazaarvoice_main_vars.Rds\")\n",
    "# reviews = pyreadr.read_r(\n",
    "#    Path(\"../../../gcs_mount/artifacts/marketplace/\")\n",
    "#    / \"reviews_bazaarvoice_main_vars.Rds\"\n",
    "# )\n",
    "reviews = reviews[None]\n",
    "reviews.head()"
   ]
  },
  {
   "cell_type": "code",
   "execution_count": 8,
   "id": "513aa7ab",
   "metadata": {},
   "outputs": [
    {
     "data": {
      "application/javascript": [
       "\n",
       "            setTimeout(function() {\n",
       "                var nbb_cell_id = 8;\n",
       "                var nbb_unformatted_code = \"pd.testing.assert_frame_equal(reviews, reviews.sort_values([\\\"asin\\\", \\\"unixReviewTime\\\"]))\";\n",
       "                var nbb_formatted_code = \"pd.testing.assert_frame_equal(reviews, reviews.sort_values([\\\"asin\\\", \\\"unixReviewTime\\\"]))\";\n",
       "                var nbb_cells = Jupyter.notebook.get_cells();\n",
       "                for (var i = 0; i < nbb_cells.length; ++i) {\n",
       "                    if (nbb_cells[i].input_prompt_number == nbb_cell_id) {\n",
       "                        if (nbb_cells[i].get_text() == nbb_unformatted_code) {\n",
       "                             nbb_cells[i].set_text(nbb_formatted_code);\n",
       "                        }\n",
       "                        break;\n",
       "                    }\n",
       "                }\n",
       "            }, 500);\n",
       "            "
      ],
      "text/plain": [
       "<IPython.core.display.Javascript object>"
      ]
     },
     "metadata": {},
     "output_type": "display_data"
    }
   ],
   "source": [
    "pd.testing.assert_frame_equal(reviews, reviews.sort_values([\"asin\", \"unixReviewTime\"]))"
   ]
  },
  {
   "cell_type": "code",
   "execution_count": 9,
   "id": "06236636",
   "metadata": {},
   "outputs": [
    {
     "data": {
      "text/plain": [
       "1293"
      ]
     },
     "execution_count": 9,
     "metadata": {},
     "output_type": "execute_result"
    },
    {
     "data": {
      "application/javascript": [
       "\n",
       "            setTimeout(function() {\n",
       "                var nbb_cell_id = 9;\n",
       "                var nbb_unformatted_code = \"reviews.asin.value_counts().max()\";\n",
       "                var nbb_formatted_code = \"reviews.asin.value_counts().max()\";\n",
       "                var nbb_cells = Jupyter.notebook.get_cells();\n",
       "                for (var i = 0; i < nbb_cells.length; ++i) {\n",
       "                    if (nbb_cells[i].input_prompt_number == nbb_cell_id) {\n",
       "                        if (nbb_cells[i].get_text() == nbb_unformatted_code) {\n",
       "                             nbb_cells[i].set_text(nbb_formatted_code);\n",
       "                        }\n",
       "                        break;\n",
       "                    }\n",
       "                }\n",
       "            }, 500);\n",
       "            "
      ],
      "text/plain": [
       "<IPython.core.display.Javascript object>"
      ]
     },
     "metadata": {},
     "output_type": "display_data"
    }
   ],
   "source": [
    "reviews.asin.value_counts().max()"
   ]
  },
  {
   "cell_type": "code",
   "execution_count": 10,
   "id": "47c4e894",
   "metadata": {},
   "outputs": [
    {
     "data": {
      "text/plain": [
       "(1406,)"
      ]
     },
     "execution_count": 10,
     "metadata": {},
     "output_type": "execute_result"
    },
    {
     "data": {
      "application/javascript": [
       "\n",
       "            setTimeout(function() {\n",
       "                var nbb_cell_id = 10;\n",
       "                var nbb_unformatted_code = \"reviews.asin.unique().shape\";\n",
       "                var nbb_formatted_code = \"reviews.asin.unique().shape\";\n",
       "                var nbb_cells = Jupyter.notebook.get_cells();\n",
       "                for (var i = 0; i < nbb_cells.length; ++i) {\n",
       "                    if (nbb_cells[i].input_prompt_number == nbb_cell_id) {\n",
       "                        if (nbb_cells[i].get_text() == nbb_unformatted_code) {\n",
       "                             nbb_cells[i].set_text(nbb_formatted_code);\n",
       "                        }\n",
       "                        break;\n",
       "                    }\n",
       "                }\n",
       "            }, 500);\n",
       "            "
      ],
      "text/plain": [
       "<IPython.core.display.Javascript object>"
      ]
     },
     "metadata": {},
     "output_type": "display_data"
    }
   ],
   "source": [
    "reviews.asin.unique().shape"
   ]
  },
  {
   "cell_type": "code",
   "execution_count": 11,
   "id": "2eb1016e",
   "metadata": {},
   "outputs": [
    {
     "data": {
      "text/plain": [
       "count    1406.000000\n",
       "mean       96.212660\n",
       "std       126.677148\n",
       "min         1.000000\n",
       "25%        25.250000\n",
       "50%        51.000000\n",
       "75%       113.000000\n",
       "max      1293.000000\n",
       "Name: asin, dtype: float64"
      ]
     },
     "execution_count": 11,
     "metadata": {},
     "output_type": "execute_result"
    },
    {
     "data": {
      "application/javascript": [
       "\n",
       "            setTimeout(function() {\n",
       "                var nbb_cell_id = 11;\n",
       "                var nbb_unformatted_code = \"reviews.asin.value_counts().describe()\";\n",
       "                var nbb_formatted_code = \"reviews.asin.value_counts().describe()\";\n",
       "                var nbb_cells = Jupyter.notebook.get_cells();\n",
       "                for (var i = 0; i < nbb_cells.length; ++i) {\n",
       "                    if (nbb_cells[i].input_prompt_number == nbb_cell_id) {\n",
       "                        if (nbb_cells[i].get_text() == nbb_unformatted_code) {\n",
       "                             nbb_cells[i].set_text(nbb_formatted_code);\n",
       "                        }\n",
       "                        break;\n",
       "                    }\n",
       "                }\n",
       "            }, 500);\n",
       "            "
      ],
      "text/plain": [
       "<IPython.core.display.Javascript object>"
      ]
     },
     "metadata": {},
     "output_type": "display_data"
    }
   ],
   "source": [
    "reviews.asin.value_counts().describe()"
   ]
  },
  {
   "cell_type": "code",
   "execution_count": 12,
   "id": "d7749342",
   "metadata": {},
   "outputs": [
    {
     "data": {
      "application/javascript": [
       "\n",
       "            setTimeout(function() {\n",
       "                var nbb_cell_id = 12;\n",
       "                var nbb_unformatted_code = \"# Pull out the ratings from the timeseries DF and convert them into a format\\n# that can be fed into the inference engine\\n# Also save a list of the asin values to have the order in which products appear in the timeseries list\\ntimeseries_data = []\\ntimeseries_asin = []\\nfor product in reviews.asin.unique():\\n    # We were cutting off at 5001 reviews earlier when we could control the number of reviews per product in the sims\\n    # But now, we put the max len of the deque a little higher than the number of reviews\\n    # for the most reviewed product (around 1300)\\n    # Actually we have to use the length that the simulations were padded to during inference (=longest simulated\\n    # review timeseries = 628 in this case). Also remember that we add [1, 1, 1, 1, 1] at the beginning as the\\n    # starting histogram, so the product ratings need to be cut to 627\\n    timeseries = deque([np.ones(5)], maxlen=628)\\n    ratings = np.array(reviews.loc[reviews.asin == product, \\\"overall\\\"])\\n    ratings = ratings[:627]\\n    for rating in ratings:\\n        current_histogram = timeseries[-1].copy()\\n        current_histogram[int(rating - 1)] += 1\\n        timeseries.append(current_histogram)\\n    timeseries_data.append(np.array(timeseries))\\n    timeseries_asin.append(product)\\ntimeseries_data = np.array(timeseries_data, dtype=\\\"object\\\")\\ntimeseries_asin = np.array(timeseries_asin, dtype=\\\"int\\\")\";\n",
       "                var nbb_formatted_code = \"# Pull out the ratings from the timeseries DF and convert them into a format\\n# that can be fed into the inference engine\\n# Also save a list of the asin values to have the order in which products appear in the timeseries list\\ntimeseries_data = []\\ntimeseries_asin = []\\nfor product in reviews.asin.unique():\\n    # We were cutting off at 5001 reviews earlier when we could control the number of reviews per product in the sims\\n    # But now, we put the max len of the deque a little higher than the number of reviews\\n    # for the most reviewed product (around 1300)\\n    # Actually we have to use the length that the simulations were padded to during inference (=longest simulated\\n    # review timeseries = 628 in this case). Also remember that we add [1, 1, 1, 1, 1] at the beginning as the\\n    # starting histogram, so the product ratings need to be cut to 627\\n    timeseries = deque([np.ones(5)], maxlen=628)\\n    ratings = np.array(reviews.loc[reviews.asin == product, \\\"overall\\\"])\\n    ratings = ratings[:627]\\n    for rating in ratings:\\n        current_histogram = timeseries[-1].copy()\\n        current_histogram[int(rating - 1)] += 1\\n        timeseries.append(current_histogram)\\n    timeseries_data.append(np.array(timeseries))\\n    timeseries_asin.append(product)\\ntimeseries_data = np.array(timeseries_data, dtype=\\\"object\\\")\\ntimeseries_asin = np.array(timeseries_asin, dtype=\\\"int\\\")\";\n",
       "                var nbb_cells = Jupyter.notebook.get_cells();\n",
       "                for (var i = 0; i < nbb_cells.length; ++i) {\n",
       "                    if (nbb_cells[i].input_prompt_number == nbb_cell_id) {\n",
       "                        if (nbb_cells[i].get_text() == nbb_unformatted_code) {\n",
       "                             nbb_cells[i].set_text(nbb_formatted_code);\n",
       "                        }\n",
       "                        break;\n",
       "                    }\n",
       "                }\n",
       "            }, 500);\n",
       "            "
      ],
      "text/plain": [
       "<IPython.core.display.Javascript object>"
      ]
     },
     "metadata": {},
     "output_type": "display_data"
    }
   ],
   "source": [
    "# Pull out the ratings from the timeseries DF and convert them into a format\n",
    "# that can be fed into the inference engine\n",
    "# Also save a list of the asin values to have the order in which products appear in the timeseries list\n",
    "timeseries_data = []\n",
    "timeseries_asin = []\n",
    "for product in reviews.asin.unique():\n",
    "    # We were cutting off at 5001 reviews earlier when we could control the number of reviews per product in the sims\n",
    "    # But now, we put the max len of the deque a little higher than the number of reviews\n",
    "    # for the most reviewed product (around 1300)\n",
    "    # Actually we have to use the length that the simulations were padded to during inference (=longest simulated\n",
    "    # review timeseries = 628 in this case). Also remember that we add [1, 1, 1, 1, 1] at the beginning as the\n",
    "    # starting histogram, so the product ratings need to be cut to 627\n",
    "    timeseries = deque([np.ones(5)], maxlen=628)\n",
    "    ratings = np.array(reviews.loc[reviews.asin == product, \"overall\"])\n",
    "    ratings = ratings[:627]\n",
    "    for rating in ratings:\n",
    "        current_histogram = timeseries[-1].copy()\n",
    "        current_histogram[int(rating - 1)] += 1\n",
    "        timeseries.append(current_histogram)\n",
    "    timeseries_data.append(np.array(timeseries))\n",
    "    timeseries_asin.append(product)\n",
    "timeseries_data = np.array(timeseries_data, dtype=\"object\")\n",
    "timeseries_asin = np.array(timeseries_asin, dtype=\"int\")"
   ]
  },
  {
   "cell_type": "code",
   "execution_count": 13,
   "id": "fd22904a",
   "metadata": {},
   "outputs": [
    {
     "data": {
      "text/plain": [
       "(1406,)"
      ]
     },
     "execution_count": 13,
     "metadata": {},
     "output_type": "execute_result"
    },
    {
     "data": {
      "application/javascript": [
       "\n",
       "            setTimeout(function() {\n",
       "                var nbb_cell_id = 13;\n",
       "                var nbb_unformatted_code = \"timeseries_data.shape\";\n",
       "                var nbb_formatted_code = \"timeseries_data.shape\";\n",
       "                var nbb_cells = Jupyter.notebook.get_cells();\n",
       "                for (var i = 0; i < nbb_cells.length; ++i) {\n",
       "                    if (nbb_cells[i].input_prompt_number == nbb_cell_id) {\n",
       "                        if (nbb_cells[i].get_text() == nbb_unformatted_code) {\n",
       "                             nbb_cells[i].set_text(nbb_formatted_code);\n",
       "                        }\n",
       "                        break;\n",
       "                    }\n",
       "                }\n",
       "            }, 500);\n",
       "            "
      ],
      "text/plain": [
       "<IPython.core.display.Javascript object>"
      ]
     },
     "metadata": {},
     "output_type": "display_data"
    }
   ],
   "source": [
    "timeseries_data.shape"
   ]
  },
  {
   "cell_type": "code",
   "execution_count": 14,
   "id": "757fb374",
   "metadata": {},
   "outputs": [
    {
     "data": {
      "text/plain": [
       "array([ 670155,  671312, 1017360, ..., 9822904, 9822911, 9827954])"
      ]
     },
     "execution_count": 14,
     "metadata": {},
     "output_type": "execute_result"
    },
    {
     "data": {
      "application/javascript": [
       "\n",
       "            setTimeout(function() {\n",
       "                var nbb_cell_id = 14;\n",
       "                var nbb_unformatted_code = \"timeseries_asin\";\n",
       "                var nbb_formatted_code = \"timeseries_asin\";\n",
       "                var nbb_cells = Jupyter.notebook.get_cells();\n",
       "                for (var i = 0; i < nbb_cells.length; ++i) {\n",
       "                    if (nbb_cells[i].input_prompt_number == nbb_cell_id) {\n",
       "                        if (nbb_cells[i].get_text() == nbb_unformatted_code) {\n",
       "                             nbb_cells[i].set_text(nbb_formatted_code);\n",
       "                        }\n",
       "                        break;\n",
       "                    }\n",
       "                }\n",
       "            }, 500);\n",
       "            "
      ],
      "text/plain": [
       "<IPython.core.display.Javascript object>"
      ]
     },
     "metadata": {},
     "output_type": "display_data"
    }
   ],
   "source": [
    "timeseries_asin"
   ]
  },
  {
   "cell_type": "code",
   "execution_count": 27,
   "id": "94051a49",
   "metadata": {},
   "outputs": [
    {
     "data": {
      "application/javascript": [
       "\n",
       "            setTimeout(function() {\n",
       "                var nbb_cell_id = 27;\n",
       "                var nbb_unformatted_code = \"posterior_samples = sample_posterior_with_observed(\\n    \\\"cuda\\\", timeseries_data, 10_000, \\\"marketplace\\\", \\\"timeseries\\\"\\n)\";\n",
       "                var nbb_formatted_code = \"posterior_samples = sample_posterior_with_observed(\\n    \\\"cuda\\\", timeseries_data, 10_000, \\\"marketplace\\\", \\\"timeseries\\\"\\n)\";\n",
       "                var nbb_cells = Jupyter.notebook.get_cells();\n",
       "                for (var i = 0; i < nbb_cells.length; ++i) {\n",
       "                    if (nbb_cells[i].input_prompt_number == nbb_cell_id) {\n",
       "                        if (nbb_cells[i].get_text() == nbb_unformatted_code) {\n",
       "                             nbb_cells[i].set_text(nbb_formatted_code);\n",
       "                        }\n",
       "                        break;\n",
       "                    }\n",
       "                }\n",
       "            }, 500);\n",
       "            "
      ],
      "text/plain": [
       "<IPython.core.display.Javascript object>"
      ]
     },
     "metadata": {},
     "output_type": "display_data"
    }
   ],
   "source": [
    "posterior_samples = sample_posterior_with_observed(\n",
    "    \"cuda\", timeseries_data, 10_000, \"marketplace\", \"timeseries\"\n",
    ")"
   ]
  },
  {
   "cell_type": "code",
   "execution_count": 30,
   "id": "d4f3a604",
   "metadata": {},
   "outputs": [
    {
     "data": {
      "text/plain": [
       "(array([15., 39., 54., 66., 85., 96., 56., 34., 26., 37., 54., 31., 35.,\n",
       "        53., 32., 44., 46., 27., 30., 33., 18., 19., 17., 20., 17., 17.,\n",
       "        13., 11., 15., 16., 20., 10., 20., 10., 14.,  7.,  4., 16., 19.,\n",
       "        25., 21., 12., 13., 18., 17., 19., 37., 24., 34., 10.]),\n",
       " array([0.21154249, 0.27683851, 0.34213453, 0.40743055, 0.47272657,\n",
       "        0.53802258, 0.6033186 , 0.66861462, 0.73391064, 0.79920666,\n",
       "        0.86450267, 0.92979869, 0.99509471, 1.06039073, 1.12568675,\n",
       "        1.19098277, 1.25627878, 1.3215748 , 1.38687082, 1.45216684,\n",
       "        1.51746286, 1.58275888, 1.64805489, 1.71335091, 1.77864693,\n",
       "        1.84394295, 1.90923897, 1.97453499, 2.039831  , 2.10512702,\n",
       "        2.17042304, 2.23571906, 2.30101508, 2.3663111 , 2.43160711,\n",
       "        2.49690313, 2.56219915, 2.62749517, 2.69279119, 2.7580872 ,\n",
       "        2.82338322, 2.88867924, 2.95397526, 3.01927128, 3.0845673 ,\n",
       "        3.14986331, 3.21515933, 3.28045535, 3.34575137, 3.41104739,\n",
       "        3.47634341]),\n",
       " <BarContainer object of 50 artists>)"
      ]
     },
     "execution_count": 30,
     "metadata": {},
     "output_type": "execute_result"
    },
    {
     "data": {
      "image/png": "[encoded data removed]",
      "text/plain": [
       "<Figure size 640x480 with 1 Axes>"
      ]
     },
     "metadata": {},
     "output_type": "display_data"
    },
    {
     "data": {
      "application/javascript": [
       "\n",
       "            setTimeout(function() {\n",
       "                var nbb_cell_id = 30;\n",
       "                var nbb_unformatted_code = \"plt.hist(np.mean(posterior_samples[:, :, 0], axis=0), alpha=0.5, bins=50)\\nplt.hist(np.mean(posterior_samples[:, :, 1], axis=0), alpha=0.5, bins=50)\";\n",
       "                var nbb_formatted_code = \"plt.hist(np.mean(posterior_samples[:, :, 0], axis=0), alpha=0.5, bins=50)\\nplt.hist(np.mean(posterior_samples[:, :, 1], axis=0), alpha=0.5, bins=50)\";\n",
       "                var nbb_cells = Jupyter.notebook.get_cells();\n",
       "                for (var i = 0; i < nbb_cells.length; ++i) {\n",
       "                    if (nbb_cells[i].input_prompt_number == nbb_cell_id) {\n",
       "                        if (nbb_cells[i].get_text() == nbb_unformatted_code) {\n",
       "                             nbb_cells[i].set_text(nbb_formatted_code);\n",
       "                        }\n",
       "                        break;\n",
       "                    }\n",
       "                }\n",
       "            }, 500);\n",
       "            "
      ],
      "text/plain": [
       "<IPython.core.display.Javascript object>"
      ]
     },
     "metadata": {},
     "output_type": "display_data"
    }
   ],
   "source": [
    "plt.hist(np.mean(posterior_samples[:, :, 0], axis=0), alpha=0.5, bins=50)\n",
    "plt.hist(np.mean(posterior_samples[:, :, 1], axis=0), alpha=0.5, bins=50)"
   ]
  },
  {
   "cell_type": "code",
   "execution_count": 31,
   "id": "d6d796a0",
   "metadata": {},
   "outputs": [
    {
     "data": {
      "text/plain": [
       "(array([  3.,   1.,   0.,   1.,   2.,   3.,   1.,   3.,   8.,   6.,   2.,\n",
       "         10.,  10.,  18.,  29.,  38.,  75.,  64.,  81.,  96., 108.,  99.,\n",
       "         96.,  94., 106.,  56.,  73.,  56.,  54.,  51.,  28.,  30.,  15.,\n",
       "         18.,  15.,   9.,  11.,  12.,   2.,   7.,   4.,   1.,   6.,   2.,\n",
       "          0.,   1.,   0.,   0.,   0.,   1.]),\n",
       " array([0.4795798 , 0.48080067, 0.48202154, 0.48324241, 0.48446329,\n",
       "        0.48568416, 0.48690503, 0.4881259 , 0.48934677, 0.49056765,\n",
       "        0.49178852, 0.49300939, 0.49423026, 0.49545113, 0.496672  ,\n",
       "        0.49789288, 0.49911375, 0.50033462, 0.50155549, 0.50277636,\n",
       "        0.50399724, 0.50521811, 0.50643898, 0.50765985, 0.50888072,\n",
       "        0.51010159, 0.51132247, 0.51254334, 0.51376421, 0.51498508,\n",
       "        0.51620595, 0.51742683, 0.5186477 , 0.51986857, 0.52108944,\n",
       "        0.52231031, 0.52353118, 0.52475206, 0.52597293, 0.5271938 ,\n",
       "        0.52841467, 0.52963554, 0.53085642, 0.53207729, 0.53329816,\n",
       "        0.53451903, 0.5357399 , 0.53696077, 0.53818165, 0.53940252,\n",
       "        0.54062339]),\n",
       " <BarContainer object of 50 artists>)"
      ]
     },
     "execution_count": 31,
     "metadata": {},
     "output_type": "execute_result"
    },
    {
     "data": {
      "image/png": "[encoded data removed]",
      "text/plain": [
       "<Figure size 640x480 with 1 Axes>"
      ]
     },
     "metadata": {},
     "output_type": "display_data"
    },
    {
     "data": {
      "application/javascript": [
       "\n",
       "            setTimeout(function() {\n",
       "                var nbb_cell_id = 31;\n",
       "                var nbb_unformatted_code = \"plt.hist(np.mean(posterior_samples[:, :, 2], axis=0), alpha=0.5, bins=50)\\nplt.hist(np.mean(posterior_samples[:, :, 3], axis=0), alpha=0.5, bins=50)\";\n",
       "                var nbb_formatted_code = \"plt.hist(np.mean(posterior_samples[:, :, 2], axis=0), alpha=0.5, bins=50)\\nplt.hist(np.mean(posterior_samples[:, :, 3], axis=0), alpha=0.5, bins=50)\";\n",
       "                var nbb_cells = Jupyter.notebook.get_cells();\n",
       "                for (var i = 0; i < nbb_cells.length; ++i) {\n",
       "                    if (nbb_cells[i].input_prompt_number == nbb_cell_id) {\n",
       "                        if (nbb_cells[i].get_text() == nbb_unformatted_code) {\n",
       "                             nbb_cells[i].set_text(nbb_formatted_code);\n",
       "                        }\n",
       "                        break;\n",
       "                    }\n",
       "                }\n",
       "            }, 500);\n",
       "            "
      ],
      "text/plain": [
       "<IPython.core.display.Javascript object>"
      ]
     },
     "metadata": {},
     "output_type": "display_data"
    }
   ],
   "source": [
    "plt.hist(np.mean(posterior_samples[:, :, 2], axis=0), alpha=0.5, bins=50)\n",
    "plt.hist(np.mean(posterior_samples[:, :, 3], axis=0), alpha=0.5, bins=50)"
   ]
  },
  {
   "cell_type": "code",
   "execution_count": 33,
   "id": "7820b4da",
   "metadata": {},
   "outputs": [
    {
     "data": {
      "text/plain": [
       "(array([ 76., 123.,  75.,  44.,  27.,  27.,  20.,  17.,  27.,  29.,  26.,\n",
       "         30.,  26.,  33.,  35.,  35.,  36.,  26.,  37.,  38.,  38.,  29.,\n",
       "         33.,  31.,  33.,  37.,  30.,  23.,  26.,  27.,  28.,  25.,  19.,\n",
       "         22.,  23.,  19.,  12.,  14.,  11.,  17.,  10.,  17.,   9.,  14.,\n",
       "         16.,  16.,  20.,   9.,   8.,   3.]),\n",
       " array([0.5180732 , 0.52733731, 0.53660142, 0.54586553, 0.55512964,\n",
       "        0.56439375, 0.57365787, 0.58292198, 0.59218609, 0.6014502 ,\n",
       "        0.61071431, 0.61997843, 0.62924254, 0.63850665, 0.64777076,\n",
       "        0.65703487, 0.66629899, 0.6755631 , 0.68482721, 0.69409132,\n",
       "        0.70335543, 0.71261955, 0.72188366, 0.73114777, 0.74041188,\n",
       "        0.74967599, 0.7589401 , 0.76820422, 0.77746833, 0.78673244,\n",
       "        0.79599655, 0.80526066, 0.81452478, 0.82378889, 0.833053  ,\n",
       "        0.84231711, 0.85158122, 0.86084534, 0.87010945, 0.87937356,\n",
       "        0.88863767, 0.89790178, 0.9071659 , 0.91643001, 0.92569412,\n",
       "        0.93495823, 0.94422234, 0.95348646, 0.96275057, 0.97201468,\n",
       "        0.98127879]),\n",
       " <BarContainer object of 50 artists>)"
      ]
     },
     "execution_count": 33,
     "metadata": {},
     "output_type": "execute_result"
    },
    {
     "data": {
      "image/png": "[encoded data removed]",
      "text/plain": [
       "<Figure size 640x480 with 1 Axes>"
      ]
     },
     "metadata": {},
     "output_type": "display_data"
    },
    {
     "data": {
      "application/javascript": [
       "\n",
       "            setTimeout(function() {\n",
       "                var nbb_cell_id = 33;\n",
       "                var nbb_unformatted_code = \"plt.hist(np.mean(posterior_samples[:, :, 4], axis=0), alpha=0.5, bins=50)\\nplt.hist(np.mean(posterior_samples[:, :, 7], axis=0), alpha=0.5, bins=50)\";\n",
       "                var nbb_formatted_code = \"plt.hist(np.mean(posterior_samples[:, :, 4], axis=0), alpha=0.5, bins=50)\\nplt.hist(np.mean(posterior_samples[:, :, 7], axis=0), alpha=0.5, bins=50)\";\n",
       "                var nbb_cells = Jupyter.notebook.get_cells();\n",
       "                for (var i = 0; i < nbb_cells.length; ++i) {\n",
       "                    if (nbb_cells[i].input_prompt_number == nbb_cell_id) {\n",
       "                        if (nbb_cells[i].get_text() == nbb_unformatted_code) {\n",
       "                             nbb_cells[i].set_text(nbb_formatted_code);\n",
       "                        }\n",
       "                        break;\n",
       "                    }\n",
       "                }\n",
       "            }, 500);\n",
       "            "
      ],
      "text/plain": [
       "<IPython.core.display.Javascript object>"
      ]
     },
     "metadata": {},
     "output_type": "display_data"
    }
   ],
   "source": [
    "plt.hist(np.mean(posterior_samples[:, :, 4], axis=0), alpha=0.5, bins=50)\n",
    "plt.hist(np.mean(posterior_samples[:, :, 7], axis=0), alpha=0.5, bins=50)"
   ]
  },
  {
   "cell_type": "code",
   "execution_count": 34,
   "id": "17828270",
   "metadata": {},
   "outputs": [
    {
     "data": {
      "text/plain": [
       "(array([  1.,   0.,   1.,   0.,   0.,   0.,   4.,   4.,  11.,  17.,  14.,\n",
       "         26.,  23.,  21.,  22.,  34.,  28.,  36.,  40.,  36.,  47.,  55.,\n",
       "         65.,  65.,  64.,  74.,  56., 100.,  83.,  85.,  61.,  36.,  45.,\n",
       "         36.,  31.,  23.,  32.,  23.,  21.,  24.,  21.,  17.,   8.,   3.,\n",
       "          5.,   4.,   3.,   0.,   0.,   1.]),\n",
       " array([0.37053118, 0.37366072, 0.37679026, 0.3799198 , 0.38304934,\n",
       "        0.38617888, 0.38930842, 0.39243796, 0.3955675 , 0.39869705,\n",
       "        0.40182659, 0.40495613, 0.40808567, 0.41121521, 0.41434475,\n",
       "        0.41747429, 0.42060383, 0.42373337, 0.42686291, 0.42999245,\n",
       "        0.43312199, 0.43625154, 0.43938108, 0.44251062, 0.44564016,\n",
       "        0.4487697 , 0.45189924, 0.45502878, 0.45815832, 0.46128786,\n",
       "        0.4644174 , 0.46754694, 0.47067648, 0.47380603, 0.47693557,\n",
       "        0.48006511, 0.48319465, 0.48632419, 0.48945373, 0.49258327,\n",
       "        0.49571281, 0.49884235, 0.50197189, 0.50510143, 0.50823098,\n",
       "        0.51136052, 0.51449006, 0.5176196 , 0.52074914, 0.52387868,\n",
       "        0.52700822]),\n",
       " <BarContainer object of 50 artists>)"
      ]
     },
     "execution_count": 34,
     "metadata": {},
     "output_type": "execute_result"
    },
    {
     "data": {
      "image/png": "[encoded data removed]",
      "text/plain": [
       "<Figure size 640x480 with 1 Axes>"
      ]
     },
     "metadata": {},
     "output_type": "display_data"
    },
    {
     "data": {
      "application/javascript": [
       "\n",
       "            setTimeout(function() {\n",
       "                var nbb_cell_id = 34;\n",
       "                var nbb_unformatted_code = \"plt.hist(np.mean(posterior_samples[:, :, 5], axis=0), alpha=0.5, bins=50)\\nplt.hist(np.mean(posterior_samples[:, :, 6], axis=0), alpha=0.5, bins=50)\";\n",
       "                var nbb_formatted_code = \"plt.hist(np.mean(posterior_samples[:, :, 5], axis=0), alpha=0.5, bins=50)\\nplt.hist(np.mean(posterior_samples[:, :, 6], axis=0), alpha=0.5, bins=50)\";\n",
       "                var nbb_cells = Jupyter.notebook.get_cells();\n",
       "                for (var i = 0; i < nbb_cells.length; ++i) {\n",
       "                    if (nbb_cells[i].input_prompt_number == nbb_cell_id) {\n",
       "                        if (nbb_cells[i].get_text() == nbb_unformatted_code) {\n",
       "                             nbb_cells[i].set_text(nbb_formatted_code);\n",
       "                        }\n",
       "                        break;\n",
       "                    }\n",
       "                }\n",
       "            }, 500);\n",
       "            "
      ],
      "text/plain": [
       "<IPython.core.display.Javascript object>"
      ]
     },
     "metadata": {},
     "output_type": "display_data"
    }
   ],
   "source": [
    "plt.hist(np.mean(posterior_samples[:, :, 5], axis=0), alpha=0.5, bins=50)\n",
    "plt.hist(np.mean(posterior_samples[:, :, 6], axis=0), alpha=0.5, bins=50)"
   ]
  },
  {
   "cell_type": "code",
   "execution_count": 39,
   "id": "e0802829",
   "metadata": {},
   "outputs": [
    {
     "data": {
      "text/plain": [
       "(array([ 76., 123.,  75.,  44.,  27.,  27.,  20.,  17.,  27.,  29.,  26.,\n",
       "         30.,  26.,  33.,  35.,  35.,  36.,  26.,  37.,  38.,  38.,  29.,\n",
       "         33.,  31.,  33.,  37.,  30.,  23.,  26.,  27.,  28.,  25.,  19.,\n",
       "         22.,  23.,  19.,  12.,  14.,  11.,  17.,  10.,  17.,   9.,  14.,\n",
       "         16.,  16.,  20.,   9.,   8.,   3.]),\n",
       " array([0.77710979, 0.79100596, 0.80490213, 0.8187983 , 0.83269446,\n",
       "        0.84659063, 0.8604868 , 0.87438297, 0.88827914, 0.9021753 ,\n",
       "        0.91607147, 0.92996764, 0.94386381, 0.95775998, 0.97165614,\n",
       "        0.98555231, 0.99944848, 1.01334465, 1.02724081, 1.04113698,\n",
       "        1.05503315, 1.06892932, 1.08282549, 1.09672165, 1.11061782,\n",
       "        1.12451399, 1.13841016, 1.15230633, 1.16620249, 1.18009866,\n",
       "        1.19399483, 1.207891  , 1.22178716, 1.23568333, 1.2495795 ,\n",
       "        1.26347567, 1.27737184, 1.291268  , 1.30516417, 1.31906034,\n",
       "        1.33295651, 1.34685268, 1.36074884, 1.37464501, 1.38854118,\n",
       "        1.40243735, 1.41633351, 1.43022968, 1.44412585, 1.45802202,\n",
       "        1.47191819]),\n",
       " <BarContainer object of 50 artists>)"
      ]
     },
     "execution_count": 39,
     "metadata": {},
     "output_type": "execute_result"
    },
    {
     "data": {
      "image/png": "[encoded data removed]",
      "text/plain": [
       "<Figure size 640x480 with 1 Axes>"
      ]
     },
     "metadata": {},
     "output_type": "display_data"
    },
    {
     "data": {
      "application/javascript": [
       "\n",
       "            setTimeout(function() {\n",
       "                var nbb_cell_id = 39;\n",
       "                var nbb_unformatted_code = \"plt.hist(np.mean(-1.5 * posterior_samples[:, :, 4], axis=0), alpha=0.5, bins=50)\\nplt.hist(np.mean(1.5 * posterior_samples[:, :, 7], axis=0), alpha=0.5, bins=50)\";\n",
       "                var nbb_formatted_code = \"plt.hist(np.mean(-1.5 * posterior_samples[:, :, 4], axis=0), alpha=0.5, bins=50)\\nplt.hist(np.mean(1.5 * posterior_samples[:, :, 7], axis=0), alpha=0.5, bins=50)\";\n",
       "                var nbb_cells = Jupyter.notebook.get_cells();\n",
       "                for (var i = 0; i < nbb_cells.length; ++i) {\n",
       "                    if (nbb_cells[i].input_prompt_number == nbb_cell_id) {\n",
       "                        if (nbb_cells[i].get_text() == nbb_unformatted_code) {\n",
       "                             nbb_cells[i].set_text(nbb_formatted_code);\n",
       "                        }\n",
       "                        break;\n",
       "                    }\n",
       "                }\n",
       "            }, 500);\n",
       "            "
      ],
      "text/plain": [
       "<IPython.core.display.Javascript object>"
      ]
     },
     "metadata": {},
     "output_type": "display_data"
    }
   ],
   "source": [
    "plt.hist(np.mean(-1.5 * posterior_samples[:, :, 4], axis=0), alpha=0.5, bins=50)\n",
    "plt.hist(np.mean(1.5 * posterior_samples[:, :, 7], axis=0), alpha=0.5, bins=50)"
   ]
  },
  {
   "cell_type": "code",
   "execution_count": 42,
   "id": "449e56d4",
   "metadata": {},
   "outputs": [
    {
     "data": {
      "text/plain": [
       "(array([17., 54., 82., 90., 59., 48., 28., 32., 30., 24., 32., 43., 55.,\n",
       "        34., 45., 51., 51., 45., 51., 39., 34., 39., 41., 29., 41., 38.,\n",
       "        26., 24., 21., 22., 25., 20., 14., 11., 16.,  6.,  9., 12., 12.,\n",
       "         5.,  5.,  9.,  7.,  4.,  5.,  7.,  4.,  5.,  3.,  2.]),\n",
       " array([0.35582038, 0.36241019, 0.369     , 0.37558981, 0.38217962,\n",
       "        0.38876942, 0.39535923, 0.40194904, 0.40853885, 0.41512866,\n",
       "        0.42171846, 0.42830827, 0.43489808, 0.44148789, 0.4480777 ,\n",
       "        0.45466751, 0.46125731, 0.46784712, 0.47443693, 0.48102674,\n",
       "        0.48761655, 0.49420635, 0.50079616, 0.50738597, 0.51397578,\n",
       "        0.52056559, 0.52715539, 0.5337452 , 0.54033501, 0.54692482,\n",
       "        0.55351463, 0.56010443, 0.56669424, 0.57328405, 0.57987386,\n",
       "        0.58646367, 0.59305348, 0.59964328, 0.60623309, 0.6128229 ,\n",
       "        0.61941271, 0.62600252, 0.63259232, 0.63918213, 0.64577194,\n",
       "        0.65236175, 0.65895156, 0.66554136, 0.67213117, 0.67872098,\n",
       "        0.68531079]),\n",
       " <BarContainer object of 50 artists>)"
      ]
     },
     "execution_count": 42,
     "metadata": {},
     "output_type": "execute_result"
    },
    {
     "data": {
      "image/png": "[encoded data removed]",
      "text/plain": [
       "<Figure size 640x480 with 1 Axes>"
      ]
     },
     "metadata": {},
     "output_type": "display_data"
    },
    {
     "data": {
      "application/javascript": [
       "\n",
       "            setTimeout(function() {\n",
       "                var nbb_cell_id = 42;\n",
       "                var nbb_unformatted_code = \"plt.hist(np.mean(-1.5 * posterior_samples[:, :, 4] * posterior_samples[:, :, 5], axis=0), alpha=0.5, bins=50)\\nplt.hist(np.mean(1.5 * posterior_samples[:, :, 7] * posterior_samples[:, :, 6], axis=0), alpha=0.5, bins=50)\";\n",
       "                var nbb_formatted_code = \"plt.hist(\\n    np.mean(-1.5 * posterior_samples[:, :, 4] * posterior_samples[:, :, 5], axis=0),\\n    alpha=0.5,\\n    bins=50,\\n)\\nplt.hist(\\n    np.mean(1.5 * posterior_samples[:, :, 7] * posterior_samples[:, :, 6], axis=0),\\n    alpha=0.5,\\n    bins=50,\\n)\";\n",
       "                var nbb_cells = Jupyter.notebook.get_cells();\n",
       "                for (var i = 0; i < nbb_cells.length; ++i) {\n",
       "                    if (nbb_cells[i].input_prompt_number == nbb_cell_id) {\n",
       "                        if (nbb_cells[i].get_text() == nbb_unformatted_code) {\n",
       "                             nbb_cells[i].set_text(nbb_formatted_code);\n",
       "                        }\n",
       "                        break;\n",
       "                    }\n",
       "                }\n",
       "            }, 500);\n",
       "            "
      ],
      "text/plain": [
       "<IPython.core.display.Javascript object>"
      ]
     },
     "metadata": {},
     "output_type": "display_data"
    }
   ],
   "source": [
    "plt.hist(\n",
    "    np.mean(-1.5 * posterior_samples[:, :, 4] * posterior_samples[:, :, 5], axis=0),\n",
    "    alpha=0.5,\n",
    "    bins=50,\n",
    ")\n",
    "plt.hist(\n",
    "    np.mean(1.5 * posterior_samples[:, :, 7] * posterior_samples[:, :, 6], axis=0),\n",
    "    alpha=0.5,\n",
    "    bins=50,\n",
    ")"
   ]
  },
  {
   "cell_type": "code",
   "execution_count": 43,
   "id": "166e7beb",
   "metadata": {},
   "outputs": [
    {
     "data": {
      "text/plain": [
       "(10000, 1406, 8)"
      ]
     },
     "execution_count": 43,
     "metadata": {},
     "output_type": "execute_result"
    },
    {
     "data": {
      "application/javascript": [
       "\n",
       "            setTimeout(function() {\n",
       "                var nbb_cell_id = 43;\n",
       "                var nbb_unformatted_code = \"posterior_samples.shape\";\n",
       "                var nbb_formatted_code = \"posterior_samples.shape\";\n",
       "                var nbb_cells = Jupyter.notebook.get_cells();\n",
       "                for (var i = 0; i < nbb_cells.length; ++i) {\n",
       "                    if (nbb_cells[i].input_prompt_number == nbb_cell_id) {\n",
       "                        if (nbb_cells[i].get_text() == nbb_unformatted_code) {\n",
       "                             nbb_cells[i].set_text(nbb_formatted_code);\n",
       "                        }\n",
       "                        break;\n",
       "                    }\n",
       "                }\n",
       "            }, 500);\n",
       "            "
      ],
      "text/plain": [
       "<IPython.core.display.Javascript object>"
      ]
     },
     "metadata": {},
     "output_type": "display_data"
    }
   ],
   "source": [
    "posterior_samples.shape"
   ]
  },
  {
   "cell_type": "code",
   "execution_count": 45,
   "id": "4bace4a9",
   "metadata": {},
   "outputs": [
    {
     "data": {
      "application/javascript": [
       "\n",
       "            setTimeout(function() {\n",
       "                var nbb_cell_id = 45;\n",
       "                var nbb_unformatted_code = \"np.save(ARTIFACT_PATH / \\\"posterior_samples_bazaarvoice.npy\\\", posterior_samples)\";\n",
       "                var nbb_formatted_code = \"np.save(ARTIFACT_PATH / \\\"posterior_samples_bazaarvoice.npy\\\", posterior_samples)\";\n",
       "                var nbb_cells = Jupyter.notebook.get_cells();\n",
       "                for (var i = 0; i < nbb_cells.length; ++i) {\n",
       "                    if (nbb_cells[i].input_prompt_number == nbb_cell_id) {\n",
       "                        if (nbb_cells[i].get_text() == nbb_unformatted_code) {\n",
       "                             nbb_cells[i].set_text(nbb_formatted_code);\n",
       "                        }\n",
       "                        break;\n",
       "                    }\n",
       "                }\n",
       "            }, 500);\n",
       "            "
      ],
      "text/plain": [
       "<IPython.core.display.Javascript object>"
      ]
     },
     "metadata": {},
     "output_type": "display_data"
    }
   ],
   "source": [
    "np.save(ARTIFACT_PATH / \"posterior_samples_bazaarvoice.npy\", posterior_samples)"
   ]
  },
  {
   "cell_type": "code",
   "execution_count": 44,
   "id": "08ab0d21",
   "metadata": {},
   "outputs": [
    {
     "data": {
      "text/plain": [
       "PosixPath('../../../gcs_mount/artifacts/rating_spacing_simulator')"
      ]
     },
     "execution_count": 44,
     "metadata": {},
     "output_type": "execute_result"
    },
    {
     "data": {
      "application/javascript": [
       "\n",
       "            setTimeout(function() {\n",
       "                var nbb_cell_id = 44;\n",
       "                var nbb_unformatted_code = \"ARTIFACT_PATH\";\n",
       "                var nbb_formatted_code = \"ARTIFACT_PATH\";\n",
       "                var nbb_cells = Jupyter.notebook.get_cells();\n",
       "                for (var i = 0; i < nbb_cells.length; ++i) {\n",
       "                    if (nbb_cells[i].input_prompt_number == nbb_cell_id) {\n",
       "                        if (nbb_cells[i].get_text() == nbb_unformatted_code) {\n",
       "                             nbb_cells[i].set_text(nbb_formatted_code);\n",
       "                        }\n",
       "                        break;\n",
       "                    }\n",
       "                }\n",
       "            }, 500);\n",
       "            "
      ],
      "text/plain": [
       "<IPython.core.display.Javascript object>"
      ]
     },
     "metadata": {},
     "output_type": "display_data"
    }
   ],
   "source": [
    "ARTIFACT_PATH"
   ]
  },
  {
   "cell_type": "code",
   "execution_count": null,
   "id": "bb526683",
   "metadata": {},
   "outputs": [],
   "source": []
  },
  {
   "cell_type": "markdown",
   "id": "d475064b",
   "metadata": {},
   "source": [
    "# Use the inferred posterior samples to conduct simulations"
   ]
  },
  {
   "cell_type": "code",
   "execution_count": 15,
   "id": "0929a1eb",
   "metadata": {},
   "outputs": [
    {
     "data": {
      "text/plain": [
       "(10000, 1406, 8)"
      ]
     },
     "execution_count": 15,
     "metadata": {},
     "output_type": "execute_result"
    },
    {
     "data": {
      "application/javascript": [
       "\n",
       "            setTimeout(function() {\n",
       "                var nbb_cell_id = 15;\n",
       "                var nbb_unformatted_code = \"posterior_samples = np.load(ARTIFACT_PATH / \\\"posterior_samples_bazaarvoice.npy\\\")\\nposterior_samples.shape\";\n",
       "                var nbb_formatted_code = \"posterior_samples = np.load(ARTIFACT_PATH / \\\"posterior_samples_bazaarvoice.npy\\\")\\nposterior_samples.shape\";\n",
       "                var nbb_cells = Jupyter.notebook.get_cells();\n",
       "                for (var i = 0; i < nbb_cells.length; ++i) {\n",
       "                    if (nbb_cells[i].input_prompt_number == nbb_cell_id) {\n",
       "                        if (nbb_cells[i].get_text() == nbb_unformatted_code) {\n",
       "                             nbb_cells[i].set_text(nbb_formatted_code);\n",
       "                        }\n",
       "                        break;\n",
       "                    }\n",
       "                }\n",
       "            }, 500);\n",
       "            "
      ],
      "text/plain": [
       "<IPython.core.display.Javascript object>"
      ]
     },
     "metadata": {},
     "output_type": "display_data"
    }
   ],
   "source": [
    "posterior_samples = np.load(ARTIFACT_PATH / \"posterior_samples_bazaarvoice.npy\")\n",
    "posterior_samples.shape"
   ]
  },
  {
   "cell_type": "code",
   "execution_count": 16,
   "id": "287e36c2",
   "metadata": {},
   "outputs": [
    {
     "data": {
      "text/plain": [
       "(2000, 1406, 8)"
      ]
     },
     "execution_count": 16,
     "metadata": {},
     "output_type": "execute_result"
    },
    {
     "data": {
      "application/javascript": [
       "\n",
       "            setTimeout(function() {\n",
       "                var nbb_cell_id = 16;\n",
       "                var nbb_unformatted_code = \"# Downsample the posterior samples so that we don't have to mmap a huge array when joblib parallelizes simulations\\nposterior_samples = posterior_samples[::5, :, :]\\nposterior_samples.shape\";\n",
       "                var nbb_formatted_code = \"# Downsample the posterior samples so that we don't have to mmap a huge array when joblib parallelizes simulations\\nposterior_samples = posterior_samples[::5, :, :]\\nposterior_samples.shape\";\n",
       "                var nbb_cells = Jupyter.notebook.get_cells();\n",
       "                for (var i = 0; i < nbb_cells.length; ++i) {\n",
       "                    if (nbb_cells[i].input_prompt_number == nbb_cell_id) {\n",
       "                        if (nbb_cells[i].get_text() == nbb_unformatted_code) {\n",
       "                             nbb_cells[i].set_text(nbb_formatted_code);\n",
       "                        }\n",
       "                        break;\n",
       "                    }\n",
       "                }\n",
       "            }, 500);\n",
       "            "
      ],
      "text/plain": [
       "<IPython.core.display.Javascript object>"
      ]
     },
     "metadata": {},
     "output_type": "display_data"
    }
   ],
   "source": [
    "# Downsample the posterior samples so that we don't have to mmap a huge array when joblib parallelizes simulations\n",
    "posterior_samples = posterior_samples[::5, :, :]\n",
    "posterior_samples.shape"
   ]
  },
  {
   "cell_type": "code",
   "execution_count": 17,
   "id": "b677aa16",
   "metadata": {},
   "outputs": [
    {
     "data": {
      "text/plain": [
       "(array([ 16.,  39.,  53.,  64.,  82., 101.,  57.,  30.,  27.,  40.,  52.,\n",
       "         32.,  34.,  51.,  35.,  45.,  46.,  25.,  31.,  30.,  21.,  19.,\n",
       "         16.,  20.,  17.,  20.,  11.,  10.,  16.,  18.,  17.,  11.,  17.,\n",
       "         14.,  12.,   8.,   4.,  15.,  18.,  26.,  20.,  11.,  16.,  17.,\n",
       "         15.,  23.,  33.,  26.,  33.,  12.]),\n",
       " array([0.21080497, 0.27610297, 0.34140097, 0.40669896, 0.47199696,\n",
       "        0.53729496, 0.60259296, 0.66789095, 0.73318895, 0.79848695,\n",
       "        0.86378494, 0.92908294, 0.99438094, 1.05967894, 1.12497693,\n",
       "        1.19027493, 1.25557293, 1.32087093, 1.38616892, 1.45146692,\n",
       "        1.51676492, 1.58206291, 1.64736091, 1.71265891, 1.77795691,\n",
       "        1.8432549 , 1.9085529 , 1.9738509 , 2.0391489 , 2.10444689,\n",
       "        2.16974489, 2.23504289, 2.30034088, 2.36563888, 2.43093688,\n",
       "        2.49623488, 2.56153287, 2.62683087, 2.69212887, 2.75742687,\n",
       "        2.82272486, 2.88802286, 2.95332086, 3.01861885, 3.08391685,\n",
       "        3.14921485, 3.21451285, 3.27981084, 3.34510884, 3.41040684,\n",
       "        3.47570484]),\n",
       " <BarContainer object of 50 artists>)"
      ]
     },
     "execution_count": 17,
     "metadata": {},
     "output_type": "execute_result"
    },
    {
     "data": {
      "image/png": "[encoded data removed]",
      "text/plain": [
       "<Figure size 432x288 with 1 Axes>"
      ]
     },
     "metadata": {},
     "output_type": "display_data"
    },
    {
     "data": {
      "application/javascript": [
       "\n",
       "            setTimeout(function() {\n",
       "                var nbb_cell_id = 17;\n",
       "                var nbb_unformatted_code = \"plt.hist(np.mean(posterior_samples[:, :, 0], axis=0), alpha=0.5, bins=50)\\nplt.hist(np.mean(posterior_samples[:, :, 1], axis=0), alpha=0.5, bins=50)\";\n",
       "                var nbb_formatted_code = \"plt.hist(np.mean(posterior_samples[:, :, 0], axis=0), alpha=0.5, bins=50)\\nplt.hist(np.mean(posterior_samples[:, :, 1], axis=0), alpha=0.5, bins=50)\";\n",
       "                var nbb_cells = Jupyter.notebook.get_cells();\n",
       "                for (var i = 0; i < nbb_cells.length; ++i) {\n",
       "                    if (nbb_cells[i].input_prompt_number == nbb_cell_id) {\n",
       "                        if (nbb_cells[i].get_text() == nbb_unformatted_code) {\n",
       "                             nbb_cells[i].set_text(nbb_formatted_code);\n",
       "                        }\n",
       "                        break;\n",
       "                    }\n",
       "                }\n",
       "            }, 500);\n",
       "            "
      ],
      "text/plain": [
       "<IPython.core.display.Javascript object>"
      ]
     },
     "metadata": {},
     "output_type": "display_data"
    }
   ],
   "source": [
    "plt.hist(np.mean(posterior_samples[:, :, 0], axis=0), alpha=0.5, bins=50)\n",
    "plt.hist(np.mean(posterior_samples[:, :, 1], axis=0), alpha=0.5, bins=50)"
   ]
  },
  {
   "cell_type": "markdown",
   "id": "f69042f3",
   "metadata": {},
   "source": [
    "**Use the asin (same as productid) of the products to get the embeddings for these products\n",
    "We will use the EmbeddingRatingPredictor class to get the embeddings merged on the DF of product reviews**\n"
   ]
  },
  {
   "cell_type": "code",
   "execution_count": 18,
   "id": "56013edd",
   "metadata": {},
   "outputs": [
    {
     "name": "stdout",
     "output_type": "stream",
     "text": [
      "\t Device set to cpu, using torch num threads=32\n",
      "Using the dense network: \n",
      " Sequential(\n",
      "  (0): Linear(in_features=100, out_features=256, bias=True)\n",
      "  (1): LeakyReLU(negative_slope=0.01)\n",
      "  (2): Linear(in_features=256, out_features=128, bias=True)\n",
      "  (3): LeakyReLU(negative_slope=0.01)\n",
      "  (4): Linear(in_features=128, out_features=64, bias=True)\n",
      "  (5): LeakyReLU(negative_slope=0.01)\n",
      "  (6): Linear(in_features=64, out_features=5, bias=True)\n",
      ")\n"
     ]
    },
    {
     "data": {
      "application/javascript": [
       "\n",
       "            setTimeout(function() {\n",
       "                var nbb_cell_id = 18;\n",
       "                var nbb_unformatted_code = \"embedding_model = EmbeddingRatingPredictor(artifact_path=ARTIFACT_PATH)\";\n",
       "                var nbb_formatted_code = \"embedding_model = EmbeddingRatingPredictor(artifact_path=ARTIFACT_PATH)\";\n",
       "                var nbb_cells = Jupyter.notebook.get_cells();\n",
       "                for (var i = 0; i < nbb_cells.length; ++i) {\n",
       "                    if (nbb_cells[i].input_prompt_number == nbb_cell_id) {\n",
       "                        if (nbb_cells[i].get_text() == nbb_unformatted_code) {\n",
       "                             nbb_cells[i].set_text(nbb_formatted_code);\n",
       "                        }\n",
       "                        break;\n",
       "                    }\n",
       "                }\n",
       "            }, 500);\n",
       "            "
      ],
      "text/plain": [
       "<IPython.core.display.Javascript object>"
      ]
     },
     "metadata": {},
     "output_type": "display_data"
    }
   ],
   "source": [
    "embedding_model = EmbeddingRatingPredictor(artifact_path=ARTIFACT_PATH)"
   ]
  },
  {
   "cell_type": "code",
   "execution_count": 19,
   "id": "e7966556",
   "metadata": {},
   "outputs": [
    {
     "name": "stdout",
     "output_type": "stream",
     "text": [
      "Merged product embeddings with review histograms and produced merged DF of shape: (13584, 8)\n"
     ]
    },
    {
     "data": {
      "text/html": [
       "<div>\n",
       "<style scoped>\n",
       "    .dataframe tbody tr th:only-of-type {\n",
       "        vertical-align: middle;\n",
       "    }\n",
       "\n",
       "    .dataframe tbody tr th {\n",
       "        vertical-align: top;\n",
       "    }\n",
       "\n",
       "    .dataframe thead th {\n",
       "        text-align: right;\n",
       "    }\n",
       "</style>\n",
       "<table border=\"1\" class=\"dataframe\">\n",
       "  <thead>\n",
       "    <tr style=\"text-align: right;\">\n",
       "      <th></th>\n",
       "      <th>productid</th>\n",
       "      <th>embedding</th>\n",
       "      <th>asin</th>\n",
       "      <th>1</th>\n",
       "      <th>2</th>\n",
       "      <th>3</th>\n",
       "      <th>4</th>\n",
       "      <th>5</th>\n",
       "    </tr>\n",
       "  </thead>\n",
       "  <tbody>\n",
       "    <tr>\n",
       "      <th>0</th>\n",
       "      <td>2398095</td>\n",
       "      <td>[0.00202922, 0.00146059, -0.00227462, -0.00132...</td>\n",
       "      <td>2398095</td>\n",
       "      <td>18</td>\n",
       "      <td>7</td>\n",
       "      <td>20</td>\n",
       "      <td>44</td>\n",
       "      <td>98</td>\n",
       "    </tr>\n",
       "    <tr>\n",
       "      <th>1</th>\n",
       "      <td>2457747</td>\n",
       "      <td>[0.00181557, 0.00132517, -0.000414258, 0.00052...</td>\n",
       "      <td>2457747</td>\n",
       "      <td>12</td>\n",
       "      <td>4</td>\n",
       "      <td>6</td>\n",
       "      <td>23</td>\n",
       "      <td>48</td>\n",
       "    </tr>\n",
       "    <tr>\n",
       "      <th>2</th>\n",
       "      <td>2629881</td>\n",
       "      <td>[0.00351794, 0.000763518, -0.00173591, 0.00375...</td>\n",
       "      <td>2629881</td>\n",
       "      <td>12</td>\n",
       "      <td>8</td>\n",
       "      <td>18</td>\n",
       "      <td>37</td>\n",
       "      <td>93</td>\n",
       "    </tr>\n",
       "    <tr>\n",
       "      <th>3</th>\n",
       "      <td>2621353</td>\n",
       "      <td>[-0.00260368, 0.000267733, 0.000311891, 0.0001...</td>\n",
       "      <td>2621353</td>\n",
       "      <td>6</td>\n",
       "      <td>2</td>\n",
       "      <td>4</td>\n",
       "      <td>48</td>\n",
       "      <td>153</td>\n",
       "    </tr>\n",
       "    <tr>\n",
       "      <th>4</th>\n",
       "      <td>1222540</td>\n",
       "      <td>[-0.00325687, -0.00082967, 0.000803526, -0.000...</td>\n",
       "      <td>1222540</td>\n",
       "      <td>15</td>\n",
       "      <td>4</td>\n",
       "      <td>6</td>\n",
       "      <td>27</td>\n",
       "      <td>147</td>\n",
       "    </tr>\n",
       "  </tbody>\n",
       "</table>\n",
       "</div>"
      ],
      "text/plain": [
       "   productid                                          embedding     asin   1  \\\n",
       "0    2398095  [0.00202922, 0.00146059, -0.00227462, -0.00132...  2398095  18   \n",
       "1    2457747  [0.00181557, 0.00132517, -0.000414258, 0.00052...  2457747  12   \n",
       "2    2629881  [0.00351794, 0.000763518, -0.00173591, 0.00375...  2629881  12   \n",
       "3    2621353  [-0.00260368, 0.000267733, 0.000311891, 0.0001...  2621353   6   \n",
       "4    1222540  [-0.00325687, -0.00082967, 0.000803526, -0.000...  1222540  15   \n",
       "\n",
       "   2   3   4    5  \n",
       "0  7  20  44   98  \n",
       "1  4   6  23   48  \n",
       "2  8  18  37   93  \n",
       "3  2   4  48  153  \n",
       "4  4   6  27  147  "
      ]
     },
     "execution_count": 19,
     "metadata": {},
     "output_type": "execute_result"
    },
    {
     "data": {
      "application/javascript": [
       "\n",
       "            setTimeout(function() {\n",
       "                var nbb_cell_id = 19;\n",
       "                var nbb_unformatted_code = \"embedding_df = embedding_model.process_input_data()\\nembedding_df.head()\";\n",
       "                var nbb_formatted_code = \"embedding_df = embedding_model.process_input_data()\\nembedding_df.head()\";\n",
       "                var nbb_cells = Jupyter.notebook.get_cells();\n",
       "                for (var i = 0; i < nbb_cells.length; ++i) {\n",
       "                    if (nbb_cells[i].input_prompt_number == nbb_cell_id) {\n",
       "                        if (nbb_cells[i].get_text() == nbb_unformatted_code) {\n",
       "                             nbb_cells[i].set_text(nbb_formatted_code);\n",
       "                        }\n",
       "                        break;\n",
       "                    }\n",
       "                }\n",
       "            }, 500);\n",
       "            "
      ],
      "text/plain": [
       "<IPython.core.display.Javascript object>"
      ]
     },
     "metadata": {},
     "output_type": "display_data"
    }
   ],
   "source": [
    "embedding_df = embedding_model.process_input_data()\n",
    "embedding_df.head()"
   ]
  },
  {
   "cell_type": "code",
   "execution_count": 20,
   "id": "5f061da6",
   "metadata": {},
   "outputs": [
    {
     "data": {
      "application/javascript": [
       "\n",
       "            setTimeout(function() {\n",
       "                var nbb_cell_id = 20;\n",
       "                var nbb_unformatted_code = \"# Check if all 1406 products for which we have posterior samples are in the embedding DF\\nassert pd.Series(timeseries_asin).isin(embedding_df.productid[:]).sum() == 1406\";\n",
       "                var nbb_formatted_code = \"# Check if all 1406 products for which we have posterior samples are in the embedding DF\\nassert pd.Series(timeseries_asin).isin(embedding_df.productid[:]).sum() == 1406\";\n",
       "                var nbb_cells = Jupyter.notebook.get_cells();\n",
       "                for (var i = 0; i < nbb_cells.length; ++i) {\n",
       "                    if (nbb_cells[i].input_prompt_number == nbb_cell_id) {\n",
       "                        if (nbb_cells[i].get_text() == nbb_unformatted_code) {\n",
       "                             nbb_cells[i].set_text(nbb_formatted_code);\n",
       "                        }\n",
       "                        break;\n",
       "                    }\n",
       "                }\n",
       "            }, 500);\n",
       "            "
      ],
      "text/plain": [
       "<IPython.core.display.Javascript object>"
      ]
     },
     "metadata": {},
     "output_type": "display_data"
    }
   ],
   "source": [
    "# Check if all 1406 products for which we have posterior samples are in the embedding DF\n",
    "assert pd.Series(timeseries_asin).isin(embedding_df.productid[:]).sum() == 1406"
   ]
  },
  {
   "cell_type": "code",
   "execution_count": 21,
   "id": "9946bf4a",
   "metadata": {},
   "outputs": [
    {
     "data": {
      "application/javascript": [
       "\n",
       "            setTimeout(function() {\n",
       "                var nbb_cell_id = 21;\n",
       "                var nbb_unformatted_code = \"prod_embeddings = np.zeros(\\n    (timeseries_asin.shape[0], embedding_df[\\\"embedding\\\"][0].shape[0]), dtype=np.float64\\n)\";\n",
       "                var nbb_formatted_code = \"prod_embeddings = np.zeros(\\n    (timeseries_asin.shape[0], embedding_df[\\\"embedding\\\"][0].shape[0]), dtype=np.float64\\n)\";\n",
       "                var nbb_cells = Jupyter.notebook.get_cells();\n",
       "                for (var i = 0; i < nbb_cells.length; ++i) {\n",
       "                    if (nbb_cells[i].input_prompt_number == nbb_cell_id) {\n",
       "                        if (nbb_cells[i].get_text() == nbb_unformatted_code) {\n",
       "                             nbb_cells[i].set_text(nbb_formatted_code);\n",
       "                        }\n",
       "                        break;\n",
       "                    }\n",
       "                }\n",
       "            }, 500);\n",
       "            "
      ],
      "text/plain": [
       "<IPython.core.display.Javascript object>"
      ]
     },
     "metadata": {},
     "output_type": "display_data"
    }
   ],
   "source": [
    "prod_embeddings = np.zeros(\n",
    "    (timeseries_asin.shape[0], embedding_df[\"embedding\"][0].shape[0]), dtype=np.float64\n",
    ")"
   ]
  },
  {
   "cell_type": "code",
   "execution_count": 22,
   "id": "ca876318",
   "metadata": {},
   "outputs": [
    {
     "data": {
      "application/javascript": [
       "\n",
       "            setTimeout(function() {\n",
       "                var nbb_cell_id = 22;\n",
       "                var nbb_unformatted_code = \"for i, asin in enumerate(timeseries_asin):\\n    prod_embeddings[i, :] = embedding_df[\\\"embedding\\\"][\\n        np.where(embedding_df[\\\"asin\\\"] == asin)[0][0]\\n    ]\";\n",
       "                var nbb_formatted_code = \"for i, asin in enumerate(timeseries_asin):\\n    prod_embeddings[i, :] = embedding_df[\\\"embedding\\\"][\\n        np.where(embedding_df[\\\"asin\\\"] == asin)[0][0]\\n    ]\";\n",
       "                var nbb_cells = Jupyter.notebook.get_cells();\n",
       "                for (var i = 0; i < nbb_cells.length; ++i) {\n",
       "                    if (nbb_cells[i].input_prompt_number == nbb_cell_id) {\n",
       "                        if (nbb_cells[i].get_text() == nbb_unformatted_code) {\n",
       "                             nbb_cells[i].set_text(nbb_formatted_code);\n",
       "                        }\n",
       "                        break;\n",
       "                    }\n",
       "                }\n",
       "            }, 500);\n",
       "            "
      ],
      "text/plain": [
       "<IPython.core.display.Javascript object>"
      ]
     },
     "metadata": {},
     "output_type": "display_data"
    }
   ],
   "source": [
    "for i, asin in enumerate(timeseries_asin):\n",
    "    prod_embeddings[i, :] = embedding_df[\"embedding\"][\n",
    "        np.where(embedding_df[\"asin\"] == asin)[0][0]\n",
    "    ]"
   ]
  },
  {
   "cell_type": "code",
   "execution_count": 23,
   "id": "c042e5e3",
   "metadata": {},
   "outputs": [
    {
     "data": {
      "application/javascript": [
       "\n",
       "            setTimeout(function() {\n",
       "                var nbb_cell_id = 23;\n",
       "                var nbb_unformatted_code = \"# Check that all entries in prod_embeddings have been filled and no zeros remain\\nfor i in range(prod_embeddings.shape[0]):\\n    np.testing.assert_raises(\\n        AssertionError,\\n        np.testing.assert_array_equal,\\n        prod_embeddings[i, :],\\n        np.zeros(prod_embeddings.shape[1]),\\n    )\";\n",
       "                var nbb_formatted_code = \"# Check that all entries in prod_embeddings have been filled and no zeros remain\\nfor i in range(prod_embeddings.shape[0]):\\n    np.testing.assert_raises(\\n        AssertionError,\\n        np.testing.assert_array_equal,\\n        prod_embeddings[i, :],\\n        np.zeros(prod_embeddings.shape[1]),\\n    )\";\n",
       "                var nbb_cells = Jupyter.notebook.get_cells();\n",
       "                for (var i = 0; i < nbb_cells.length; ++i) {\n",
       "                    if (nbb_cells[i].input_prompt_number == nbb_cell_id) {\n",
       "                        if (nbb_cells[i].get_text() == nbb_unformatted_code) {\n",
       "                             nbb_cells[i].set_text(nbb_formatted_code);\n",
       "                        }\n",
       "                        break;\n",
       "                    }\n",
       "                }\n",
       "            }, 500);\n",
       "            "
      ],
      "text/plain": [
       "<IPython.core.display.Javascript object>"
      ]
     },
     "metadata": {},
     "output_type": "display_data"
    }
   ],
   "source": [
    "# Check that all entries in prod_embeddings have been filled and no zeros remain\n",
    "for i in range(prod_embeddings.shape[0]):\n",
    "    np.testing.assert_raises(\n",
    "        AssertionError,\n",
    "        np.testing.assert_array_equal,\n",
    "        prod_embeddings[i, :],\n",
    "        np.zeros(prod_embeddings.shape[1]),\n",
    "    )"
   ]
  },
  {
   "cell_type": "code",
   "execution_count": 24,
   "id": "ae6fcc3e",
   "metadata": {},
   "outputs": [
    {
     "data": {
      "text/plain": [
       "array([[ 0.0417603 , -0.0184949 ,  0.0051865 , ...,  0.0144864 ,\n",
       "         0.0513338 , -0.00083304],\n",
       "       [-0.00676847, -0.0357962 , -0.0213361 , ...,  0.00515983,\n",
       "        -0.0195145 ,  0.00069865],\n",
       "       [ 0.00324716,  0.0094663 ,  0.00638726, ..., -0.00134284,\n",
       "        -0.016803  , -0.0119215 ],\n",
       "       ...,\n",
       "       [ 0.0290542 ,  0.0164428 , -0.00513992, ..., -0.0171744 ,\n",
       "         0.0152872 ,  0.0220019 ],\n",
       "       [ 0.0101497 ,  0.00204149, -0.0213041 , ..., -0.0312605 ,\n",
       "         0.0441172 ,  0.0134279 ],\n",
       "       [-0.0409308 ,  0.02312   , -0.0420895 , ..., -0.0155858 ,\n",
       "         0.00556547,  0.0107627 ]])"
      ]
     },
     "execution_count": 24,
     "metadata": {},
     "output_type": "execute_result"
    },
    {
     "data": {
      "application/javascript": [
       "\n",
       "            setTimeout(function() {\n",
       "                var nbb_cell_id = 24;\n",
       "                var nbb_unformatted_code = \"prod_embeddings\";\n",
       "                var nbb_formatted_code = \"prod_embeddings\";\n",
       "                var nbb_cells = Jupyter.notebook.get_cells();\n",
       "                for (var i = 0; i < nbb_cells.length; ++i) {\n",
       "                    if (nbb_cells[i].input_prompt_number == nbb_cell_id) {\n",
       "                        if (nbb_cells[i].get_text() == nbb_unformatted_code) {\n",
       "                             nbb_cells[i].set_text(nbb_formatted_code);\n",
       "                        }\n",
       "                        break;\n",
       "                    }\n",
       "                }\n",
       "            }, 500);\n",
       "            "
      ],
      "text/plain": [
       "<IPython.core.display.Javascript object>"
      ]
     },
     "metadata": {},
     "output_type": "display_data"
    }
   ],
   "source": [
    "prod_embeddings"
   ]
  },
  {
   "cell_type": "code",
   "execution_count": 25,
   "id": "f1c664d9",
   "metadata": {},
   "outputs": [
    {
     "data": {
      "text/plain": [
       "(1406,)"
      ]
     },
     "execution_count": 25,
     "metadata": {},
     "output_type": "execute_result"
    },
    {
     "data": {
      "application/javascript": [
       "\n",
       "            setTimeout(function() {\n",
       "                var nbb_cell_id = 25;\n",
       "                var nbb_unformatted_code = \"timeseries_data.shape\";\n",
       "                var nbb_formatted_code = \"timeseries_data.shape\";\n",
       "                var nbb_cells = Jupyter.notebook.get_cells();\n",
       "                for (var i = 0; i < nbb_cells.length; ++i) {\n",
       "                    if (nbb_cells[i].input_prompt_number == nbb_cell_id) {\n",
       "                        if (nbb_cells[i].get_text() == nbb_unformatted_code) {\n",
       "                             nbb_cells[i].set_text(nbb_formatted_code);\n",
       "                        }\n",
       "                        break;\n",
       "                    }\n",
       "                }\n",
       "            }, 500);\n",
       "            "
      ],
      "text/plain": [
       "<IPython.core.display.Javascript object>"
      ]
     },
     "metadata": {},
     "output_type": "display_data"
    }
   ],
   "source": [
    "timeseries_data.shape"
   ]
  },
  {
   "cell_type": "code",
   "execution_count": 26,
   "id": "3686d3d3",
   "metadata": {},
   "outputs": [
    {
     "data": {
      "text/plain": [
       "(array([800., 297., 116.,  65.,  51.,  16.,  21.,  10.,  10.,  20.]),\n",
       " array([  2. ,  64.6, 127.2, 189.8, 252.4, 315. , 377.6, 440.2, 502.8,\n",
       "        565.4, 628. ]),\n",
       " <BarContainer object of 10 artists>)"
      ]
     },
     "execution_count": 26,
     "metadata": {},
     "output_type": "execute_result"
    },
    {
     "data": {
      "image/png": "[encoded data removed]",
      "text/plain": [
       "<Figure size 432x288 with 1 Axes>"
      ]
     },
     "metadata": {},
     "output_type": "display_data"
    },
    {
     "data": {
      "application/javascript": [
       "\n",
       "            setTimeout(function() {\n",
       "                var nbb_cell_id = 26;\n",
       "                var nbb_unformatted_code = \"plt.hist([len(timeseries) for timeseries in timeseries_data])\";\n",
       "                var nbb_formatted_code = \"plt.hist([len(timeseries) for timeseries in timeseries_data])\";\n",
       "                var nbb_cells = Jupyter.notebook.get_cells();\n",
       "                for (var i = 0; i < nbb_cells.length; ++i) {\n",
       "                    if (nbb_cells[i].input_prompt_number == nbb_cell_id) {\n",
       "                        if (nbb_cells[i].get_text() == nbb_unformatted_code) {\n",
       "                             nbb_cells[i].set_text(nbb_formatted_code);\n",
       "                        }\n",
       "                        break;\n",
       "                    }\n",
       "                }\n",
       "            }, 500);\n",
       "            "
      ],
      "text/plain": [
       "<IPython.core.display.Javascript object>"
      ]
     },
     "metadata": {},
     "output_type": "display_data"
    }
   ],
   "source": [
    "plt.hist([len(timeseries) for timeseries in timeseries_data])"
   ]
  },
  {
   "cell_type": "markdown",
   "id": "1857f5b7",
   "metadata": {},
   "source": [
    "**We will cut off the review timeseries for each product halfway. We will use the first half of each timeseries as input to the simulation process, and will try to predict the 2nd half through the simulations** "
   ]
  },
  {
   "cell_type": "code",
   "execution_count": 50,
   "id": "9a0a8ae6",
   "metadata": {},
   "outputs": [
    {
     "data": {
      "application/javascript": [
       "\n",
       "            setTimeout(function() {\n",
       "                var nbb_cell_id = 50;\n",
       "                var nbb_unformatted_code = \"timeseries_input = []\\ntimeseries_half_len = np.zeros(len(timeseries_data), dtype=int)\\nfor i, timeseries in enumerate(timeseries_data):\\n    timeseries_half_len[i] = len(timeseries) // 2\\n    timeseries_input.append(timeseries[: timeseries_half_len[i], :])\";\n",
       "                var nbb_formatted_code = \"timeseries_input = []\\ntimeseries_half_len = np.zeros(len(timeseries_data), dtype=int)\\nfor i, timeseries in enumerate(timeseries_data):\\n    timeseries_half_len[i] = len(timeseries) // 2\\n    timeseries_input.append(timeseries[: timeseries_half_len[i], :])\";\n",
       "                var nbb_cells = Jupyter.notebook.get_cells();\n",
       "                for (var i = 0; i < nbb_cells.length; ++i) {\n",
       "                    if (nbb_cells[i].input_prompt_number == nbb_cell_id) {\n",
       "                        if (nbb_cells[i].get_text() == nbb_unformatted_code) {\n",
       "                             nbb_cells[i].set_text(nbb_formatted_code);\n",
       "                        }\n",
       "                        break;\n",
       "                    }\n",
       "                }\n",
       "            }, 500);\n",
       "            "
      ],
      "text/plain": [
       "<IPython.core.display.Javascript object>"
      ]
     },
     "metadata": {},
     "output_type": "display_data"
    }
   ],
   "source": [
    "timeseries_input = []\n",
    "timeseries_half_len = np.zeros(len(timeseries_data), dtype=int)\n",
    "for i, timeseries in enumerate(timeseries_data):\n",
    "    timeseries_half_len[i] = len(timeseries) // 2\n",
    "    timeseries_input.append(timeseries[: timeseries_half_len[i], :])"
   ]
  },
  {
   "cell_type": "code",
   "execution_count": 28,
   "id": "9988d522",
   "metadata": {},
   "outputs": [
    {
     "data": {
      "application/javascript": [
       "\n",
       "            setTimeout(function() {\n",
       "                var nbb_cell_id = 28;\n",
       "                var nbb_unformatted_code = \"# Check that halving the timeseries has not resulted in zero ratings for any product\\nassert np.sum(timeseries_half_len == 0) == 0\";\n",
       "                var nbb_formatted_code = \"# Check that halving the timeseries has not resulted in zero ratings for any product\\nassert np.sum(timeseries_half_len == 0) == 0\";\n",
       "                var nbb_cells = Jupyter.notebook.get_cells();\n",
       "                for (var i = 0; i < nbb_cells.length; ++i) {\n",
       "                    if (nbb_cells[i].input_prompt_number == nbb_cell_id) {\n",
       "                        if (nbb_cells[i].get_text() == nbb_unformatted_code) {\n",
       "                             nbb_cells[i].set_text(nbb_formatted_code);\n",
       "                        }\n",
       "                        break;\n",
       "                    }\n",
       "                }\n",
       "            }, 500);\n",
       "            "
      ],
      "text/plain": [
       "<IPython.core.display.Javascript object>"
      ]
     },
     "metadata": {},
     "output_type": "display_data"
    }
   ],
   "source": [
    "# Check that halving the timeseries has not resulted in zero ratings for any product\n",
    "assert np.sum(timeseries_half_len == 0) == 0"
   ]
  },
  {
   "cell_type": "code",
   "execution_count": 29,
   "id": "85a7f557",
   "metadata": {},
   "outputs": [
    {
     "data": {
      "text/html": [
       "<div>\n",
       "<style scoped>\n",
       "    .dataframe tbody tr th:only-of-type {\n",
       "        vertical-align: middle;\n",
       "    }\n",
       "\n",
       "    .dataframe tbody tr th {\n",
       "        vertical-align: top;\n",
       "    }\n",
       "\n",
       "    .dataframe thead th {\n",
       "        text-align: right;\n",
       "    }\n",
       "</style>\n",
       "<table border=\"1\" class=\"dataframe\">\n",
       "  <thead>\n",
       "    <tr style=\"text-align: right;\">\n",
       "      <th></th>\n",
       "      <th>0</th>\n",
       "    </tr>\n",
       "  </thead>\n",
       "  <tbody>\n",
       "    <tr>\n",
       "      <th>count</th>\n",
       "      <td>1406.000000</td>\n",
       "    </tr>\n",
       "    <tr>\n",
       "      <th>mean</th>\n",
       "      <td>47.382646</td>\n",
       "    </tr>\n",
       "    <tr>\n",
       "      <th>std</th>\n",
       "      <td>57.399816</td>\n",
       "    </tr>\n",
       "    <tr>\n",
       "      <th>min</th>\n",
       "      <td>1.000000</td>\n",
       "    </tr>\n",
       "    <tr>\n",
       "      <th>25%</th>\n",
       "      <td>13.000000</td>\n",
       "    </tr>\n",
       "    <tr>\n",
       "      <th>50%</th>\n",
       "      <td>26.000000</td>\n",
       "    </tr>\n",
       "    <tr>\n",
       "      <th>75%</th>\n",
       "      <td>57.000000</td>\n",
       "    </tr>\n",
       "    <tr>\n",
       "      <th>max</th>\n",
       "      <td>314.000000</td>\n",
       "    </tr>\n",
       "  </tbody>\n",
       "</table>\n",
       "</div>"
      ],
      "text/plain": [
       "                 0\n",
       "count  1406.000000\n",
       "mean     47.382646\n",
       "std      57.399816\n",
       "min       1.000000\n",
       "25%      13.000000\n",
       "50%      26.000000\n",
       "75%      57.000000\n",
       "max     314.000000"
      ]
     },
     "execution_count": 29,
     "metadata": {},
     "output_type": "execute_result"
    },
    {
     "data": {
      "application/javascript": [
       "\n",
       "            setTimeout(function() {\n",
       "                var nbb_cell_id = 29;\n",
       "                var nbb_unformatted_code = \"pd.DataFrame(timeseries_half_len).describe()\";\n",
       "                var nbb_formatted_code = \"pd.DataFrame(timeseries_half_len).describe()\";\n",
       "                var nbb_cells = Jupyter.notebook.get_cells();\n",
       "                for (var i = 0; i < nbb_cells.length; ++i) {\n",
       "                    if (nbb_cells[i].input_prompt_number == nbb_cell_id) {\n",
       "                        if (nbb_cells[i].get_text() == nbb_unformatted_code) {\n",
       "                             nbb_cells[i].set_text(nbb_formatted_code);\n",
       "                        }\n",
       "                        break;\n",
       "                    }\n",
       "                }\n",
       "            }, 500);\n",
       "            "
      ],
      "text/plain": [
       "<IPython.core.display.Javascript object>"
      ]
     },
     "metadata": {},
     "output_type": "display_data"
    }
   ],
   "source": [
    "pd.DataFrame(timeseries_half_len).describe()"
   ]
  },
  {
   "cell_type": "code",
   "execution_count": 30,
   "id": "8b9b228b",
   "metadata": {},
   "outputs": [
    {
     "data": {
      "application/javascript": [
       "\n",
       "            setTimeout(function() {\n",
       "                var nbb_cell_id = 30;\n",
       "                var nbb_unformatted_code = \"timeseries_input = np.array(timeseries_input, dtype=object)\";\n",
       "                var nbb_formatted_code = \"timeseries_input = np.array(timeseries_input, dtype=object)\";\n",
       "                var nbb_cells = Jupyter.notebook.get_cells();\n",
       "                for (var i = 0; i < nbb_cells.length; ++i) {\n",
       "                    if (nbb_cells[i].input_prompt_number == nbb_cell_id) {\n",
       "                        if (nbb_cells[i].get_text() == nbb_unformatted_code) {\n",
       "                             nbb_cells[i].set_text(nbb_formatted_code);\n",
       "                        }\n",
       "                        break;\n",
       "                    }\n",
       "                }\n",
       "            }, 500);\n",
       "            "
      ],
      "text/plain": [
       "<IPython.core.display.Javascript object>"
      ]
     },
     "metadata": {},
     "output_type": "display_data"
    }
   ],
   "source": [
    "timeseries_input = np.array(timeseries_input, dtype=object)"
   ]
  },
  {
   "cell_type": "code",
   "execution_count": 31,
   "id": "513b78d7",
   "metadata": {},
   "outputs": [
    {
     "data": {
      "text/plain": [
       "1406"
      ]
     },
     "execution_count": 31,
     "metadata": {},
     "output_type": "execute_result"
    },
    {
     "data": {
      "application/javascript": [
       "\n",
       "            setTimeout(function() {\n",
       "                var nbb_cell_id = 31;\n",
       "                var nbb_unformatted_code = \"len(timeseries_input)\";\n",
       "                var nbb_formatted_code = \"len(timeseries_input)\";\n",
       "                var nbb_cells = Jupyter.notebook.get_cells();\n",
       "                for (var i = 0; i < nbb_cells.length; ++i) {\n",
       "                    if (nbb_cells[i].input_prompt_number == nbb_cell_id) {\n",
       "                        if (nbb_cells[i].get_text() == nbb_unformatted_code) {\n",
       "                             nbb_cells[i].set_text(nbb_formatted_code);\n",
       "                        }\n",
       "                        break;\n",
       "                    }\n",
       "                }\n",
       "            }, 500);\n",
       "            "
      ],
      "text/plain": [
       "<IPython.core.display.Javascript object>"
      ]
     },
     "metadata": {},
     "output_type": "display_data"
    }
   ],
   "source": [
    "len(timeseries_input)"
   ]
  },
  {
   "cell_type": "code",
   "execution_count": 32,
   "id": "1eab9cfb",
   "metadata": {},
   "outputs": [
    {
     "data": {
      "text/plain": [
       "66620"
      ]
     },
     "execution_count": 32,
     "metadata": {},
     "output_type": "execute_result"
    },
    {
     "data": {
      "application/javascript": [
       "\n",
       "            setTimeout(function() {\n",
       "                var nbb_cell_id = 32;\n",
       "                var nbb_unformatted_code = \"np.sum(timeseries_half_len)\";\n",
       "                var nbb_formatted_code = \"np.sum(timeseries_half_len)\";\n",
       "                var nbb_cells = Jupyter.notebook.get_cells();\n",
       "                for (var i = 0; i < nbb_cells.length; ++i) {\n",
       "                    if (nbb_cells[i].input_prompt_number == nbb_cell_id) {\n",
       "                        if (nbb_cells[i].get_text() == nbb_unformatted_code) {\n",
       "                             nbb_cells[i].set_text(nbb_formatted_code);\n",
       "                        }\n",
       "                        break;\n",
       "                    }\n",
       "                }\n",
       "            }, 500);\n",
       "            "
      ],
      "text/plain": [
       "<IPython.core.display.Javascript object>"
      ]
     },
     "metadata": {},
     "output_type": "display_data"
    }
   ],
   "source": [
    "np.sum(timeseries_half_len)"
   ]
  },
  {
   "cell_type": "code",
   "execution_count": 39,
   "id": "ba13c5d0",
   "metadata": {},
   "outputs": [
    {
     "data": {
      "application/javascript": [
       "\n",
       "            setTimeout(function() {\n",
       "                var nbb_cell_id = 39;\n",
       "                var nbb_unformatted_code = \"# Create the dict of simulator parameters\\nsimulator_params = {\\n    \\\"review_prior\\\": np.ones(5),\\n    \\\"tendency_to_rate\\\": 0.05,\\n    \\\"simulation_type\\\": \\\"timeseries\\\",\\n    \\\"previous_rating_measure\\\": \\\"mode\\\",\\n    \\\"min_reviews_for_herding\\\": 5,\\n    \\\"num_products\\\": posterior_samples.shape[1],\\n    #\\\"num_products\\\": 100,\\n    \\\"num_total_marketplace_reviews\\\": 140_000,\\n    #\\\"num_total_marketplace_reviews\\\": 10_000,\\n    \\\"consideration_set_size\\\": 5,\\n    \\\"one_star_lowest_limit\\\": -1.5,\\n    \\\"five_star_highest_limit\\\": 1.5,\\n    \\\"herding_differentiating_measure\\\": \\\"mean\\\"\\n}\\nnum_marketplaces = 32\";\n",
       "                var nbb_formatted_code = \"# Create the dict of simulator parameters\\nsimulator_params = {\\n    \\\"review_prior\\\": np.ones(5),\\n    \\\"tendency_to_rate\\\": 0.05,\\n    \\\"simulation_type\\\": \\\"timeseries\\\",\\n    \\\"previous_rating_measure\\\": \\\"mode\\\",\\n    \\\"min_reviews_for_herding\\\": 5,\\n    \\\"num_products\\\": posterior_samples.shape[1],\\n    # \\\"num_products\\\": 100,\\n    \\\"num_total_marketplace_reviews\\\": 140_000,\\n    # \\\"num_total_marketplace_reviews\\\": 10_000,\\n    \\\"consideration_set_size\\\": 5,\\n    \\\"one_star_lowest_limit\\\": -1.5,\\n    \\\"five_star_highest_limit\\\": 1.5,\\n    \\\"herding_differentiating_measure\\\": \\\"mean\\\",\\n}\\nnum_marketplaces = 32\";\n",
       "                var nbb_cells = Jupyter.notebook.get_cells();\n",
       "                for (var i = 0; i < nbb_cells.length; ++i) {\n",
       "                    if (nbb_cells[i].input_prompt_number == nbb_cell_id) {\n",
       "                        if (nbb_cells[i].get_text() == nbb_unformatted_code) {\n",
       "                             nbb_cells[i].set_text(nbb_formatted_code);\n",
       "                        }\n",
       "                        break;\n",
       "                    }\n",
       "                }\n",
       "            }, 500);\n",
       "            "
      ],
      "text/plain": [
       "<IPython.core.display.Javascript object>"
      ]
     },
     "metadata": {},
     "output_type": "display_data"
    }
   ],
   "source": [
    "# Create the dict of simulator parameters\n",
    "simulator_params = {\n",
    "    \"review_prior\": np.ones(5),\n",
    "    \"tendency_to_rate\": 0.05,\n",
    "    \"simulation_type\": \"timeseries\",\n",
    "    \"previous_rating_measure\": \"mode\",\n",
    "    \"min_reviews_for_herding\": 5,\n",
    "    \"num_products\": posterior_samples.shape[1],\n",
    "    #\"num_products\": 100,\n",
    "    \"num_total_marketplace_reviews\": 140_000,\n",
    "    #\"num_total_marketplace_reviews\": 10_000,\n",
    "    \"consideration_set_size\": 5,\n",
    "    \"one_star_lowest_limit\": -1.5,\n",
    "    \"five_star_highest_limit\": 1.5,\n",
    "    \"herding_differentiating_measure\": \"mean\"\n",
    "}\n",
    "num_marketplaces = 32"
   ]
  },
  {
   "cell_type": "code",
   "execution_count": 36,
   "id": "8c2e70bd",
   "metadata": {},
   "outputs": [
    {
     "data": {
      "text/plain": [
       "(2000, 44992, 8)"
      ]
     },
     "execution_count": 36,
     "metadata": {},
     "output_type": "execute_result"
    },
    {
     "data": {
      "application/javascript": [
       "\n",
       "            setTimeout(function() {\n",
       "                var nbb_cell_id = 36;\n",
       "                var nbb_unformatted_code = \"# Sample from the posteriors to build a simulation parameter dict that we can use to input during simulations\\n# Since the posteriors were already sampled at random from the underlying normalizing flow, we can just\\n# directly use them\\nreshaped_posterior = np.tile(\\n    posterior_samples[:, None, :, :], (1, num_marketplaces, 1, 1)\\n).reshape(posterior_samples.shape[0], -1, 8)\\nreshaped_posterior.shape\";\n",
       "                var nbb_formatted_code = \"# Sample from the posteriors to build a simulation parameter dict that we can use to input during simulations\\n# Since the posteriors were already sampled at random from the underlying normalizing flow, we can just\\n# directly use them\\nreshaped_posterior = np.tile(\\n    posterior_samples[:, None, :, :], (1, num_marketplaces, 1, 1)\\n).reshape(posterior_samples.shape[0], -1, 8)\\nreshaped_posterior.shape\";\n",
       "                var nbb_cells = Jupyter.notebook.get_cells();\n",
       "                for (var i = 0; i < nbb_cells.length; ++i) {\n",
       "                    if (nbb_cells[i].input_prompt_number == nbb_cell_id) {\n",
       "                        if (nbb_cells[i].get_text() == nbb_unformatted_code) {\n",
       "                             nbb_cells[i].set_text(nbb_formatted_code);\n",
       "                        }\n",
       "                        break;\n",
       "                    }\n",
       "                }\n",
       "            }, 500);\n",
       "            "
      ],
      "text/plain": [
       "<IPython.core.display.Javascript object>"
      ]
     },
     "metadata": {},
     "output_type": "display_data"
    }
   ],
   "source": [
    "# Sample from the posteriors to build a simulation parameter dict that we can use to input during simulations\n",
    "# Since the posteriors were already sampled at random from the underlying normalizing flow, we can just\n",
    "# directly use them\n",
    "reshaped_posterior = np.tile(\n",
    "    posterior_samples[:, None, :, :], (1, num_marketplaces, 1, 1)\n",
    ").reshape(posterior_samples.shape[0], -1, 8)\n",
    "reshaped_posterior.shape"
   ]
  },
  {
   "cell_type": "code",
   "execution_count": 37,
   "id": "0ef0e439",
   "metadata": {},
   "outputs": [
    {
     "data": {
      "application/javascript": [
       "\n",
       "            setTimeout(function() {\n",
       "                var nbb_cell_id = 37;\n",
       "                var nbb_unformatted_code = \"for i in range(num_marketplaces):\\n    np.testing.assert_array_equal(\\n        reshaped_posterior[\\n            :, posterior_samples.shape[1] * i : posterior_samples.shape[1] * (i + 1), :\\n        ],\\n        posterior_samples[:, :, :],\\n    )\\nsimulation_params = {\\n    \\\"rho\\\": reshaped_posterior[:, :, :2],\\n    \\\"h_p\\\": reshaped_posterior[:, :, 2:4],\\n    \\\"p_1\\\": reshaped_posterior[:, :, 4],\\n    \\\"p_2\\\": reshaped_posterior[:, :, 5],\\n    \\\"p_4\\\": reshaped_posterior[:, :, 6],\\n    \\\"p_5\\\": reshaped_posterior[:, :, 7]\\n}\";\n",
       "                var nbb_formatted_code = \"for i in range(num_marketplaces):\\n    np.testing.assert_array_equal(\\n        reshaped_posterior[\\n            :, posterior_samples.shape[1] * i : posterior_samples.shape[1] * (i + 1), :\\n        ],\\n        posterior_samples[:, :, :],\\n    )\\nsimulation_params = {\\n    \\\"rho\\\": reshaped_posterior[:, :, :2],\\n    \\\"h_p\\\": reshaped_posterior[:, :, 2:4],\\n    \\\"p_1\\\": reshaped_posterior[:, :, 4],\\n    \\\"p_2\\\": reshaped_posterior[:, :, 5],\\n    \\\"p_4\\\": reshaped_posterior[:, :, 6],\\n    \\\"p_5\\\": reshaped_posterior[:, :, 7],\\n}\";\n",
       "                var nbb_cells = Jupyter.notebook.get_cells();\n",
       "                for (var i = 0; i < nbb_cells.length; ++i) {\n",
       "                    if (nbb_cells[i].input_prompt_number == nbb_cell_id) {\n",
       "                        if (nbb_cells[i].get_text() == nbb_unformatted_code) {\n",
       "                             nbb_cells[i].set_text(nbb_formatted_code);\n",
       "                        }\n",
       "                        break;\n",
       "                    }\n",
       "                }\n",
       "            }, 500);\n",
       "            "
      ],
      "text/plain": [
       "<IPython.core.display.Javascript object>"
      ]
     },
     "metadata": {},
     "output_type": "display_data"
    }
   ],
   "source": [
    "for i in range(num_marketplaces):\n",
    "    np.testing.assert_array_equal(\n",
    "        reshaped_posterior[\n",
    "            :, posterior_samples.shape[1] * i : posterior_samples.shape[1] * (i + 1), :\n",
    "        ],\n",
    "        posterior_samples[:, :, :],\n",
    "    )\n",
    "simulation_params = {\n",
    "    \"rho\": reshaped_posterior[:, :, :2],\n",
    "    \"h_p\": reshaped_posterior[:, :, 2:4],\n",
    "    \"p_1\": reshaped_posterior[:, :, 4],\n",
    "    \"p_2\": reshaped_posterior[:, :, 5],\n",
    "    \"p_4\": reshaped_posterior[:, :, 6],\n",
    "    \"p_5\": reshaped_posterior[:, :, 7],\n",
    "}"
   ]
  },
  {
   "cell_type": "code",
   "execution_count": 40,
   "id": "6cff576e",
   "metadata": {
    "scrolled": true
   },
   "outputs": [
    {
     "data": {
      "application/javascript": [
       "\n",
       "            setTimeout(function() {\n",
       "                var nbb_cell_id = 40;\n",
       "                var nbb_unformatted_code = \"simulator = marketplace_simulator_class.MarketplaceSimulator(simulator_params)\";\n",
       "                var nbb_formatted_code = \"simulator = marketplace_simulator_class.MarketplaceSimulator(simulator_params)\";\n",
       "                var nbb_cells = Jupyter.notebook.get_cells();\n",
       "                for (var i = 0; i < nbb_cells.length; ++i) {\n",
       "                    if (nbb_cells[i].input_prompt_number == nbb_cell_id) {\n",
       "                        if (nbb_cells[i].get_text() == nbb_unformatted_code) {\n",
       "                             nbb_cells[i].set_text(nbb_formatted_code);\n",
       "                        }\n",
       "                        break;\n",
       "                    }\n",
       "                }\n",
       "            }, 500);\n",
       "            "
      ],
      "text/plain": [
       "<IPython.core.display.Javascript object>"
      ]
     },
     "metadata": {},
     "output_type": "display_data"
    }
   ],
   "source": [
    "simulator = marketplace_simulator_class.MarketplaceSimulator(simulator_params)"
   ]
  },
  {
   "cell_type": "code",
   "execution_count": 41,
   "id": "cc2d64e0",
   "metadata": {},
   "outputs": [
    {
     "name": "stdout",
     "output_type": "stream",
     "text": [
      "Loaded product embedding density estimator: \n",
      " GaussianMixture(max_iter=500, n_components=10, n_init=5, random_state=42,\n",
      "                verbose=2, verbose_interval=20)\n",
      "Loaded user embedding density estimator: \n",
      " GaussianMixture(max_iter=500, n_components=10, n_init=5, random_state=42,\n",
      "                verbose=2, verbose_interval=20)\n",
      "\t Device set to cpu, using torch num threads=32\n",
      "Using the dense network: \n",
      " Sequential(\n",
      "  (0): Linear(in_features=100, out_features=256, bias=True)\n",
      "  (1): LeakyReLU(negative_slope=0.01)\n",
      "  (2): Linear(in_features=256, out_features=128, bias=True)\n",
      "  (3): LeakyReLU(negative_slope=0.01)\n",
      "  (4): Linear(in_features=128, out_features=64, bias=True)\n",
      "  (5): LeakyReLU(negative_slope=0.01)\n",
      "  (6): Linear(in_features=64, out_features=5, bias=True)\n",
      ")\n",
      "Loaded embedding -> rating predictor model: \n",
      " RatingPredictorModel(\n",
      "  (net): Sequential(\n",
      "    (0): Linear(in_features=100, out_features=256, bias=True)\n",
      "    (1): LeakyReLU(negative_slope=0.01)\n",
      "    (2): Linear(in_features=256, out_features=128, bias=True)\n",
      "    (3): LeakyReLU(negative_slope=0.01)\n",
      "    (4): Linear(in_features=128, out_features=64, bias=True)\n",
      "    (5): LeakyReLU(negative_slope=0.01)\n",
      "    (6): Linear(in_features=64, out_features=5, bias=True)\n",
      "  )\n",
      ")\n"
     ]
    },
    {
     "data": {
      "application/vnd.jupyter.widget-view+json": {
       "model_id": "e4857e3f367d4096989f2780147e8934",
       "version_major": 2,
       "version_minor": 0
      },
      "text/plain": [
       "Worker 1:   0%|          | 0/140000 [00:00<?, ?it/s]"
      ]
     },
     "metadata": {},
     "output_type": "display_data"
    },
    {
     "data": {
      "application/vnd.jupyter.widget-view+json": {
       "model_id": "ce75231196d146469a8dfc18c171e506",
       "version_major": 2,
       "version_minor": 0
      },
      "text/plain": [
       "Worker 2:   0%|          | 0/140000 [00:00<?, ?it/s]"
      ]
     },
     "metadata": {},
     "output_type": "display_data"
    },
    {
     "data": {
      "application/vnd.jupyter.widget-view+json": {
       "model_id": "6ba27414bcea424b96feb51b4865c2f2",
       "version_major": 2,
       "version_minor": 0
      },
      "text/plain": [
       "Worker 3:   0%|          | 0/140000 [00:00<?, ?it/s]"
      ]
     },
     "metadata": {},
     "output_type": "display_data"
    },
    {
     "data": {
      "application/vnd.jupyter.widget-view+json": {
       "model_id": "3cba41cb7a1640df8ff2a7eb9bf7d9b8",
       "version_major": 2,
       "version_minor": 0
      },
      "text/plain": [
       "Worker 4:   0%|          | 0/140000 [00:00<?, ?it/s]"
      ]
     },
     "metadata": {},
     "output_type": "display_data"
    },
    {
     "data": {
      "application/vnd.jupyter.widget-view+json": {
       "model_id": "7f85c1a0f7494405a530302efdbba85f",
       "version_major": 2,
       "version_minor": 0
      },
      "text/plain": [
       "Worker 5:   0%|          | 0/140000 [00:00<?, ?it/s]"
      ]
     },
     "metadata": {},
     "output_type": "display_data"
    },
    {
     "data": {
      "application/vnd.jupyter.widget-view+json": {
       "model_id": "33671a91c79942cfa9e9e3d613b76584",
       "version_major": 2,
       "version_minor": 0
      },
      "text/plain": [
       "Worker 6:   0%|          | 0/140000 [00:00<?, ?it/s]"
      ]
     },
     "metadata": {},
     "output_type": "display_data"
    },
    {
     "data": {
      "application/vnd.jupyter.widget-view+json": {
       "model_id": "98d11ae9854340848c60bb01300d3d0c",
       "version_major": 2,
       "version_minor": 0
      },
      "text/plain": [
       "Worker 7:   0%|          | 0/140000 [00:00<?, ?it/s]"
      ]
     },
     "metadata": {},
     "output_type": "display_data"
    },
    {
     "data": {
      "application/vnd.jupyter.widget-view+json": {
       "model_id": "7bd944f1ac3b4ccdae00c53e38f7fa1f",
       "version_major": 2,
       "version_minor": 0
      },
      "text/plain": [
       "Worker 8:   0%|          | 0/140000 [00:00<?, ?it/s]"
      ]
     },
     "metadata": {},
     "output_type": "display_data"
    },
    {
     "data": {
      "application/vnd.jupyter.widget-view+json": {
       "model_id": "9f398cb5dae24abaa8a99c9f8ed1b0bc",
       "version_major": 2,
       "version_minor": 0
      },
      "text/plain": [
       "Worker 9:   0%|          | 0/140000 [00:00<?, ?it/s]"
      ]
     },
     "metadata": {},
     "output_type": "display_data"
    },
    {
     "data": {
      "application/vnd.jupyter.widget-view+json": {
       "model_id": "d3294c5addb34a228a54af28233d3a73",
       "version_major": 2,
       "version_minor": 0
      },
      "text/plain": [
       "Worker 10:   0%|          | 0/140000 [00:00<?, ?it/s]"
      ]
     },
     "metadata": {},
     "output_type": "display_data"
    },
    {
     "data": {
      "application/vnd.jupyter.widget-view+json": {
       "model_id": "5d31f6b547714341b68b011853093bf6",
       "version_major": 2,
       "version_minor": 0
      },
      "text/plain": [
       "Worker 11:   0%|          | 0/140000 [00:00<?, ?it/s]"
      ]
     },
     "metadata": {},
     "output_type": "display_data"
    },
    {
     "data": {
      "application/vnd.jupyter.widget-view+json": {
       "model_id": "2295428569c94a15aa57cdb537cf4870",
       "version_major": 2,
       "version_minor": 0
      },
      "text/plain": [
       "Worker 12:   0%|          | 0/140000 [00:00<?, ?it/s]"
      ]
     },
     "metadata": {},
     "output_type": "display_data"
    },
    {
     "data": {
      "application/vnd.jupyter.widget-view+json": {
       "model_id": "b604908830d3450f9fdd3a8b13d79f61",
       "version_major": 2,
       "version_minor": 0
      },
      "text/plain": [
       "Worker 13:   0%|          | 0/140000 [00:00<?, ?it/s]"
      ]
     },
     "metadata": {},
     "output_type": "display_data"
    },
    {
     "data": {
      "application/vnd.jupyter.widget-view+json": {
       "model_id": "add50813c1f6444e9be92aefd5414e5c",
       "version_major": 2,
       "version_minor": 0
      },
      "text/plain": [
       "Worker 14:   0%|          | 0/140000 [00:00<?, ?it/s]"
      ]
     },
     "metadata": {},
     "output_type": "display_data"
    },
    {
     "data": {
      "application/vnd.jupyter.widget-view+json": {
       "model_id": "94219634950d4858b1e020434de004d5",
       "version_major": 2,
       "version_minor": 0
      },
      "text/plain": [
       "Worker 15:   0%|          | 0/140000 [00:00<?, ?it/s]"
      ]
     },
     "metadata": {},
     "output_type": "display_data"
    },
    {
     "data": {
      "application/vnd.jupyter.widget-view+json": {
       "model_id": "406712db5a4d45e693e1c29d40df6315",
       "version_major": 2,
       "version_minor": 0
      },
      "text/plain": [
       "Worker 16:   0%|          | 0/140000 [00:00<?, ?it/s]"
      ]
     },
     "metadata": {},
     "output_type": "display_data"
    },
    {
     "data": {
      "application/vnd.jupyter.widget-view+json": {
       "model_id": "9bca0b75d5554346b7533d97250a10f8",
       "version_major": 2,
       "version_minor": 0
      },
      "text/plain": [
       "Worker 17:   0%|          | 0/140000 [00:00<?, ?it/s]"
      ]
     },
     "metadata": {},
     "output_type": "display_data"
    },
    {
     "data": {
      "application/vnd.jupyter.widget-view+json": {
       "model_id": "7d09762ec7ee4664bc12cb5f5c87550a",
       "version_major": 2,
       "version_minor": 0
      },
      "text/plain": [
       "Worker 18:   0%|          | 0/140000 [00:00<?, ?it/s]"
      ]
     },
     "metadata": {},
     "output_type": "display_data"
    },
    {
     "data": {
      "application/vnd.jupyter.widget-view+json": {
       "model_id": "2a8d024af05e460e9a8f66adfadae2f3",
       "version_major": 2,
       "version_minor": 0
      },
      "text/plain": [
       "Worker 19:   0%|          | 0/140000 [00:00<?, ?it/s]"
      ]
     },
     "metadata": {},
     "output_type": "display_data"
    },
    {
     "data": {
      "application/vnd.jupyter.widget-view+json": {
       "model_id": "90ae91f51c4a421383865d89c53d7893",
       "version_major": 2,
       "version_minor": 0
      },
      "text/plain": [
       "Worker 20:   0%|          | 0/140000 [00:00<?, ?it/s]"
      ]
     },
     "metadata": {},
     "output_type": "display_data"
    },
    {
     "data": {
      "application/vnd.jupyter.widget-view+json": {
       "model_id": "72cb46b38b304f338e9e3869cef5bed7",
       "version_major": 2,
       "version_minor": 0
      },
      "text/plain": [
       "Worker 21:   0%|          | 0/140000 [00:00<?, ?it/s]"
      ]
     },
     "metadata": {},
     "output_type": "display_data"
    },
    {
     "data": {
      "application/vnd.jupyter.widget-view+json": {
       "model_id": "e5c43367b350459c9971de48c000a29f",
       "version_major": 2,
       "version_minor": 0
      },
      "text/plain": [
       "Worker 22:   0%|          | 0/140000 [00:00<?, ?it/s]"
      ]
     },
     "metadata": {},
     "output_type": "display_data"
    },
    {
     "data": {
      "application/vnd.jupyter.widget-view+json": {
       "model_id": "56cd26ae8bec40478bbeae707950db25",
       "version_major": 2,
       "version_minor": 0
      },
      "text/plain": [
       "Worker 23:   0%|          | 0/140000 [00:00<?, ?it/s]"
      ]
     },
     "metadata": {},
     "output_type": "display_data"
    },
    {
     "data": {
      "application/vnd.jupyter.widget-view+json": {
       "model_id": "b9f81e09ea304452bb5f0bea2af83d66",
       "version_major": 2,
       "version_minor": 0
      },
      "text/plain": [
       "Worker 24:   0%|          | 0/140000 [00:00<?, ?it/s]"
      ]
     },
     "metadata": {},
     "output_type": "display_data"
    },
    {
     "data": {
      "application/vnd.jupyter.widget-view+json": {
       "model_id": "47d536183c5a49ca94414aade5361686",
       "version_major": 2,
       "version_minor": 0
      },
      "text/plain": [
       "Worker 25:   0%|          | 0/140000 [00:00<?, ?it/s]"
      ]
     },
     "metadata": {},
     "output_type": "display_data"
    },
    {
     "data": {
      "application/vnd.jupyter.widget-view+json": {
       "model_id": "ffd31c5e18464b35aebda4980ab1db03",
       "version_major": 2,
       "version_minor": 0
      },
      "text/plain": [
       "Worker 26:   0%|          | 0/140000 [00:00<?, ?it/s]"
      ]
     },
     "metadata": {},
     "output_type": "display_data"
    },
    {
     "data": {
      "application/vnd.jupyter.widget-view+json": {
       "model_id": "bd40a1c83cc847ebb6fc22178eb9a262",
       "version_major": 2,
       "version_minor": 0
      },
      "text/plain": [
       "Worker 27:   0%|          | 0/140000 [00:00<?, ?it/s]"
      ]
     },
     "metadata": {},
     "output_type": "display_data"
    },
    {
     "data": {
      "application/vnd.jupyter.widget-view+json": {
       "model_id": "b0f10aef9b0a45e09f2482e42868b6a5",
       "version_major": 2,
       "version_minor": 0
      },
      "text/plain": [
       "Worker 28:   0%|          | 0/140000 [00:00<?, ?it/s]"
      ]
     },
     "metadata": {},
     "output_type": "display_data"
    },
    {
     "data": {
      "application/vnd.jupyter.widget-view+json": {
       "model_id": "80eafe0092d541f2b6d6d6e66d12952c",
       "version_major": 2,
       "version_minor": 0
      },
      "text/plain": [
       "Worker 29:   0%|          | 0/140000 [00:00<?, ?it/s]"
      ]
     },
     "metadata": {},
     "output_type": "display_data"
    },
    {
     "data": {
      "application/vnd.jupyter.widget-view+json": {
       "model_id": "f3d1ef9394ff4c619b8993f1de537c8b",
       "version_major": 2,
       "version_minor": 0
      },
      "text/plain": [
       "Worker 30:   0%|          | 0/140000 [00:00<?, ?it/s]"
      ]
     },
     "metadata": {},
     "output_type": "display_data"
    },
    {
     "data": {
      "application/vnd.jupyter.widget-view+json": {
       "model_id": "a6992b035d444cab9cf31ecdffb24979",
       "version_major": 2,
       "version_minor": 0
      },
      "text/plain": [
       "Worker 31:   0%|          | 0/140000 [00:00<?, ?it/s]"
      ]
     },
     "metadata": {},
     "output_type": "display_data"
    },
    {
     "data": {
      "application/vnd.jupyter.widget-view+json": {
       "model_id": "79747bb7a3e24b32a19515cbfef21e0d",
       "version_major": 2,
       "version_minor": 0
      },
      "text/plain": [
       "Worker 32:   0%|          | 0/140000 [00:00<?, ?it/s]"
      ]
     },
     "metadata": {},
     "output_type": "display_data"
    },
    {
     "data": {
      "application/javascript": [
       "\n",
       "            setTimeout(function() {\n",
       "                var nbb_cell_id = 41;\n",
       "                var nbb_unformatted_code = \"simulator.simulate(\\n    num_simulations=num_marketplaces,\\n    simulation_parameters=simulation_params,\\n    existing_reviews=timeseries_input,\\n    product_embeddings=prod_embeddings,\\n    embeddings_artifact_path=ARTIFACT_PATH,\\n)\";\n",
       "                var nbb_formatted_code = \"simulator.simulate(\\n    num_simulations=num_marketplaces,\\n    simulation_parameters=simulation_params,\\n    existing_reviews=timeseries_input,\\n    product_embeddings=prod_embeddings,\\n    embeddings_artifact_path=ARTIFACT_PATH,\\n)\";\n",
       "                var nbb_cells = Jupyter.notebook.get_cells();\n",
       "                for (var i = 0; i < nbb_cells.length; ++i) {\n",
       "                    if (nbb_cells[i].input_prompt_number == nbb_cell_id) {\n",
       "                        if (nbb_cells[i].get_text() == nbb_unformatted_code) {\n",
       "                             nbb_cells[i].set_text(nbb_formatted_code);\n",
       "                        }\n",
       "                        break;\n",
       "                    }\n",
       "                }\n",
       "            }, 500);\n",
       "            "
      ],
      "text/plain": [
       "<IPython.core.display.Javascript object>"
      ]
     },
     "metadata": {},
     "output_type": "display_data"
    }
   ],
   "source": [
    "simulator.simulate(\n",
    "    num_simulations=num_marketplaces,\n",
    "    simulation_parameters=simulation_params,\n",
    "    existing_reviews=timeseries_input,\n",
    "    product_embeddings=prod_embeddings,\n",
    "    embeddings_artifact_path=ARTIFACT_PATH,\n",
    ")"
   ]
  },
  {
   "cell_type": "code",
   "execution_count": 42,
   "id": "55670771",
   "metadata": {},
   "outputs": [
    {
     "data": {
      "text/plain": [
       "32"
      ]
     },
     "execution_count": 42,
     "metadata": {},
     "output_type": "execute_result"
    },
    {
     "data": {
      "application/javascript": [
       "\n",
       "            setTimeout(function() {\n",
       "                var nbb_cell_id = 42;\n",
       "                var nbb_unformatted_code = \"len(simulator.simulations)\";\n",
       "                var nbb_formatted_code = \"len(simulator.simulations)\";\n",
       "                var nbb_cells = Jupyter.notebook.get_cells();\n",
       "                for (var i = 0; i < nbb_cells.length; ++i) {\n",
       "                    if (nbb_cells[i].input_prompt_number == nbb_cell_id) {\n",
       "                        if (nbb_cells[i].get_text() == nbb_unformatted_code) {\n",
       "                             nbb_cells[i].set_text(nbb_formatted_code);\n",
       "                        }\n",
       "                        break;\n",
       "                    }\n",
       "                }\n",
       "            }, 500);\n",
       "            "
      ],
      "text/plain": [
       "<IPython.core.display.Javascript object>"
      ]
     },
     "metadata": {},
     "output_type": "display_data"
    }
   ],
   "source": [
    "len(simulator.simulations)"
   ]
  },
  {
   "cell_type": "code",
   "execution_count": 43,
   "id": "f8bd94b1",
   "metadata": {},
   "outputs": [
    {
     "data": {
      "application/javascript": [
       "\n",
       "            setTimeout(function() {\n",
       "                var nbb_cell_id = 43;\n",
       "                var nbb_unformatted_code = \"simulator.save_simulations(ARTIFACT_PATH / \\\"simulations_from_posterior\\\")\";\n",
       "                var nbb_formatted_code = \"simulator.save_simulations(ARTIFACT_PATH / \\\"simulations_from_posterior\\\")\";\n",
       "                var nbb_cells = Jupyter.notebook.get_cells();\n",
       "                for (var i = 0; i < nbb_cells.length; ++i) {\n",
       "                    if (nbb_cells[i].input_prompt_number == nbb_cell_id) {\n",
       "                        if (nbb_cells[i].get_text() == nbb_unformatted_code) {\n",
       "                             nbb_cells[i].set_text(nbb_formatted_code);\n",
       "                        }\n",
       "                        break;\n",
       "                    }\n",
       "                }\n",
       "            }, 500);\n",
       "            "
      ],
      "text/plain": [
       "<IPython.core.display.Javascript object>"
      ]
     },
     "metadata": {},
     "output_type": "display_data"
    }
   ],
   "source": [
    "simulator.save_simulations(ARTIFACT_PATH / \"simulations_from_posterior\")"
   ]
  },
  {
   "cell_type": "code",
   "execution_count": 44,
   "id": "bafc317b",
   "metadata": {},
   "outputs": [
    {
     "data": {
      "application/javascript": [
       "\n",
       "            setTimeout(function() {\n",
       "                var nbb_cell_id = 44;\n",
       "                var nbb_unformatted_code = \"np.save(\\n    ARTIFACT_PATH / \\\"simulations_from_posterior\\\" / \\\"timeseries_input.npy\\\",\\n    timeseries_input,\\n)\\nnp.save(\\n    ARTIFACT_PATH / \\\"simulations_from_posterior\\\" / \\\"timeseries_half_len\\\",\\n    timeseries_half_len,\\n)\";\n",
       "                var nbb_formatted_code = \"np.save(\\n    ARTIFACT_PATH / \\\"simulations_from_posterior\\\" / \\\"timeseries_input.npy\\\",\\n    timeseries_input,\\n)\\nnp.save(\\n    ARTIFACT_PATH / \\\"simulations_from_posterior\\\" / \\\"timeseries_half_len\\\",\\n    timeseries_half_len,\\n)\";\n",
       "                var nbb_cells = Jupyter.notebook.get_cells();\n",
       "                for (var i = 0; i < nbb_cells.length; ++i) {\n",
       "                    if (nbb_cells[i].input_prompt_number == nbb_cell_id) {\n",
       "                        if (nbb_cells[i].get_text() == nbb_unformatted_code) {\n",
       "                             nbb_cells[i].set_text(nbb_formatted_code);\n",
       "                        }\n",
       "                        break;\n",
       "                    }\n",
       "                }\n",
       "            }, 500);\n",
       "            "
      ],
      "text/plain": [
       "<IPython.core.display.Javascript object>"
      ]
     },
     "metadata": {},
     "output_type": "display_data"
    }
   ],
   "source": [
    "np.save(\n",
    "    ARTIFACT_PATH / \"simulations_from_posterior\" / \"timeseries_input.npy\",\n",
    "    timeseries_input,\n",
    ")\n",
    "np.save(\n",
    "    ARTIFACT_PATH / \"simulations_from_posterior\" / \"timeseries_half_len\",\n",
    "    timeseries_half_len,\n",
    ")"
   ]
  },
  {
   "cell_type": "code",
   "execution_count": 23,
   "id": "60c6ce39",
   "metadata": {},
   "outputs": [
    {
     "data": {
      "application/javascript": [
       "\n",
       "            setTimeout(function() {\n",
       "                var nbb_cell_id = 23;\n",
       "                var nbb_unformatted_code = \"# Load the simulations that have already been run\\nsimulator = marketplace_simulator_class.MarketplaceSimulator(simulator_params)\\nsimulator.load_simulator(ARTIFACT_PATH / \\\"simulations_from_posterior\\\")\";\n",
       "                var nbb_formatted_code = \"# Load the simulations that have already been run\\nsimulator = marketplace_simulator_class.MarketplaceSimulator(simulator_params)\\nsimulator.load_simulator(ARTIFACT_PATH / \\\"simulations_from_posterior\\\")\";\n",
       "                var nbb_cells = Jupyter.notebook.get_cells();\n",
       "                for (var i = 0; i < nbb_cells.length; ++i) {\n",
       "                    if (nbb_cells[i].input_prompt_number == nbb_cell_id) {\n",
       "                        if (nbb_cells[i].get_text() == nbb_unformatted_code) {\n",
       "                             nbb_cells[i].set_text(nbb_formatted_code);\n",
       "                        }\n",
       "                        break;\n",
       "                    }\n",
       "                }\n",
       "            }, 500);\n",
       "            "
      ],
      "text/plain": [
       "<IPython.core.display.Javascript object>"
      ]
     },
     "metadata": {},
     "output_type": "display_data"
    }
   ],
   "source": [
    "# Load the simulations that have already been run\n",
    "simulator = marketplace_simulator_class.MarketplaceSimulator(simulator_params)\n",
    "simulator.load_simulator(ARTIFACT_PATH / \"simulations_from_posterior\")"
   ]
  },
  {
   "cell_type": "markdown",
   "id": "dc900afb",
   "metadata": {},
   "source": [
    "**Check the total number of reviews generated in the simulation**"
   ]
  },
  {
   "cell_type": "code",
   "execution_count": 45,
   "id": "61a65289",
   "metadata": {},
   "outputs": [
    {
     "data": {
      "application/javascript": [
       "\n",
       "            setTimeout(function() {\n",
       "                var nbb_cell_id = 45;\n",
       "                var nbb_unformatted_code = \"num_reviews = np.array(\\n    [[len(product) for product in simulation] for simulation in simulator.simulations]\\n)\";\n",
       "                var nbb_formatted_code = \"num_reviews = np.array(\\n    [[len(product) for product in simulation] for simulation in simulator.simulations]\\n)\";\n",
       "                var nbb_cells = Jupyter.notebook.get_cells();\n",
       "                for (var i = 0; i < nbb_cells.length; ++i) {\n",
       "                    if (nbb_cells[i].input_prompt_number == nbb_cell_id) {\n",
       "                        if (nbb_cells[i].get_text() == nbb_unformatted_code) {\n",
       "                             nbb_cells[i].set_text(nbb_formatted_code);\n",
       "                        }\n",
       "                        break;\n",
       "                    }\n",
       "                }\n",
       "            }, 500);\n",
       "            "
      ],
      "text/plain": [
       "<IPython.core.display.Javascript object>"
      ]
     },
     "metadata": {},
     "output_type": "display_data"
    }
   ],
   "source": [
    "num_reviews = np.array(\n",
    "    [[len(product) for product in simulation] for simulation in simulator.simulations]\n",
    ")"
   ]
  },
  {
   "cell_type": "code",
   "execution_count": 46,
   "id": "fa633b34",
   "metadata": {},
   "outputs": [
    {
     "data": {
      "text/plain": [
       "(32, 1406)"
      ]
     },
     "execution_count": 46,
     "metadata": {},
     "output_type": "execute_result"
    },
    {
     "data": {
      "application/javascript": [
       "\n",
       "            setTimeout(function() {\n",
       "                var nbb_cell_id = 46;\n",
       "                var nbb_unformatted_code = \"num_reviews.shape\";\n",
       "                var nbb_formatted_code = \"num_reviews.shape\";\n",
       "                var nbb_cells = Jupyter.notebook.get_cells();\n",
       "                for (var i = 0; i < nbb_cells.length; ++i) {\n",
       "                    if (nbb_cells[i].input_prompt_number == nbb_cell_id) {\n",
       "                        if (nbb_cells[i].get_text() == nbb_unformatted_code) {\n",
       "                             nbb_cells[i].set_text(nbb_formatted_code);\n",
       "                        }\n",
       "                        break;\n",
       "                    }\n",
       "                }\n",
       "            }, 500);\n",
       "            "
      ],
      "text/plain": [
       "<IPython.core.display.Javascript object>"
      ]
     },
     "metadata": {},
     "output_type": "display_data"
    }
   ],
   "source": [
    "num_reviews.shape"
   ]
  },
  {
   "cell_type": "code",
   "execution_count": 47,
   "id": "16f1cc74",
   "metadata": {},
   "outputs": [
    {
     "data": {
      "text/plain": [
       "array([141406, 141406, 141406, 141406, 141406, 141406, 141406, 141406,\n",
       "       141406, 141406, 141406, 141406, 141406, 141406, 141406, 141406,\n",
       "       141406, 141406, 141406, 141406, 141406, 141406, 141406, 141406,\n",
       "       141406, 141406, 141406, 141406, 141406, 141406, 141406, 141406])"
      ]
     },
     "execution_count": 47,
     "metadata": {},
     "output_type": "execute_result"
    },
    {
     "data": {
      "application/javascript": [
       "\n",
       "            setTimeout(function() {\n",
       "                var nbb_cell_id = 47;\n",
       "                var nbb_unformatted_code = \"np.sum(num_reviews, axis=1)\";\n",
       "                var nbb_formatted_code = \"np.sum(num_reviews, axis=1)\";\n",
       "                var nbb_cells = Jupyter.notebook.get_cells();\n",
       "                for (var i = 0; i < nbb_cells.length; ++i) {\n",
       "                    if (nbb_cells[i].input_prompt_number == nbb_cell_id) {\n",
       "                        if (nbb_cells[i].get_text() == nbb_unformatted_code) {\n",
       "                             nbb_cells[i].set_text(nbb_formatted_code);\n",
       "                        }\n",
       "                        break;\n",
       "                    }\n",
       "                }\n",
       "            }, 500);\n",
       "            "
      ],
      "text/plain": [
       "<IPython.core.display.Javascript object>"
      ]
     },
     "metadata": {},
     "output_type": "display_data"
    }
   ],
   "source": [
    "np.sum(num_reviews, axis=1)"
   ]
  },
  {
   "cell_type": "markdown",
   "id": "a84bc26f",
   "metadata": {},
   "source": [
    "**Run some tests to check that the simulations have been done correctly, i.e, the first half of the simulated reviews is the same as the input reviews and the 2nd half is different**"
   ]
  },
  {
   "cell_type": "code",
   "execution_count": 48,
   "id": "c222acdd",
   "metadata": {},
   "outputs": [
    {
     "data": {
      "text/plain": [
       "(32, 1406)"
      ]
     },
     "execution_count": 48,
     "metadata": {},
     "output_type": "execute_result"
    },
    {
     "data": {
      "application/javascript": [
       "\n",
       "            setTimeout(function() {\n",
       "                var nbb_cell_id = 48;\n",
       "                var nbb_unformatted_code = \"simulator.simulations.shape\";\n",
       "                var nbb_formatted_code = \"simulator.simulations.shape\";\n",
       "                var nbb_cells = Jupyter.notebook.get_cells();\n",
       "                for (var i = 0; i < nbb_cells.length; ++i) {\n",
       "                    if (nbb_cells[i].input_prompt_number == nbb_cell_id) {\n",
       "                        if (nbb_cells[i].get_text() == nbb_unformatted_code) {\n",
       "                             nbb_cells[i].set_text(nbb_formatted_code);\n",
       "                        }\n",
       "                        break;\n",
       "                    }\n",
       "                }\n",
       "            }, 500);\n",
       "            "
      ],
      "text/plain": [
       "<IPython.core.display.Javascript object>"
      ]
     },
     "metadata": {},
     "output_type": "display_data"
    }
   ],
   "source": [
    "simulator.simulations.shape"
   ]
  },
  {
   "cell_type": "code",
   "execution_count": 51,
   "id": "307b6775",
   "metadata": {},
   "outputs": [
    {
     "data": {
      "application/javascript": [
       "\n",
       "            setTimeout(function() {\n",
       "                var nbb_cell_id = 51;\n",
       "                var nbb_unformatted_code = \"for sim in range(simulator.simulations.shape[0]):\\n    for product in range(simulator.simulations.shape[1]):\\n        np.testing.assert_array_equal(\\n            simulator.simulations[sim, product][: timeseries_half_len[product]],\\n            timeseries_input[product],\\n        )\";\n",
       "                var nbb_formatted_code = \"for sim in range(simulator.simulations.shape[0]):\\n    for product in range(simulator.simulations.shape[1]):\\n        np.testing.assert_array_equal(\\n            simulator.simulations[sim, product][: timeseries_half_len[product]],\\n            timeseries_input[product],\\n        )\";\n",
       "                var nbb_cells = Jupyter.notebook.get_cells();\n",
       "                for (var i = 0; i < nbb_cells.length; ++i) {\n",
       "                    if (nbb_cells[i].input_prompt_number == nbb_cell_id) {\n",
       "                        if (nbb_cells[i].get_text() == nbb_unformatted_code) {\n",
       "                             nbb_cells[i].set_text(nbb_formatted_code);\n",
       "                        }\n",
       "                        break;\n",
       "                    }\n",
       "                }\n",
       "            }, 500);\n",
       "            "
      ],
      "text/plain": [
       "<IPython.core.display.Javascript object>"
      ]
     },
     "metadata": {},
     "output_type": "display_data"
    }
   ],
   "source": [
    "for sim in range(simulator.simulations.shape[0]):\n",
    "    for product in range(simulator.simulations.shape[1]):\n",
    "        np.testing.assert_array_equal(\n",
    "            simulator.simulations[sim, product][: timeseries_half_len[product]],\n",
    "            timeseries_input[product],\n",
    "        )"
   ]
  },
  {
   "cell_type": "code",
   "execution_count": 52,
   "id": "d2b70d0f",
   "metadata": {},
   "outputs": [
    {
     "data": {
      "text/plain": [
       "array([[ 2.,  2.,  6., 36., 92.],\n",
       "       [ 2.,  2.,  6., 36., 93.],\n",
       "       [ 2.,  2.,  6., 36., 94.],\n",
       "       [ 2.,  2.,  6., 36., 95.],\n",
       "       [ 3.,  2.,  6., 36., 95.],\n",
       "       [ 3.,  2.,  6., 37., 95.],\n",
       "       [ 3.,  2.,  6., 38., 95.]])"
      ]
     },
     "execution_count": 52,
     "metadata": {},
     "output_type": "execute_result"
    },
    {
     "data": {
      "application/javascript": [
       "\n",
       "            setTimeout(function() {\n",
       "                var nbb_cell_id = 52;\n",
       "                var nbb_unformatted_code = \"simulator.simulations[0, 1205][\\n    timeseries_half_len[1205] - 5 : timeseries_half_len[1205] + 2\\n]\";\n",
       "                var nbb_formatted_code = \"simulator.simulations[0, 1205][\\n    timeseries_half_len[1205] - 5 : timeseries_half_len[1205] + 2\\n]\";\n",
       "                var nbb_cells = Jupyter.notebook.get_cells();\n",
       "                for (var i = 0; i < nbb_cells.length; ++i) {\n",
       "                    if (nbb_cells[i].input_prompt_number == nbb_cell_id) {\n",
       "                        if (nbb_cells[i].get_text() == nbb_unformatted_code) {\n",
       "                             nbb_cells[i].set_text(nbb_formatted_code);\n",
       "                        }\n",
       "                        break;\n",
       "                    }\n",
       "                }\n",
       "            }, 500);\n",
       "            "
      ],
      "text/plain": [
       "<IPython.core.display.Javascript object>"
      ]
     },
     "metadata": {},
     "output_type": "display_data"
    }
   ],
   "source": [
    "simulator.simulations[0, 1205][\n",
    "    timeseries_half_len[1205] - 5 : timeseries_half_len[1205] + 2\n",
    "]"
   ]
  },
  {
   "cell_type": "code",
   "execution_count": 53,
   "id": "61dc235a",
   "metadata": {},
   "outputs": [
    {
     "data": {
      "text/plain": [
       "array([[ 2.,  2.,  6., 36., 92.],\n",
       "       [ 2.,  2.,  6., 36., 93.],\n",
       "       [ 2.,  2.,  6., 36., 94.],\n",
       "       [ 2.,  2.,  6., 36., 95.],\n",
       "       [ 3.,  2.,  6., 36., 95.]])"
      ]
     },
     "execution_count": 53,
     "metadata": {},
     "output_type": "execute_result"
    },
    {
     "data": {
      "application/javascript": [
       "\n",
       "            setTimeout(function() {\n",
       "                var nbb_cell_id = 53;\n",
       "                var nbb_unformatted_code = \"timeseries_input[1205][-5:]\";\n",
       "                var nbb_formatted_code = \"timeseries_input[1205][-5:]\";\n",
       "                var nbb_cells = Jupyter.notebook.get_cells();\n",
       "                for (var i = 0; i < nbb_cells.length; ++i) {\n",
       "                    if (nbb_cells[i].input_prompt_number == nbb_cell_id) {\n",
       "                        if (nbb_cells[i].get_text() == nbb_unformatted_code) {\n",
       "                             nbb_cells[i].set_text(nbb_formatted_code);\n",
       "                        }\n",
       "                        break;\n",
       "                    }\n",
       "                }\n",
       "            }, 500);\n",
       "            "
      ],
      "text/plain": [
       "<IPython.core.display.Javascript object>"
      ]
     },
     "metadata": {},
     "output_type": "display_data"
    }
   ],
   "source": [
    "timeseries_input[1205][-5:]"
   ]
  },
  {
   "cell_type": "code",
   "execution_count": null,
   "id": "7ce0a91c",
   "metadata": {},
   "outputs": [],
   "source": []
  },
  {
   "cell_type": "code",
   "execution_count": null,
   "id": "9b4d505c",
   "metadata": {},
   "outputs": [],
   "source": []
  },
  {
   "cell_type": "code",
   "execution_count": null,
   "id": "436c22ce",
   "metadata": {},
   "outputs": [],
   "source": []
  },
  {
   "cell_type": "code",
   "execution_count": 54,
   "id": "8b89fbec",
   "metadata": {},
   "outputs": [
    {
     "data": {
      "text/plain": [
       "44992"
      ]
     },
     "execution_count": 54,
     "metadata": {},
     "output_type": "execute_result"
    },
    {
     "data": {
      "application/javascript": [
       "\n",
       "            setTimeout(function() {\n",
       "                var nbb_cell_id = 54;\n",
       "                var nbb_unformatted_code = \"num_reviews = []\\nfor sim in simulator.simulations:\\n    num_reviews += [len(prods) for prods in sim]\\nlen(num_reviews)\";\n",
       "                var nbb_formatted_code = \"num_reviews = []\\nfor sim in simulator.simulations:\\n    num_reviews += [len(prods) for prods in sim]\\nlen(num_reviews)\";\n",
       "                var nbb_cells = Jupyter.notebook.get_cells();\n",
       "                for (var i = 0; i < nbb_cells.length; ++i) {\n",
       "                    if (nbb_cells[i].input_prompt_number == nbb_cell_id) {\n",
       "                        if (nbb_cells[i].get_text() == nbb_unformatted_code) {\n",
       "                             nbb_cells[i].set_text(nbb_formatted_code);\n",
       "                        }\n",
       "                        break;\n",
       "                    }\n",
       "                }\n",
       "            }, 500);\n",
       "            "
      ],
      "text/plain": [
       "<IPython.core.display.Javascript object>"
      ]
     },
     "metadata": {},
     "output_type": "display_data"
    }
   ],
   "source": [
    "num_reviews = []\n",
    "for sim in simulator.simulations:\n",
    "    num_reviews += [len(prods) for prods in sim]\n",
    "len(num_reviews)"
   ]
  },
  {
   "cell_type": "code",
   "execution_count": 55,
   "id": "34794dcf",
   "metadata": {},
   "outputs": [
    {
     "data": {
      "text/plain": [
       "(array([1.501e+04, 8.372e+03, 3.866e+03, 3.935e+03, 3.802e+03, 2.739e+03,\n",
       "        2.177e+03, 1.520e+03, 1.129e+03, 7.150e+02, 5.880e+02, 3.270e+02,\n",
       "        2.420e+02, 1.600e+02, 1.800e+02, 1.640e+02, 3.400e+01, 4.000e+00,\n",
       "        1.700e+01, 1.100e+01]),\n",
       " array([  1.  ,  33.15,  65.3 ,  97.45, 129.6 , 161.75, 193.9 , 226.05,\n",
       "        258.2 , 290.35, 322.5 , 354.65, 386.8 , 418.95, 451.1 , 483.25,\n",
       "        515.4 , 547.55, 579.7 , 611.85, 644.  ]),\n",
       " <BarContainer object of 20 artists>)"
      ]
     },
     "execution_count": 55,
     "metadata": {},
     "output_type": "execute_result"
    },
    {
     "data": {
      "image/png": "[encoded data removed]",
      "text/plain": [
       "<Figure size 432x288 with 1 Axes>"
      ]
     },
     "metadata": {},
     "output_type": "display_data"
    },
    {
     "data": {
      "application/javascript": [
       "\n",
       "            setTimeout(function() {\n",
       "                var nbb_cell_id = 55;\n",
       "                var nbb_unformatted_code = \"plt.hist(num_reviews, bins=20)\";\n",
       "                var nbb_formatted_code = \"plt.hist(num_reviews, bins=20)\";\n",
       "                var nbb_cells = Jupyter.notebook.get_cells();\n",
       "                for (var i = 0; i < nbb_cells.length; ++i) {\n",
       "                    if (nbb_cells[i].input_prompt_number == nbb_cell_id) {\n",
       "                        if (nbb_cells[i].get_text() == nbb_unformatted_code) {\n",
       "                             nbb_cells[i].set_text(nbb_formatted_code);\n",
       "                        }\n",
       "                        break;\n",
       "                    }\n",
       "                }\n",
       "            }, 500);\n",
       "            "
      ],
      "text/plain": [
       "<IPython.core.display.Javascript object>"
      ]
     },
     "metadata": {},
     "output_type": "display_data"
    }
   ],
   "source": [
    "plt.hist(num_reviews, bins=20)"
   ]
  },
  {
   "cell_type": "code",
   "execution_count": 56,
   "id": "bba62da0",
   "metadata": {},
   "outputs": [
    {
     "data": {
      "text/plain": [
       "(array([23382.,  7801.,  6541.,  3697.,  1844.,   915.,   402.,   344.,\n",
       "           38.,    28.]),\n",
       " array([  1. ,  65.3, 129.6, 193.9, 258.2, 322.5, 386.8, 451.1, 515.4,\n",
       "        579.7, 644. ]),\n",
       " <BarContainer object of 10 artists>)"
      ]
     },
     "execution_count": 56,
     "metadata": {},
     "output_type": "execute_result"
    },
    {
     "data": {
      "image/png": "[encoded data removed]",
      "text/plain": [
       "<Figure size 432x288 with 1 Axes>"
      ]
     },
     "metadata": {},
     "output_type": "display_data"
    },
    {
     "data": {
      "application/javascript": [
       "\n",
       "            setTimeout(function() {\n",
       "                var nbb_cell_id = 56;\n",
       "                var nbb_unformatted_code = \"plt.hist(num_reviews)\";\n",
       "                var nbb_formatted_code = \"plt.hist(num_reviews)\";\n",
       "                var nbb_cells = Jupyter.notebook.get_cells();\n",
       "                for (var i = 0; i < nbb_cells.length; ++i) {\n",
       "                    if (nbb_cells[i].input_prompt_number == nbb_cell_id) {\n",
       "                        if (nbb_cells[i].get_text() == nbb_unformatted_code) {\n",
       "                             nbb_cells[i].set_text(nbb_formatted_code);\n",
       "                        }\n",
       "                        break;\n",
       "                    }\n",
       "                }\n",
       "            }, 500);\n",
       "            "
      ],
      "text/plain": [
       "<IPython.core.display.Javascript object>"
      ]
     },
     "metadata": {},
     "output_type": "display_data"
    }
   ],
   "source": [
    "plt.hist(num_reviews)"
   ]
  },
  {
   "cell_type": "code",
   "execution_count": 57,
   "id": "14f2c827",
   "metadata": {},
   "outputs": [
    {
     "data": {
      "text/html": [
       "<div>\n",
       "<style scoped>\n",
       "    .dataframe tbody tr th:only-of-type {\n",
       "        vertical-align: middle;\n",
       "    }\n",
       "\n",
       "    .dataframe tbody tr th {\n",
       "        vertical-align: top;\n",
       "    }\n",
       "\n",
       "    .dataframe thead th {\n",
       "        text-align: right;\n",
       "    }\n",
       "</style>\n",
       "<table border=\"1\" class=\"dataframe\">\n",
       "  <thead>\n",
       "    <tr style=\"text-align: right;\">\n",
       "      <th></th>\n",
       "      <th>num_reviews</th>\n",
       "    </tr>\n",
       "  </thead>\n",
       "  <tbody>\n",
       "    <tr>\n",
       "      <th>count</th>\n",
       "      <td>44992.000000</td>\n",
       "    </tr>\n",
       "    <tr>\n",
       "      <th>mean</th>\n",
       "      <td>100.573257</td>\n",
       "    </tr>\n",
       "    <tr>\n",
       "      <th>std</th>\n",
       "      <td>97.963616</td>\n",
       "    </tr>\n",
       "    <tr>\n",
       "      <th>min</th>\n",
       "      <td>1.000000</td>\n",
       "    </tr>\n",
       "    <tr>\n",
       "      <th>25%</th>\n",
       "      <td>26.000000</td>\n",
       "    </tr>\n",
       "    <tr>\n",
       "      <th>50%</th>\n",
       "      <td>60.000000</td>\n",
       "    </tr>\n",
       "    <tr>\n",
       "      <th>75%</th>\n",
       "      <td>151.000000</td>\n",
       "    </tr>\n",
       "    <tr>\n",
       "      <th>max</th>\n",
       "      <td>644.000000</td>\n",
       "    </tr>\n",
       "  </tbody>\n",
       "</table>\n",
       "</div>"
      ],
      "text/plain": [
       "        num_reviews\n",
       "count  44992.000000\n",
       "mean     100.573257\n",
       "std       97.963616\n",
       "min        1.000000\n",
       "25%       26.000000\n",
       "50%       60.000000\n",
       "75%      151.000000\n",
       "max      644.000000"
      ]
     },
     "execution_count": 57,
     "metadata": {},
     "output_type": "execute_result"
    },
    {
     "data": {
      "application/javascript": [
       "\n",
       "            setTimeout(function() {\n",
       "                var nbb_cell_id = 57;\n",
       "                var nbb_unformatted_code = \"pd.DataFrame({\\\"num_reviews\\\": num_reviews}).describe()\";\n",
       "                var nbb_formatted_code = \"pd.DataFrame({\\\"num_reviews\\\": num_reviews}).describe()\";\n",
       "                var nbb_cells = Jupyter.notebook.get_cells();\n",
       "                for (var i = 0; i < nbb_cells.length; ++i) {\n",
       "                    if (nbb_cells[i].input_prompt_number == nbb_cell_id) {\n",
       "                        if (nbb_cells[i].get_text() == nbb_unformatted_code) {\n",
       "                             nbb_cells[i].set_text(nbb_formatted_code);\n",
       "                        }\n",
       "                        break;\n",
       "                    }\n",
       "                }\n",
       "            }, 500);\n",
       "            "
      ],
      "text/plain": [
       "<IPython.core.display.Javascript object>"
      ]
     },
     "metadata": {},
     "output_type": "display_data"
    }
   ],
   "source": [
    "pd.DataFrame({\"num_reviews\": num_reviews}).describe()"
   ]
  },
  {
   "cell_type": "code",
   "execution_count": 58,
   "id": "479d9033",
   "metadata": {},
   "outputs": [
    {
     "data": {
      "text/html": [
       "<div>\n",
       "<style scoped>\n",
       "    .dataframe tbody tr th:only-of-type {\n",
       "        vertical-align: middle;\n",
       "    }\n",
       "\n",
       "    .dataframe tbody tr th {\n",
       "        vertical-align: top;\n",
       "    }\n",
       "\n",
       "    .dataframe thead th {\n",
       "        text-align: right;\n",
       "    }\n",
       "</style>\n",
       "<table border=\"1\" class=\"dataframe\">\n",
       "  <thead>\n",
       "    <tr style=\"text-align: right;\">\n",
       "      <th></th>\n",
       "      <th>num_reviews</th>\n",
       "    </tr>\n",
       "  </thead>\n",
       "  <tbody>\n",
       "    <tr>\n",
       "      <th>count</th>\n",
       "      <td>1406.000000</td>\n",
       "    </tr>\n",
       "    <tr>\n",
       "      <th>mean</th>\n",
       "      <td>96.212660</td>\n",
       "    </tr>\n",
       "    <tr>\n",
       "      <th>std</th>\n",
       "      <td>126.677148</td>\n",
       "    </tr>\n",
       "    <tr>\n",
       "      <th>min</th>\n",
       "      <td>1.000000</td>\n",
       "    </tr>\n",
       "    <tr>\n",
       "      <th>25%</th>\n",
       "      <td>25.250000</td>\n",
       "    </tr>\n",
       "    <tr>\n",
       "      <th>50%</th>\n",
       "      <td>51.000000</td>\n",
       "    </tr>\n",
       "    <tr>\n",
       "      <th>75%</th>\n",
       "      <td>113.000000</td>\n",
       "    </tr>\n",
       "    <tr>\n",
       "      <th>max</th>\n",
       "      <td>1293.000000</td>\n",
       "    </tr>\n",
       "  </tbody>\n",
       "</table>\n",
       "</div>"
      ],
      "text/plain": [
       "       num_reviews\n",
       "count  1406.000000\n",
       "mean     96.212660\n",
       "std     126.677148\n",
       "min       1.000000\n",
       "25%      25.250000\n",
       "50%      51.000000\n",
       "75%     113.000000\n",
       "max    1293.000000"
      ]
     },
     "execution_count": 58,
     "metadata": {},
     "output_type": "execute_result"
    },
    {
     "data": {
      "application/javascript": [
       "\n",
       "            setTimeout(function() {\n",
       "                var nbb_cell_id = 58;\n",
       "                var nbb_unformatted_code = \"idx = np.array(\\n    [np.where(embedding_df[\\\"asin\\\"] == asin)[0][0] for asin in timeseries_asin]\\n)\\npd.DataFrame({\\\"num_reviews\\\": np.sum(embedding_df.iloc[idx, 3:], axis=1)}).describe()\";\n",
       "                var nbb_formatted_code = \"idx = np.array(\\n    [np.where(embedding_df[\\\"asin\\\"] == asin)[0][0] for asin in timeseries_asin]\\n)\\npd.DataFrame({\\\"num_reviews\\\": np.sum(embedding_df.iloc[idx, 3:], axis=1)}).describe()\";\n",
       "                var nbb_cells = Jupyter.notebook.get_cells();\n",
       "                for (var i = 0; i < nbb_cells.length; ++i) {\n",
       "                    if (nbb_cells[i].input_prompt_number == nbb_cell_id) {\n",
       "                        if (nbb_cells[i].get_text() == nbb_unformatted_code) {\n",
       "                             nbb_cells[i].set_text(nbb_formatted_code);\n",
       "                        }\n",
       "                        break;\n",
       "                    }\n",
       "                }\n",
       "            }, 500);\n",
       "            "
      ],
      "text/plain": [
       "<IPython.core.display.Javascript object>"
      ]
     },
     "metadata": {},
     "output_type": "display_data"
    }
   ],
   "source": [
    "idx = np.array(\n",
    "    [np.where(embedding_df[\"asin\"] == asin)[0][0] for asin in timeseries_asin]\n",
    ")\n",
    "pd.DataFrame({\"num_reviews\": np.sum(embedding_df.iloc[idx, 3:], axis=1)}).describe()"
   ]
  },
  {
   "cell_type": "code",
   "execution_count": 59,
   "id": "9ae9ebcd",
   "metadata": {},
   "outputs": [
    {
     "data": {
      "text/plain": [
       "(array([811., 295., 118.,  60.,  49.,  16.,  19.,  13.,   9.,   6.,   1.,\n",
       "          0.,   5.,   1.,   0.,   1.,   0.,   0.,   1.,   1.]),\n",
       " array([1.0000e+00, 6.5600e+01, 1.3020e+02, 1.9480e+02, 2.5940e+02,\n",
       "        3.2400e+02, 3.8860e+02, 4.5320e+02, 5.1780e+02, 5.8240e+02,\n",
       "        6.4700e+02, 7.1160e+02, 7.7620e+02, 8.4080e+02, 9.0540e+02,\n",
       "        9.7000e+02, 1.0346e+03, 1.0992e+03, 1.1638e+03, 1.2284e+03,\n",
       "        1.2930e+03]),\n",
       " <BarContainer object of 20 artists>)"
      ]
     },
     "execution_count": 59,
     "metadata": {},
     "output_type": "execute_result"
    },
    {
     "data": {
      "image/png": "[encoded data removed]",
      "text/plain": [
       "<Figure size 432x288 with 1 Axes>"
      ]
     },
     "metadata": {},
     "output_type": "display_data"
    },
    {
     "data": {
      "application/javascript": [
       "\n",
       "            setTimeout(function() {\n",
       "                var nbb_cell_id = 59;\n",
       "                var nbb_unformatted_code = \"plt.hist(np.sum(embedding_df.iloc[idx, 3:], axis=1), bins=20)\";\n",
       "                var nbb_formatted_code = \"plt.hist(np.sum(embedding_df.iloc[idx, 3:], axis=1), bins=20)\";\n",
       "                var nbb_cells = Jupyter.notebook.get_cells();\n",
       "                for (var i = 0; i < nbb_cells.length; ++i) {\n",
       "                    if (nbb_cells[i].input_prompt_number == nbb_cell_id) {\n",
       "                        if (nbb_cells[i].get_text() == nbb_unformatted_code) {\n",
       "                             nbb_cells[i].set_text(nbb_formatted_code);\n",
       "                        }\n",
       "                        break;\n",
       "                    }\n",
       "                }\n",
       "            }, 500);\n",
       "            "
      ],
      "text/plain": [
       "<IPython.core.display.Javascript object>"
      ]
     },
     "metadata": {},
     "output_type": "display_data"
    }
   ],
   "source": [
    "plt.hist(np.sum(embedding_df.iloc[idx, 3:], axis=1), bins=20)"
   ]
  },
  {
   "cell_type": "code",
   "execution_count": 60,
   "id": "91471f4e",
   "metadata": {},
   "outputs": [
    {
     "data": {
      "text/html": [
       "<div>\n",
       "<style scoped>\n",
       "    .dataframe tbody tr th:only-of-type {\n",
       "        vertical-align: middle;\n",
       "    }\n",
       "\n",
       "    .dataframe tbody tr th {\n",
       "        vertical-align: top;\n",
       "    }\n",
       "\n",
       "    .dataframe thead th {\n",
       "        text-align: right;\n",
       "    }\n",
       "</style>\n",
       "<table border=\"1\" class=\"dataframe\">\n",
       "  <thead>\n",
       "    <tr style=\"text-align: right;\">\n",
       "      <th></th>\n",
       "      <th>num_reviews</th>\n",
       "    </tr>\n",
       "  </thead>\n",
       "  <tbody>\n",
       "    <tr>\n",
       "      <th>count</th>\n",
       "      <td>44992.000000</td>\n",
       "    </tr>\n",
       "    <tr>\n",
       "      <th>mean</th>\n",
       "      <td>100.573257</td>\n",
       "    </tr>\n",
       "    <tr>\n",
       "      <th>std</th>\n",
       "      <td>97.963616</td>\n",
       "    </tr>\n",
       "    <tr>\n",
       "      <th>min</th>\n",
       "      <td>1.000000</td>\n",
       "    </tr>\n",
       "    <tr>\n",
       "      <th>25%</th>\n",
       "      <td>26.000000</td>\n",
       "    </tr>\n",
       "    <tr>\n",
       "      <th>50%</th>\n",
       "      <td>60.000000</td>\n",
       "    </tr>\n",
       "    <tr>\n",
       "      <th>75%</th>\n",
       "      <td>151.000000</td>\n",
       "    </tr>\n",
       "    <tr>\n",
       "      <th>max</th>\n",
       "      <td>644.000000</td>\n",
       "    </tr>\n",
       "  </tbody>\n",
       "</table>\n",
       "</div>"
      ],
      "text/plain": [
       "        num_reviews\n",
       "count  44992.000000\n",
       "mean     100.573257\n",
       "std       97.963616\n",
       "min        1.000000\n",
       "25%       26.000000\n",
       "50%       60.000000\n",
       "75%      151.000000\n",
       "max      644.000000"
      ]
     },
     "execution_count": 60,
     "metadata": {},
     "output_type": "execute_result"
    },
    {
     "data": {
      "application/javascript": [
       "\n",
       "            setTimeout(function() {\n",
       "                var nbb_cell_id = 60;\n",
       "                var nbb_unformatted_code = \"pd.DataFrame({\\\"num_reviews\\\": num_reviews}).describe()\";\n",
       "                var nbb_formatted_code = \"pd.DataFrame({\\\"num_reviews\\\": num_reviews}).describe()\";\n",
       "                var nbb_cells = Jupyter.notebook.get_cells();\n",
       "                for (var i = 0; i < nbb_cells.length; ++i) {\n",
       "                    if (nbb_cells[i].input_prompt_number == nbb_cell_id) {\n",
       "                        if (nbb_cells[i].get_text() == nbb_unformatted_code) {\n",
       "                             nbb_cells[i].set_text(nbb_formatted_code);\n",
       "                        }\n",
       "                        break;\n",
       "                    }\n",
       "                }\n",
       "            }, 500);\n",
       "            "
      ],
      "text/plain": [
       "<IPython.core.display.Javascript object>"
      ]
     },
     "metadata": {},
     "output_type": "display_data"
    }
   ],
   "source": [
    "pd.DataFrame({\"num_reviews\": num_reviews}).describe()"
   ]
  },
  {
   "cell_type": "code",
   "execution_count": 61,
   "id": "ae03ee38",
   "metadata": {},
   "outputs": [
    {
     "data": {
      "application/javascript": [
       "\n",
       "            setTimeout(function() {\n",
       "                var nbb_cell_id = 61;\n",
       "                var nbb_unformatted_code = \"ratings = np.zeros(5)\\nfor sim in simulator.simulations:\\n    for prods in sim:\\n        ratings += prods[-1]\";\n",
       "                var nbb_formatted_code = \"ratings = np.zeros(5)\\nfor sim in simulator.simulations:\\n    for prods in sim:\\n        ratings += prods[-1]\";\n",
       "                var nbb_cells = Jupyter.notebook.get_cells();\n",
       "                for (var i = 0; i < nbb_cells.length; ++i) {\n",
       "                    if (nbb_cells[i].input_prompt_number == nbb_cell_id) {\n",
       "                        if (nbb_cells[i].get_text() == nbb_unformatted_code) {\n",
       "                             nbb_cells[i].set_text(nbb_formatted_code);\n",
       "                        }\n",
       "                        break;\n",
       "                    }\n",
       "                }\n",
       "            }, 500);\n",
       "            "
      ],
      "text/plain": [
       "<IPython.core.display.Javascript object>"
      ]
     },
     "metadata": {},
     "output_type": "display_data"
    }
   ],
   "source": [
    "ratings = np.zeros(5)\n",
    "for sim in simulator.simulations:\n",
    "    for prods in sim:\n",
    "        ratings += prods[-1]"
   ]
  },
  {
   "cell_type": "code",
   "execution_count": 62,
   "id": "181d681f",
   "metadata": {},
   "outputs": [
    {
     "data": {
      "text/plain": [
       "[<matplotlib.lines.Line2D at 0x7f457c47afa0>]"
      ]
     },
     "execution_count": 62,
     "metadata": {},
     "output_type": "execute_result"
    },
    {
     "data": {
      "image/png": "[encoded data removed]",
      "text/plain": [
       "<Figure size 432x288 with 1 Axes>"
      ]
     },
     "metadata": {},
     "output_type": "display_data"
    },
    {
     "data": {
      "application/javascript": [
       "\n",
       "            setTimeout(function() {\n",
       "                var nbb_cell_id = 62;\n",
       "                var nbb_unformatted_code = \"plt.plot(np.arange(5), ratings)\";\n",
       "                var nbb_formatted_code = \"plt.plot(np.arange(5), ratings)\";\n",
       "                var nbb_cells = Jupyter.notebook.get_cells();\n",
       "                for (var i = 0; i < nbb_cells.length; ++i) {\n",
       "                    if (nbb_cells[i].input_prompt_number == nbb_cell_id) {\n",
       "                        if (nbb_cells[i].get_text() == nbb_unformatted_code) {\n",
       "                             nbb_cells[i].set_text(nbb_formatted_code);\n",
       "                        }\n",
       "                        break;\n",
       "                    }\n",
       "                }\n",
       "            }, 500);\n",
       "            "
      ],
      "text/plain": [
       "<IPython.core.display.Javascript object>"
      ]
     },
     "metadata": {},
     "output_type": "display_data"
    }
   ],
   "source": [
    "plt.plot(np.arange(5), ratings)"
   ]
  },
  {
   "cell_type": "code",
   "execution_count": 63,
   "id": "a0192b4f",
   "metadata": {},
   "outputs": [
    {
     "data": {
      "application/javascript": [
       "\n",
       "            setTimeout(function() {\n",
       "                var nbb_cell_id = 63;\n",
       "                var nbb_unformatted_code = \"index = []\\nfor sim in simulator.simulations:\\n    for prods in sim:\\n        diff = np.sum(prods[-1][3:]) - np.sum(prods[-1][:2])\\n        index.append(diff)\";\n",
       "                var nbb_formatted_code = \"index = []\\nfor sim in simulator.simulations:\\n    for prods in sim:\\n        diff = np.sum(prods[-1][3:]) - np.sum(prods[-1][:2])\\n        index.append(diff)\";\n",
       "                var nbb_cells = Jupyter.notebook.get_cells();\n",
       "                for (var i = 0; i < nbb_cells.length; ++i) {\n",
       "                    if (nbb_cells[i].input_prompt_number == nbb_cell_id) {\n",
       "                        if (nbb_cells[i].get_text() == nbb_unformatted_code) {\n",
       "                             nbb_cells[i].set_text(nbb_formatted_code);\n",
       "                        }\n",
       "                        break;\n",
       "                    }\n",
       "                }\n",
       "            }, 500);\n",
       "            "
      ],
      "text/plain": [
       "<IPython.core.display.Javascript object>"
      ]
     },
     "metadata": {},
     "output_type": "display_data"
    }
   ],
   "source": [
    "index = []\n",
    "for sim in simulator.simulations:\n",
    "    for prods in sim:\n",
    "        diff = np.sum(prods[-1][3:]) - np.sum(prods[-1][:2])\n",
    "        index.append(diff)"
   ]
  },
  {
   "cell_type": "code",
   "execution_count": 64,
   "id": "cb2f5491",
   "metadata": {},
   "outputs": [
    {
     "data": {
      "text/plain": [
       "(array([ 9650., 16067.,  6269.,  6430.,  3185.,  1635.,   972.,   554.,\n",
       "          181.,    49.]),\n",
       " array([-34. ,  10.5,  55. ,  99.5, 144. , 188.5, 233. , 277.5, 322. ,\n",
       "        366.5, 411. ]),\n",
       " <BarContainer object of 10 artists>)"
      ]
     },
     "execution_count": 64,
     "metadata": {},
     "output_type": "execute_result"
    },
    {
     "data": {
      "image/png": "[encoded data removed]",
      "text/plain": [
       "<Figure size 432x288 with 1 Axes>"
      ]
     },
     "metadata": {},
     "output_type": "display_data"
    },
    {
     "data": {
      "application/javascript": [
       "\n",
       "            setTimeout(function() {\n",
       "                var nbb_cell_id = 64;\n",
       "                var nbb_unformatted_code = \"plt.hist(index)\";\n",
       "                var nbb_formatted_code = \"plt.hist(index)\";\n",
       "                var nbb_cells = Jupyter.notebook.get_cells();\n",
       "                for (var i = 0; i < nbb_cells.length; ++i) {\n",
       "                    if (nbb_cells[i].input_prompt_number == nbb_cell_id) {\n",
       "                        if (nbb_cells[i].get_text() == nbb_unformatted_code) {\n",
       "                             nbb_cells[i].set_text(nbb_formatted_code);\n",
       "                        }\n",
       "                        break;\n",
       "                    }\n",
       "                }\n",
       "            }, 500);\n",
       "            "
      ],
      "text/plain": [
       "<IPython.core.display.Javascript object>"
      ]
     },
     "metadata": {},
     "output_type": "display_data"
    }
   ],
   "source": [
    "plt.hist(index)"
   ]
  },
  {
   "cell_type": "code",
   "execution_count": 65,
   "id": "e64cac1a",
   "metadata": {},
   "outputs": [
    {
     "name": "stdout",
     "output_type": "stream",
     "text": [
      "0.9787295519203414\n"
     ]
    },
    {
     "data": {
      "application/javascript": [
       "\n",
       "            setTimeout(function() {\n",
       "                var nbb_cell_id = 65;\n",
       "                var nbb_unformatted_code = \"print(np.mean(np.array(index) >= 0))\";\n",
       "                var nbb_formatted_code = \"print(np.mean(np.array(index) >= 0))\";\n",
       "                var nbb_cells = Jupyter.notebook.get_cells();\n",
       "                for (var i = 0; i < nbb_cells.length; ++i) {\n",
       "                    if (nbb_cells[i].input_prompt_number == nbb_cell_id) {\n",
       "                        if (nbb_cells[i].get_text() == nbb_unformatted_code) {\n",
       "                             nbb_cells[i].set_text(nbb_formatted_code);\n",
       "                        }\n",
       "                        break;\n",
       "                    }\n",
       "                }\n",
       "            }, 500);\n",
       "            "
      ],
      "text/plain": [
       "<IPython.core.display.Javascript object>"
      ]
     },
     "metadata": {},
     "output_type": "display_data"
    }
   ],
   "source": [
    "print(np.mean(np.array(index) >= 0))"
   ]
  },
  {
   "cell_type": "code",
   "execution_count": 66,
   "id": "10187247",
   "metadata": {},
   "outputs": [
    {
     "data": {
      "text/html": [
       "<div>\n",
       "<style scoped>\n",
       "    .dataframe tbody tr th:only-of-type {\n",
       "        vertical-align: middle;\n",
       "    }\n",
       "\n",
       "    .dataframe tbody tr th {\n",
       "        vertical-align: top;\n",
       "    }\n",
       "\n",
       "    .dataframe thead th {\n",
       "        text-align: right;\n",
       "    }\n",
       "</style>\n",
       "<table border=\"1\" class=\"dataframe\">\n",
       "  <thead>\n",
       "    <tr style=\"text-align: right;\">\n",
       "      <th></th>\n",
       "      <th>productid</th>\n",
       "      <th>embedding</th>\n",
       "      <th>asin</th>\n",
       "      <th>1</th>\n",
       "      <th>2</th>\n",
       "      <th>3</th>\n",
       "      <th>4</th>\n",
       "      <th>5</th>\n",
       "    </tr>\n",
       "  </thead>\n",
       "  <tbody>\n",
       "    <tr>\n",
       "      <th>0</th>\n",
       "      <td>2398095</td>\n",
       "      <td>[0.00202922, 0.00146059, -0.00227462, -0.00132...</td>\n",
       "      <td>2398095</td>\n",
       "      <td>18</td>\n",
       "      <td>7</td>\n",
       "      <td>20</td>\n",
       "      <td>44</td>\n",
       "      <td>98</td>\n",
       "    </tr>\n",
       "    <tr>\n",
       "      <th>1</th>\n",
       "      <td>2457747</td>\n",
       "      <td>[0.00181557, 0.00132517, -0.000414258, 0.00052...</td>\n",
       "      <td>2457747</td>\n",
       "      <td>12</td>\n",
       "      <td>4</td>\n",
       "      <td>6</td>\n",
       "      <td>23</td>\n",
       "      <td>48</td>\n",
       "    </tr>\n",
       "    <tr>\n",
       "      <th>2</th>\n",
       "      <td>2629881</td>\n",
       "      <td>[0.00351794, 0.000763518, -0.00173591, 0.00375...</td>\n",
       "      <td>2629881</td>\n",
       "      <td>12</td>\n",
       "      <td>8</td>\n",
       "      <td>18</td>\n",
       "      <td>37</td>\n",
       "      <td>93</td>\n",
       "    </tr>\n",
       "    <tr>\n",
       "      <th>3</th>\n",
       "      <td>2621353</td>\n",
       "      <td>[-0.00260368, 0.000267733, 0.000311891, 0.0001...</td>\n",
       "      <td>2621353</td>\n",
       "      <td>6</td>\n",
       "      <td>2</td>\n",
       "      <td>4</td>\n",
       "      <td>48</td>\n",
       "      <td>153</td>\n",
       "    </tr>\n",
       "    <tr>\n",
       "      <th>4</th>\n",
       "      <td>1222540</td>\n",
       "      <td>[-0.00325687, -0.00082967, 0.000803526, -0.000...</td>\n",
       "      <td>1222540</td>\n",
       "      <td>15</td>\n",
       "      <td>4</td>\n",
       "      <td>6</td>\n",
       "      <td>27</td>\n",
       "      <td>147</td>\n",
       "    </tr>\n",
       "  </tbody>\n",
       "</table>\n",
       "</div>"
      ],
      "text/plain": [
       "   productid                                          embedding     asin   1  \\\n",
       "0    2398095  [0.00202922, 0.00146059, -0.00227462, -0.00132...  2398095  18   \n",
       "1    2457747  [0.00181557, 0.00132517, -0.000414258, 0.00052...  2457747  12   \n",
       "2    2629881  [0.00351794, 0.000763518, -0.00173591, 0.00375...  2629881  12   \n",
       "3    2621353  [-0.00260368, 0.000267733, 0.000311891, 0.0001...  2621353   6   \n",
       "4    1222540  [-0.00325687, -0.00082967, 0.000803526, -0.000...  1222540  15   \n",
       "\n",
       "   2   3   4    5  \n",
       "0  7  20  44   98  \n",
       "1  4   6  23   48  \n",
       "2  8  18  37   93  \n",
       "3  2   4  48  153  \n",
       "4  4   6  27  147  "
      ]
     },
     "execution_count": 66,
     "metadata": {},
     "output_type": "execute_result"
    },
    {
     "data": {
      "application/javascript": [
       "\n",
       "            setTimeout(function() {\n",
       "                var nbb_cell_id = 66;\n",
       "                var nbb_unformatted_code = \"embedding_df.head()\";\n",
       "                var nbb_formatted_code = \"embedding_df.head()\";\n",
       "                var nbb_cells = Jupyter.notebook.get_cells();\n",
       "                for (var i = 0; i < nbb_cells.length; ++i) {\n",
       "                    if (nbb_cells[i].input_prompt_number == nbb_cell_id) {\n",
       "                        if (nbb_cells[i].get_text() == nbb_unformatted_code) {\n",
       "                             nbb_cells[i].set_text(nbb_formatted_code);\n",
       "                        }\n",
       "                        break;\n",
       "                    }\n",
       "                }\n",
       "            }, 500);\n",
       "            "
      ],
      "text/plain": [
       "<IPython.core.display.Javascript object>"
      ]
     },
     "metadata": {},
     "output_type": "display_data"
    }
   ],
   "source": [
    "embedding_df.head()"
   ]
  },
  {
   "cell_type": "code",
   "execution_count": 67,
   "id": "e3280596",
   "metadata": {},
   "outputs": [
    {
     "data": {
      "text/plain": [
       "[<matplotlib.lines.Line2D at 0x7f4584926be0>]"
      ]
     },
     "execution_count": 67,
     "metadata": {},
     "output_type": "execute_result"
    },
    {
     "data": {
      "image/png": "[encoded data removed]",
      "text/plain": [
       "<Figure size 432x288 with 1 Axes>"
      ]
     },
     "metadata": {},
     "output_type": "display_data"
    },
    {
     "data": {
      "application/javascript": [
       "\n",
       "            setTimeout(function() {\n",
       "                var nbb_cell_id = 67;\n",
       "                var nbb_unformatted_code = \"plt.plot(np.sum(embedding_df.iloc[:, 3:], axis=0))\";\n",
       "                var nbb_formatted_code = \"plt.plot(np.sum(embedding_df.iloc[:, 3:], axis=0))\";\n",
       "                var nbb_cells = Jupyter.notebook.get_cells();\n",
       "                for (var i = 0; i < nbb_cells.length; ++i) {\n",
       "                    if (nbb_cells[i].input_prompt_number == nbb_cell_id) {\n",
       "                        if (nbb_cells[i].get_text() == nbb_unformatted_code) {\n",
       "                             nbb_cells[i].set_text(nbb_formatted_code);\n",
       "                        }\n",
       "                        break;\n",
       "                    }\n",
       "                }\n",
       "            }, 500);\n",
       "            "
      ],
      "text/plain": [
       "<IPython.core.display.Javascript object>"
      ]
     },
     "metadata": {},
     "output_type": "display_data"
    }
   ],
   "source": [
    "plt.plot(np.sum(embedding_df.iloc[:, 3:], axis=0))"
   ]
  },
  {
   "cell_type": "markdown",
   "id": "66f2d07b",
   "metadata": {},
   "source": [
    "**We will try to compare the final histograms for a few products with those in the real data**"
   ]
  },
  {
   "cell_type": "code",
   "execution_count": 68,
   "id": "11148f60",
   "metadata": {},
   "outputs": [
    {
     "data": {
      "text/plain": [
       "1900"
      ]
     },
     "execution_count": 68,
     "metadata": {},
     "output_type": "execute_result"
    },
    {
     "data": {
      "application/javascript": [
       "\n",
       "            setTimeout(function() {\n",
       "                var nbb_cell_id = 68;\n",
       "                var nbb_unformatted_code = \"idx = np.where(embedding_df[\\\"asin\\\"] == timeseries_asin[0])[0][0]\\nidx\";\n",
       "                var nbb_formatted_code = \"idx = np.where(embedding_df[\\\"asin\\\"] == timeseries_asin[0])[0][0]\\nidx\";\n",
       "                var nbb_cells = Jupyter.notebook.get_cells();\n",
       "                for (var i = 0; i < nbb_cells.length; ++i) {\n",
       "                    if (nbb_cells[i].input_prompt_number == nbb_cell_id) {\n",
       "                        if (nbb_cells[i].get_text() == nbb_unformatted_code) {\n",
       "                             nbb_cells[i].set_text(nbb_formatted_code);\n",
       "                        }\n",
       "                        break;\n",
       "                    }\n",
       "                }\n",
       "            }, 500);\n",
       "            "
      ],
      "text/plain": [
       "<IPython.core.display.Javascript object>"
      ]
     },
     "metadata": {},
     "output_type": "display_data"
    }
   ],
   "source": [
    "idx = np.where(embedding_df[\"asin\"] == timeseries_asin[0])[0][0]\n",
    "idx"
   ]
  },
  {
   "cell_type": "code",
   "execution_count": 69,
   "id": "21f47336",
   "metadata": {},
   "outputs": [
    {
     "data": {
      "text/plain": [
       "productid                                              4232173\n",
       "embedding    [0.0130474, -0.00801388, -0.0083162, 0.0044740...\n",
       "asin                                                   4232173\n",
       "1                                                            9\n",
       "2                                                            4\n",
       "3                                                            9\n",
       "4                                                           68\n",
       "5                                                          133\n",
       "Name: 1760, dtype: object"
      ]
     },
     "execution_count": 69,
     "metadata": {},
     "output_type": "execute_result"
    },
    {
     "data": {
      "application/javascript": [
       "\n",
       "            setTimeout(function() {\n",
       "                var nbb_cell_id = 69;\n",
       "                var nbb_unformatted_code = \"embedding_df.iloc[1760, :]\";\n",
       "                var nbb_formatted_code = \"embedding_df.iloc[1760, :]\";\n",
       "                var nbb_cells = Jupyter.notebook.get_cells();\n",
       "                for (var i = 0; i < nbb_cells.length; ++i) {\n",
       "                    if (nbb_cells[i].input_prompt_number == nbb_cell_id) {\n",
       "                        if (nbb_cells[i].get_text() == nbb_unformatted_code) {\n",
       "                             nbb_cells[i].set_text(nbb_formatted_code);\n",
       "                        }\n",
       "                        break;\n",
       "                    }\n",
       "                }\n",
       "            }, 500);\n",
       "            "
      ],
      "text/plain": [
       "<IPython.core.display.Javascript object>"
      ]
     },
     "metadata": {},
     "output_type": "display_data"
    }
   ],
   "source": [
    "embedding_df.iloc[1760, :]"
   ]
  },
  {
   "cell_type": "code",
   "execution_count": 70,
   "id": "2420eacb",
   "metadata": {},
   "outputs": [
    {
     "data": {
      "application/javascript": [
       "\n",
       "            setTimeout(function() {\n",
       "                var nbb_cell_id = 70;\n",
       "                var nbb_unformatted_code = \"sims = []\\nfor sim in simulator.simulations:\\n    sims.append(sim[0][-1])\";\n",
       "                var nbb_formatted_code = \"sims = []\\nfor sim in simulator.simulations:\\n    sims.append(sim[0][-1])\";\n",
       "                var nbb_cells = Jupyter.notebook.get_cells();\n",
       "                for (var i = 0; i < nbb_cells.length; ++i) {\n",
       "                    if (nbb_cells[i].input_prompt_number == nbb_cell_id) {\n",
       "                        if (nbb_cells[i].get_text() == nbb_unformatted_code) {\n",
       "                             nbb_cells[i].set_text(nbb_formatted_code);\n",
       "                        }\n",
       "                        break;\n",
       "                    }\n",
       "                }\n",
       "            }, 500);\n",
       "            "
      ],
      "text/plain": [
       "<IPython.core.display.Javascript object>"
      ]
     },
     "metadata": {},
     "output_type": "display_data"
    }
   ],
   "source": [
    "sims = []\n",
    "for sim in simulator.simulations:\n",
    "    sims.append(sim[0][-1])"
   ]
  },
  {
   "cell_type": "code",
   "execution_count": 54,
   "id": "5a2e955a",
   "metadata": {},
   "outputs": [
    {
     "data": {
      "application/javascript": [
       "\n",
       "            setTimeout(function() {\n",
       "                var nbb_cell_id = 54;\n",
       "                var nbb_unformatted_code = \"sims = np.array(sims)\\nsims /= np.sum(sims, axis = 1)[:, None]\";\n",
       "                var nbb_formatted_code = \"sims = np.array(sims)\\nsims /= np.sum(sims, axis=1)[:, None]\";\n",
       "                var nbb_cells = Jupyter.notebook.get_cells();\n",
       "                for (var i = 0; i < nbb_cells.length; ++i) {\n",
       "                    if (nbb_cells[i].input_prompt_number == nbb_cell_id) {\n",
       "                        if (nbb_cells[i].get_text() == nbb_unformatted_code) {\n",
       "                             nbb_cells[i].set_text(nbb_formatted_code);\n",
       "                        }\n",
       "                        break;\n",
       "                    }\n",
       "                }\n",
       "            }, 500);\n",
       "            "
      ],
      "text/plain": [
       "<IPython.core.display.Javascript object>"
      ]
     },
     "metadata": {},
     "output_type": "display_data"
    }
   ],
   "source": [
    "sims = np.array(sims)\n",
    "sims /= np.sum(sims, axis=1)[:, None]"
   ]
  },
  {
   "cell_type": "code",
   "execution_count": 55,
   "id": "30d81f5c",
   "metadata": {},
   "outputs": [
    {
     "data": {
      "text/plain": [
       "array([[0.18363273, 0.10379242, 0.1237525 , 0.23952096, 0.3493014 ],\n",
       "       [0.16816143, 0.09865471, 0.10538117, 0.31838565, 0.30941704],\n",
       "       [0.18997912, 0.09812109, 0.07933194, 0.31524008, 0.31732777],\n",
       "       [0.16666667, 0.09670782, 0.1255144 , 0.29218107, 0.31893004],\n",
       "       [0.18979592, 0.08571429, 0.10204082, 0.27755102, 0.34489796],\n",
       "       [0.18548387, 0.09274194, 0.12096774, 0.26612903, 0.33467742],\n",
       "       [0.18942731, 0.09251101, 0.11013216, 0.27753304, 0.33039648],\n",
       "       [0.18103448, 0.09482759, 0.11637931, 0.32543103, 0.28232759],\n",
       "       [0.17634855, 0.10580913, 0.12240664, 0.24688797, 0.34854772],\n",
       "       [0.18585859, 0.09494949, 0.10909091, 0.28282828, 0.32727273],\n",
       "       [0.19650655, 0.10262009, 0.10480349, 0.22052402, 0.37554585],\n",
       "       [0.18502203, 0.10132159, 0.12334802, 0.24008811, 0.35022026],\n",
       "       [0.18811881, 0.1009901 , 0.08910891, 0.26336634, 0.35841584],\n",
       "       [0.17269076, 0.1064257 , 0.09437751, 0.33333333, 0.29317269],\n",
       "       [0.16363636, 0.10505051, 0.13737374, 0.26666667, 0.32727273],\n",
       "       [0.16478555, 0.11512415, 0.0993228 , 0.30925508, 0.31151242]])"
      ]
     },
     "execution_count": 55,
     "metadata": {},
     "output_type": "execute_result"
    },
    {
     "data": {
      "application/javascript": [
       "\n",
       "            setTimeout(function() {\n",
       "                var nbb_cell_id = 55;\n",
       "                var nbb_unformatted_code = \"sims\";\n",
       "                var nbb_formatted_code = \"sims\";\n",
       "                var nbb_cells = Jupyter.notebook.get_cells();\n",
       "                for (var i = 0; i < nbb_cells.length; ++i) {\n",
       "                    if (nbb_cells[i].input_prompt_number == nbb_cell_id) {\n",
       "                        if (nbb_cells[i].get_text() == nbb_unformatted_code) {\n",
       "                             nbb_cells[i].set_text(nbb_formatted_code);\n",
       "                        }\n",
       "                        break;\n",
       "                    }\n",
       "                }\n",
       "            }, 500);\n",
       "            "
      ],
      "text/plain": [
       "<IPython.core.display.Javascript object>"
      ]
     },
     "metadata": {},
     "output_type": "display_data"
    }
   ],
   "source": [
    "sims"
   ]
  },
  {
   "cell_type": "code",
   "execution_count": 58,
   "id": "13247624",
   "metadata": {},
   "outputs": [
    {
     "data": {
      "text/plain": [
       "[<matplotlib.lines.Line2D at 0x7f43a4a1e370>]"
      ]
     },
     "execution_count": 58,
     "metadata": {},
     "output_type": "execute_result"
    },
    {
     "data": {
      "image/png": "[encoded data removed]",
      "text/plain": [
       "<Figure size 432x288 with 1 Axes>"
      ]
     },
     "metadata": {},
     "output_type": "display_data"
    },
    {
     "data": {
      "application/javascript": [
       "\n",
       "            setTimeout(function() {\n",
       "                var nbb_cell_id = 58;\n",
       "                var nbb_unformatted_code = \"plt.plot(sims.T)\\nplt.plot(embedding_df.iloc[1760, 3:]/np.sum(embedding_df.iloc[1760, 3:]), color=\\\"black\\\")\";\n",
       "                var nbb_formatted_code = \"plt.plot(sims.T)\\nplt.plot(\\n    embedding_df.iloc[1760, 3:] / np.sum(embedding_df.iloc[1760, 3:]), color=\\\"black\\\"\\n)\";\n",
       "                var nbb_cells = Jupyter.notebook.get_cells();\n",
       "                for (var i = 0; i < nbb_cells.length; ++i) {\n",
       "                    if (nbb_cells[i].input_prompt_number == nbb_cell_id) {\n",
       "                        if (nbb_cells[i].get_text() == nbb_unformatted_code) {\n",
       "                             nbb_cells[i].set_text(nbb_formatted_code);\n",
       "                        }\n",
       "                        break;\n",
       "                    }\n",
       "                }\n",
       "            }, 500);\n",
       "            "
      ],
      "text/plain": [
       "<IPython.core.display.Javascript object>"
      ]
     },
     "metadata": {},
     "output_type": "display_data"
    }
   ],
   "source": [
    "plt.plot(sims.T)\n",
    "plt.plot(\n",
    "    embedding_df.iloc[1760, 3:] / np.sum(embedding_df.iloc[1760, 3:]), color=\"black\"\n",
    ")"
   ]
  },
  {
   "cell_type": "code",
   "execution_count": 68,
   "id": "930d0fc4",
   "metadata": {},
   "outputs": [
    {
     "data": {
      "text/plain": [
       "3722"
      ]
     },
     "execution_count": 68,
     "metadata": {},
     "output_type": "execute_result"
    },
    {
     "data": {
      "application/javascript": [
       "\n",
       "            setTimeout(function() {\n",
       "                var nbb_cell_id = 68;\n",
       "                var nbb_unformatted_code = \"idx = np.where(embedding_df[\\\"asin\\\"] == timeseries_asin[1000])[0][0]\\nidx\";\n",
       "                var nbb_formatted_code = \"idx = np.where(embedding_df[\\\"asin\\\"] == timeseries_asin[1000])[0][0]\\nidx\";\n",
       "                var nbb_cells = Jupyter.notebook.get_cells();\n",
       "                for (var i = 0; i < nbb_cells.length; ++i) {\n",
       "                    if (nbb_cells[i].input_prompt_number == nbb_cell_id) {\n",
       "                        if (nbb_cells[i].get_text() == nbb_unformatted_code) {\n",
       "                             nbb_cells[i].set_text(nbb_formatted_code);\n",
       "                        }\n",
       "                        break;\n",
       "                    }\n",
       "                }\n",
       "            }, 500);\n",
       "            "
      ],
      "text/plain": [
       "<IPython.core.display.Javascript object>"
      ]
     },
     "metadata": {},
     "output_type": "display_data"
    }
   ],
   "source": [
    "idx = np.where(embedding_df[\"asin\"] == timeseries_asin[1000])[0][0]\n",
    "idx"
   ]
  },
  {
   "cell_type": "code",
   "execution_count": 69,
   "id": "8dfb73bc",
   "metadata": {},
   "outputs": [
    {
     "data": {
      "text/plain": [
       "productid                                              6247836\n",
       "embedding    [-0.0526099, 0.0766598, 0.00164629, -0.0169849...\n",
       "asin                                                   6247836\n",
       "1                                                            3\n",
       "2                                                            2\n",
       "3                                                            2\n",
       "4                                                            6\n",
       "5                                                           19\n",
       "Name: 3722, dtype: object"
      ]
     },
     "execution_count": 69,
     "metadata": {},
     "output_type": "execute_result"
    },
    {
     "data": {
      "application/javascript": [
       "\n",
       "            setTimeout(function() {\n",
       "                var nbb_cell_id = 69;\n",
       "                var nbb_unformatted_code = \"embedding_df.iloc[3722, :]\";\n",
       "                var nbb_formatted_code = \"embedding_df.iloc[3722, :]\";\n",
       "                var nbb_cells = Jupyter.notebook.get_cells();\n",
       "                for (var i = 0; i < nbb_cells.length; ++i) {\n",
       "                    if (nbb_cells[i].input_prompt_number == nbb_cell_id) {\n",
       "                        if (nbb_cells[i].get_text() == nbb_unformatted_code) {\n",
       "                             nbb_cells[i].set_text(nbb_formatted_code);\n",
       "                        }\n",
       "                        break;\n",
       "                    }\n",
       "                }\n",
       "            }, 500);\n",
       "            "
      ],
      "text/plain": [
       "<IPython.core.display.Javascript object>"
      ]
     },
     "metadata": {},
     "output_type": "display_data"
    }
   ],
   "source": [
    "embedding_df.iloc[3722, :]"
   ]
  },
  {
   "cell_type": "code",
   "execution_count": 70,
   "id": "30e8f542",
   "metadata": {},
   "outputs": [
    {
     "data": {
      "application/javascript": [
       "\n",
       "            setTimeout(function() {\n",
       "                var nbb_cell_id = 70;\n",
       "                var nbb_unformatted_code = \"sims = []\\nfor sim in simulator.simulations:\\n    sims.append(sim[1000][-1])\";\n",
       "                var nbb_formatted_code = \"sims = []\\nfor sim in simulator.simulations:\\n    sims.append(sim[1000][-1])\";\n",
       "                var nbb_cells = Jupyter.notebook.get_cells();\n",
       "                for (var i = 0; i < nbb_cells.length; ++i) {\n",
       "                    if (nbb_cells[i].input_prompt_number == nbb_cell_id) {\n",
       "                        if (nbb_cells[i].get_text() == nbb_unformatted_code) {\n",
       "                             nbb_cells[i].set_text(nbb_formatted_code);\n",
       "                        }\n",
       "                        break;\n",
       "                    }\n",
       "                }\n",
       "            }, 500);\n",
       "            "
      ],
      "text/plain": [
       "<IPython.core.display.Javascript object>"
      ]
     },
     "metadata": {},
     "output_type": "display_data"
    }
   ],
   "source": [
    "sims = []\n",
    "for sim in simulator.simulations:\n",
    "    sims.append(sim[1000][-1])"
   ]
  },
  {
   "cell_type": "code",
   "execution_count": 71,
   "id": "d63dd96e",
   "metadata": {},
   "outputs": [
    {
     "data": {
      "application/javascript": [
       "\n",
       "            setTimeout(function() {\n",
       "                var nbb_cell_id = 71;\n",
       "                var nbb_unformatted_code = \"sims = np.array(sims)\\nsims /= np.sum(sims, axis=1)[:, None]\";\n",
       "                var nbb_formatted_code = \"sims = np.array(sims)\\nsims /= np.sum(sims, axis=1)[:, None]\";\n",
       "                var nbb_cells = Jupyter.notebook.get_cells();\n",
       "                for (var i = 0; i < nbb_cells.length; ++i) {\n",
       "                    if (nbb_cells[i].input_prompt_number == nbb_cell_id) {\n",
       "                        if (nbb_cells[i].get_text() == nbb_unformatted_code) {\n",
       "                             nbb_cells[i].set_text(nbb_formatted_code);\n",
       "                        }\n",
       "                        break;\n",
       "                    }\n",
       "                }\n",
       "            }, 500);\n",
       "            "
      ],
      "text/plain": [
       "<IPython.core.display.Javascript object>"
      ]
     },
     "metadata": {},
     "output_type": "display_data"
    }
   ],
   "source": [
    "sims = np.array(sims)\n",
    "sims /= np.sum(sims, axis=1)[:, None]"
   ]
  },
  {
   "cell_type": "code",
   "execution_count": 72,
   "id": "28f6bd25",
   "metadata": {},
   "outputs": [
    {
     "data": {
      "text/plain": [
       "array([[0.10526316, 0.05263158, 0.1754386 , 0.22807018, 0.43859649],\n",
       "       [0.14285714, 0.05194805, 0.12987013, 0.28571429, 0.38961039],\n",
       "       [0.06666667, 0.11666667, 0.06666667, 0.38333333, 0.36666667],\n",
       "       [0.13114754, 0.06557377, 0.13114754, 0.18032787, 0.49180328],\n",
       "       [0.09230769, 0.09230769, 0.15384615, 0.21538462, 0.44615385],\n",
       "       [0.12962963, 0.05555556, 0.14814815, 0.2962963 , 0.37037037],\n",
       "       [0.12068966, 0.06896552, 0.15517241, 0.22413793, 0.43103448],\n",
       "       [0.09259259, 0.07407407, 0.09259259, 0.27777778, 0.46296296],\n",
       "       [0.11764706, 0.05882353, 0.17647059, 0.22058824, 0.42647059],\n",
       "       [0.1       , 0.1       , 0.16666667, 0.18333333, 0.45      ],\n",
       "       [0.09677419, 0.06451613, 0.17741935, 0.22580645, 0.43548387],\n",
       "       [0.10344828, 0.06896552, 0.17241379, 0.20689655, 0.44827586],\n",
       "       [0.14285714, 0.05357143, 0.16071429, 0.17857143, 0.46428571],\n",
       "       [0.13888889, 0.05555556, 0.09722222, 0.26388889, 0.44444444],\n",
       "       [0.12857143, 0.07142857, 0.08571429, 0.28571429, 0.42857143],\n",
       "       [0.11290323, 0.06451613, 0.16129032, 0.19354839, 0.46774194]])"
      ]
     },
     "execution_count": 72,
     "metadata": {},
     "output_type": "execute_result"
    },
    {
     "data": {
      "application/javascript": [
       "\n",
       "            setTimeout(function() {\n",
       "                var nbb_cell_id = 72;\n",
       "                var nbb_unformatted_code = \"sims\";\n",
       "                var nbb_formatted_code = \"sims\";\n",
       "                var nbb_cells = Jupyter.notebook.get_cells();\n",
       "                for (var i = 0; i < nbb_cells.length; ++i) {\n",
       "                    if (nbb_cells[i].input_prompt_number == nbb_cell_id) {\n",
       "                        if (nbb_cells[i].get_text() == nbb_unformatted_code) {\n",
       "                             nbb_cells[i].set_text(nbb_formatted_code);\n",
       "                        }\n",
       "                        break;\n",
       "                    }\n",
       "                }\n",
       "            }, 500);\n",
       "            "
      ],
      "text/plain": [
       "<IPython.core.display.Javascript object>"
      ]
     },
     "metadata": {},
     "output_type": "display_data"
    }
   ],
   "source": [
    "sims"
   ]
  },
  {
   "cell_type": "code",
   "execution_count": 73,
   "id": "3d018b7c",
   "metadata": {},
   "outputs": [
    {
     "data": {
      "text/plain": [
       "[<matplotlib.lines.Line2D at 0x7f43ae6a6160>]"
      ]
     },
     "execution_count": 73,
     "metadata": {},
     "output_type": "execute_result"
    },
    {
     "data": {
      "image/png": "[encoded data removed]",
      "text/plain": [
       "<Figure size 432x288 with 1 Axes>"
      ]
     },
     "metadata": {},
     "output_type": "display_data"
    },
    {
     "data": {
      "application/javascript": [
       "\n",
       "            setTimeout(function() {\n",
       "                var nbb_cell_id = 73;\n",
       "                var nbb_unformatted_code = \"plt.plot(sims.T)\\nplt.plot(\\n    embedding_df.iloc[5048, 3:] / np.sum(embedding_df.iloc[5048, 3:]), color=\\\"black\\\"\\n)\";\n",
       "                var nbb_formatted_code = \"plt.plot(sims.T)\\nplt.plot(\\n    embedding_df.iloc[5048, 3:] / np.sum(embedding_df.iloc[5048, 3:]), color=\\\"black\\\"\\n)\";\n",
       "                var nbb_cells = Jupyter.notebook.get_cells();\n",
       "                for (var i = 0; i < nbb_cells.length; ++i) {\n",
       "                    if (nbb_cells[i].input_prompt_number == nbb_cell_id) {\n",
       "                        if (nbb_cells[i].get_text() == nbb_unformatted_code) {\n",
       "                             nbb_cells[i].set_text(nbb_formatted_code);\n",
       "                        }\n",
       "                        break;\n",
       "                    }\n",
       "                }\n",
       "            }, 500);\n",
       "            "
      ],
      "text/plain": [
       "<IPython.core.display.Javascript object>"
      ]
     },
     "metadata": {},
     "output_type": "display_data"
    }
   ],
   "source": [
    "plt.plot(sims.T)\n",
    "plt.plot(\n",
    "    embedding_df.iloc[5048, 3:] / np.sum(embedding_df.iloc[5048, 3:]), color=\"black\"\n",
    ")"
   ]
  },
  {
   "cell_type": "code",
   "execution_count": 88,
   "id": "8bae12be",
   "metadata": {},
   "outputs": [
    {
     "data": {
      "text/plain": [
       "(4, 5)"
      ]
     },
     "execution_count": 88,
     "metadata": {},
     "output_type": "execute_result"
    },
    {
     "data": {
      "application/javascript": [
       "\n",
       "            setTimeout(function() {\n",
       "                var nbb_cell_id = 88;\n",
       "                var nbb_unformatted_code = \"timeseries_data[1].shape\";\n",
       "                var nbb_formatted_code = \"timeseries_data[1].shape\";\n",
       "                var nbb_cells = Jupyter.notebook.get_cells();\n",
       "                for (var i = 0; i < nbb_cells.length; ++i) {\n",
       "                    if (nbb_cells[i].input_prompt_number == nbb_cell_id) {\n",
       "                        if (nbb_cells[i].get_text() == nbb_unformatted_code) {\n",
       "                             nbb_cells[i].set_text(nbb_formatted_code);\n",
       "                        }\n",
       "                        break;\n",
       "                    }\n",
       "                }\n",
       "            }, 500);\n",
       "            "
      ],
      "text/plain": [
       "<IPython.core.display.Javascript object>"
      ]
     },
     "metadata": {},
     "output_type": "display_data"
    }
   ],
   "source": [
    "timeseries_data[1].shape"
   ]
  },
  {
   "cell_type": "code",
   "execution_count": 83,
   "id": "a76b0ebb",
   "metadata": {},
   "outputs": [
    {
     "data": {
      "text/plain": [
       "(439, 5)"
      ]
     },
     "execution_count": 83,
     "metadata": {},
     "output_type": "execute_result"
    },
    {
     "data": {
      "application/javascript": [
       "\n",
       "            setTimeout(function() {\n",
       "                var nbb_cell_id = 83;\n",
       "                var nbb_unformatted_code = \"simulator.simulations[15][0].shape\";\n",
       "                var nbb_formatted_code = \"simulator.simulations[15][0].shape\";\n",
       "                var nbb_cells = Jupyter.notebook.get_cells();\n",
       "                for (var i = 0; i < nbb_cells.length; ++i) {\n",
       "                    if (nbb_cells[i].input_prompt_number == nbb_cell_id) {\n",
       "                        if (nbb_cells[i].get_text() == nbb_unformatted_code) {\n",
       "                             nbb_cells[i].set_text(nbb_formatted_code);\n",
       "                        }\n",
       "                        break;\n",
       "                    }\n",
       "                }\n",
       "            }, 500);\n",
       "            "
      ],
      "text/plain": [
       "<IPython.core.display.Javascript object>"
      ]
     },
     "metadata": {},
     "output_type": "display_data"
    }
   ],
   "source": [
    "simulator.simulations[15][0].shape"
   ]
  },
  {
   "cell_type": "code",
   "execution_count": 110,
   "id": "24b7af6f",
   "metadata": {},
   "outputs": [
    {
     "data": {
      "application/javascript": [
       "\n",
       "            setTimeout(function() {\n",
       "                var nbb_cell_id = 110;\n",
       "                var nbb_unformatted_code = \"# This checks the review-by-review accuracy for the first t reviews for each product\\n# Accuracy is reported as the % of simulations that produced the exact same star rating\\naccuracy = []\\nfor i in range(timeseries_data.shape[0]):\\n    this_prod_accuracy = []\\n    for t in range(1, 15, 1):\\n        correct = 0\\n        for j in range(len(simulator.simulations)):\\n            try:\\n                correct += int(\\n                    np.array_equal(\\n                        timeseries_data[i][t, :], simulator.simulations[j][i][t, :]\\n                    )\\n                )\\n            except:\\n                correct = np.nan\\n                continue\\n        this_prod_accuracy.append(correct / len(simulator.simulations))\\n    accuracy.append(this_prod_accuracy)\";\n",
       "                var nbb_formatted_code = \"# This checks the review-by-review accuracy for the first t reviews for each product\\n# Accuracy is reported as the % of simulations that produced the exact same star rating\\naccuracy = []\\nfor i in range(timeseries_data.shape[0]):\\n    this_prod_accuracy = []\\n    for t in range(1, 15, 1):\\n        correct = 0\\n        for j in range(len(simulator.simulations)):\\n            try:\\n                correct += int(\\n                    np.array_equal(\\n                        timeseries_data[i][t, :], simulator.simulations[j][i][t, :]\\n                    )\\n                )\\n            except:\\n                correct = np.nan\\n                continue\\n        this_prod_accuracy.append(correct / len(simulator.simulations))\\n    accuracy.append(this_prod_accuracy)\";\n",
       "                var nbb_cells = Jupyter.notebook.get_cells();\n",
       "                for (var i = 0; i < nbb_cells.length; ++i) {\n",
       "                    if (nbb_cells[i].input_prompt_number == nbb_cell_id) {\n",
       "                        if (nbb_cells[i].get_text() == nbb_unformatted_code) {\n",
       "                             nbb_cells[i].set_text(nbb_formatted_code);\n",
       "                        }\n",
       "                        break;\n",
       "                    }\n",
       "                }\n",
       "            }, 500);\n",
       "            "
      ],
      "text/plain": [
       "<IPython.core.display.Javascript object>"
      ]
     },
     "metadata": {},
     "output_type": "display_data"
    }
   ],
   "source": [
    "# This checks the review-by-review accuracy for the first t reviews for each product\n",
    "# Accuracy is reported as the % of simulations that produced the exact same star rating\n",
    "accuracy = []\n",
    "for i in range(timeseries_data.shape[0]):\n",
    "    this_prod_accuracy = []\n",
    "    for t in range(1, 15, 1):\n",
    "        correct = 0\n",
    "        for j in range(len(simulator.simulations)):\n",
    "            try:\n",
    "                correct += int(\n",
    "                    np.array_equal(\n",
    "                        timeseries_data[i][t, :], simulator.simulations[j][i][t, :]\n",
    "                    )\n",
    "                )\n",
    "            except:\n",
    "                correct = np.nan\n",
    "                continue\n",
    "        this_prod_accuracy.append(correct / len(simulator.simulations))\n",
    "    accuracy.append(this_prod_accuracy)"
   ]
  },
  {
   "cell_type": "code",
   "execution_count": 135,
   "id": "6001c7fc",
   "metadata": {},
   "outputs": [
    {
     "data": {
      "application/javascript": [
       "\n",
       "            setTimeout(function() {\n",
       "                var nbb_cell_id = 135;\n",
       "                var nbb_unformatted_code = \"# This is a different measure of accuracy - we first take the predicted rating to be the most common rating\\n# produced by the simulations. Then we check if the real rating is the same as this most common rating\\n# We measure accuracy as the absolute difference between the real and predicted rating\\naccuracy = []\\nfor i in range(timeseries_data.shape[0]):\\n    this_prod_accuracy = []\\n    for t in range(1, 50, 1):\\n        ratings = []\\n        for j in range(len(simulator.simulations)):\\n            try:\\n                rating = (\\n                    np.where(\\n                        simulator.simulations[j][i][t, :]\\n                        - simulator.simulations[j][i][t - 1, :]\\n                    )[0][0]\\n                    + 1\\n                )\\n            except:\\n                rating = np.nan\\n            ratings.append(rating)\\n        ratings = np.array(ratings)\\n\\n        try:\\n            pred_rating = np.argmax(np.bincount(ratings[~np.isnan(ratings)]))\\n            obs_rating = (\\n                np.where(timeseries_data[i][t, :] - timeseries_data[i][t - 1, :])[0][0]\\n                + 1\\n            )\\n        except:\\n            obs_rating = np.nan\\n            pred_rating = np.nan\\n        this_prod_accuracy.append(np.abs(pred_rating - obs_rating))\\n    accuracy.append(this_prod_accuracy)\";\n",
       "                var nbb_formatted_code = \"# This is a different measure of accuracy - we first take the predicted rating to be the most common rating\\n# produced by the simulations. Then we check if the real rating is the same as this most common rating\\n# We measure accuracy as the absolute difference between the real and predicted rating\\naccuracy = []\\nfor i in range(timeseries_data.shape[0]):\\n    this_prod_accuracy = []\\n    for t in range(1, 50, 1):\\n        ratings = []\\n        for j in range(len(simulator.simulations)):\\n            try:\\n                rating = (\\n                    np.where(\\n                        simulator.simulations[j][i][t, :]\\n                        - simulator.simulations[j][i][t - 1, :]\\n                    )[0][0]\\n                    + 1\\n                )\\n            except:\\n                rating = np.nan\\n            ratings.append(rating)\\n        ratings = np.array(ratings)\\n\\n        try:\\n            pred_rating = np.argmax(np.bincount(ratings[~np.isnan(ratings)]))\\n            obs_rating = (\\n                np.where(timeseries_data[i][t, :] - timeseries_data[i][t - 1, :])[0][0]\\n                + 1\\n            )\\n        except:\\n            obs_rating = np.nan\\n            pred_rating = np.nan\\n        this_prod_accuracy.append(np.abs(pred_rating - obs_rating))\\n    accuracy.append(this_prod_accuracy)\";\n",
       "                var nbb_cells = Jupyter.notebook.get_cells();\n",
       "                for (var i = 0; i < nbb_cells.length; ++i) {\n",
       "                    if (nbb_cells[i].input_prompt_number == nbb_cell_id) {\n",
       "                        if (nbb_cells[i].get_text() == nbb_unformatted_code) {\n",
       "                             nbb_cells[i].set_text(nbb_formatted_code);\n",
       "                        }\n",
       "                        break;\n",
       "                    }\n",
       "                }\n",
       "            }, 500);\n",
       "            "
      ],
      "text/plain": [
       "<IPython.core.display.Javascript object>"
      ]
     },
     "metadata": {},
     "output_type": "display_data"
    }
   ],
   "source": [
    "# This is a different measure of accuracy - we first take the predicted rating to be the most common rating\n",
    "# produced by the simulations. Then we check if the real rating is the same as this most common rating\n",
    "# We measure accuracy as the absolute difference between the real and predicted rating\n",
    "accuracy = []\n",
    "for i in range(timeseries_data.shape[0]):\n",
    "    this_prod_accuracy = []\n",
    "    for t in range(1, 50, 1):\n",
    "        ratings = []\n",
    "        for j in range(len(simulator.simulations)):\n",
    "            try:\n",
    "                rating = (\n",
    "                    np.where(\n",
    "                        simulator.simulations[j][i][t, :]\n",
    "                        - simulator.simulations[j][i][t - 1, :]\n",
    "                    )[0][0]\n",
    "                    + 1\n",
    "                )\n",
    "            except:\n",
    "                rating = np.nan\n",
    "            ratings.append(rating)\n",
    "        ratings = np.array(ratings)\n",
    "\n",
    "        try:\n",
    "            pred_rating = np.argmax(np.bincount(ratings[~np.isnan(ratings)]))\n",
    "            obs_rating = (\n",
    "                np.where(timeseries_data[i][t, :] - timeseries_data[i][t - 1, :])[0][0]\n",
    "                + 1\n",
    "            )\n",
    "        except:\n",
    "            obs_rating = np.nan\n",
    "            pred_rating = np.nan\n",
    "        this_prod_accuracy.append(np.abs(pred_rating - obs_rating))\n",
    "    accuracy.append(this_prod_accuracy)"
   ]
  },
  {
   "cell_type": "code",
   "execution_count": 147,
   "id": "5d5e7bd0",
   "metadata": {},
   "outputs": [
    {
     "data": {
      "application/javascript": [
       "\n",
       "            setTimeout(function() {\n",
       "                var nbb_cell_id = 147;\n",
       "                var nbb_unformatted_code = \"# Another different measure of accuracy - here we take the most common rating as the predicted rating as before\\n# But just calculate the accuracy, across products - i.e, for how many products is this predicted rating the same\\n# as the observed rating\\naccuracy = []\\nfor i in range(timeseries_data.shape[0]):\\n    this_prod_accuracy = []\\n    for t in range(1, 20, 1):\\n        ratings = []\\n        for j in range(len(simulator.simulations)):\\n            try:\\n                rating = (\\n                    np.where(\\n                        simulator.simulations[j][i][t, :]\\n                        - simulator.simulations[j][i][t - 1, :]\\n                    )[0][0]\\n                    + 1\\n                )\\n            except:\\n                rating = np.nan\\n            ratings.append(rating)\\n        ratings = np.array(ratings)\\n\\n        try:\\n            pred_rating = np.argmax(np.bincount(ratings[~np.isnan(ratings)]))\\n            obs_rating = (\\n                np.where(timeseries_data[i][t, :] - timeseries_data[i][t - 1, :])[0][0]\\n                + 1\\n            )\\n            this_prod_accuracy.append(pred_rating == obs_rating)\\n        except:\\n            obs_rating = np.nan\\n            pred_rating = np.nan\\n            this_prod_accuracy.append(np.nan)\\n    accuracy.append(this_prod_accuracy)\";\n",
       "                var nbb_formatted_code = \"# Another different measure of accuracy - here we take the most common rating as the predicted rating as before\\n# But just calculate the accuracy, across products - i.e, for how many products is this predicted rating the same\\n# as the observed rating\\naccuracy = []\\nfor i in range(timeseries_data.shape[0]):\\n    this_prod_accuracy = []\\n    for t in range(1, 20, 1):\\n        ratings = []\\n        for j in range(len(simulator.simulations)):\\n            try:\\n                rating = (\\n                    np.where(\\n                        simulator.simulations[j][i][t, :]\\n                        - simulator.simulations[j][i][t - 1, :]\\n                    )[0][0]\\n                    + 1\\n                )\\n            except:\\n                rating = np.nan\\n            ratings.append(rating)\\n        ratings = np.array(ratings)\\n\\n        try:\\n            pred_rating = np.argmax(np.bincount(ratings[~np.isnan(ratings)]))\\n            obs_rating = (\\n                np.where(timeseries_data[i][t, :] - timeseries_data[i][t - 1, :])[0][0]\\n                + 1\\n            )\\n            this_prod_accuracy.append(pred_rating == obs_rating)\\n        except:\\n            obs_rating = np.nan\\n            pred_rating = np.nan\\n            this_prod_accuracy.append(np.nan)\\n    accuracy.append(this_prod_accuracy)\";\n",
       "                var nbb_cells = Jupyter.notebook.get_cells();\n",
       "                for (var i = 0; i < nbb_cells.length; ++i) {\n",
       "                    if (nbb_cells[i].input_prompt_number == nbb_cell_id) {\n",
       "                        if (nbb_cells[i].get_text() == nbb_unformatted_code) {\n",
       "                             nbb_cells[i].set_text(nbb_formatted_code);\n",
       "                        }\n",
       "                        break;\n",
       "                    }\n",
       "                }\n",
       "            }, 500);\n",
       "            "
      ],
      "text/plain": [
       "<IPython.core.display.Javascript object>"
      ]
     },
     "metadata": {},
     "output_type": "display_data"
    }
   ],
   "source": [
    "# Another different measure of accuracy - here we take the most common rating as the predicted rating as before\n",
    "# But just calculate the accuracy, across products - i.e, for how many products is this predicted rating the same\n",
    "# as the observed rating\n",
    "accuracy = []\n",
    "for i in range(timeseries_data.shape[0]):\n",
    "    this_prod_accuracy = []\n",
    "    for t in range(1, 20, 1):\n",
    "        ratings = []\n",
    "        for j in range(len(simulator.simulations)):\n",
    "            try:\n",
    "                rating = (\n",
    "                    np.where(\n",
    "                        simulator.simulations[j][i][t, :]\n",
    "                        - simulator.simulations[j][i][t - 1, :]\n",
    "                    )[0][0]\n",
    "                    + 1\n",
    "                )\n",
    "            except:\n",
    "                rating = np.nan\n",
    "            ratings.append(rating)\n",
    "        ratings = np.array(ratings)\n",
    "\n",
    "        try:\n",
    "            pred_rating = np.argmax(np.bincount(ratings[~np.isnan(ratings)]))\n",
    "            obs_rating = (\n",
    "                np.where(timeseries_data[i][t, :] - timeseries_data[i][t - 1, :])[0][0]\n",
    "                + 1\n",
    "            )\n",
    "            this_prod_accuracy.append(pred_rating == obs_rating)\n",
    "        except:\n",
    "            obs_rating = np.nan\n",
    "            pred_rating = np.nan\n",
    "            this_prod_accuracy.append(np.nan)\n",
    "    accuracy.append(this_prod_accuracy)"
   ]
  },
  {
   "cell_type": "code",
   "execution_count": 148,
   "id": "57b9139d",
   "metadata": {},
   "outputs": [
    {
     "data": {
      "text/plain": [
       "array([[ 0.,  0.,  0., ...,  0.,  0.,  1.],\n",
       "       [ 0.,  0.,  0., ..., nan, nan, nan],\n",
       "       [ 0.,  1.,  1., ...,  0.,  0.,  1.],\n",
       "       ...,\n",
       "       [ 0.,  1.,  0., ...,  0.,  0.,  1.],\n",
       "       [ 0.,  1.,  0., ...,  1.,  0.,  1.],\n",
       "       [ 1.,  1.,  1., ...,  0.,  0.,  0.]])"
      ]
     },
     "execution_count": 148,
     "metadata": {},
     "output_type": "execute_result"
    },
    {
     "data": {
      "application/javascript": [
       "\n",
       "            setTimeout(function() {\n",
       "                var nbb_cell_id = 148;\n",
       "                var nbb_unformatted_code = \"accuracy = np.array(accuracy)\\naccuracy\";\n",
       "                var nbb_formatted_code = \"accuracy = np.array(accuracy)\\naccuracy\";\n",
       "                var nbb_cells = Jupyter.notebook.get_cells();\n",
       "                for (var i = 0; i < nbb_cells.length; ++i) {\n",
       "                    if (nbb_cells[i].input_prompt_number == nbb_cell_id) {\n",
       "                        if (nbb_cells[i].get_text() == nbb_unformatted_code) {\n",
       "                             nbb_cells[i].set_text(nbb_formatted_code);\n",
       "                        }\n",
       "                        break;\n",
       "                    }\n",
       "                }\n",
       "            }, 500);\n",
       "            "
      ],
      "text/plain": [
       "<IPython.core.display.Javascript object>"
      ]
     },
     "metadata": {},
     "output_type": "display_data"
    }
   ],
   "source": [
    "accuracy = np.array(accuracy)\n",
    "accuracy"
   ]
  },
  {
   "cell_type": "code",
   "execution_count": 149,
   "id": "cfe22dc2",
   "metadata": {},
   "outputs": [
    {
     "data": {
      "text/plain": [
       "[<matplotlib.lines.Line2D at 0x7f43b3fbaf10>]"
      ]
     },
     "execution_count": 149,
     "metadata": {},
     "output_type": "execute_result"
    },
    {
     "data": {
      "image/png": "[encoded data removed]",
      "text/plain": [
       "<Figure size 432x288 with 1 Axes>"
      ]
     },
     "metadata": {},
     "output_type": "display_data"
    },
    {
     "data": {
      "application/javascript": [
       "\n",
       "            setTimeout(function() {\n",
       "                var nbb_cell_id = 149;\n",
       "                var nbb_unformatted_code = \"plt.plot(np.nanmean(accuracy[:, :], axis=0))\";\n",
       "                var nbb_formatted_code = \"plt.plot(np.nanmean(accuracy[:, :], axis=0))\";\n",
       "                var nbb_cells = Jupyter.notebook.get_cells();\n",
       "                for (var i = 0; i < nbb_cells.length; ++i) {\n",
       "                    if (nbb_cells[i].input_prompt_number == nbb_cell_id) {\n",
       "                        if (nbb_cells[i].get_text() == nbb_unformatted_code) {\n",
       "                             nbb_cells[i].set_text(nbb_formatted_code);\n",
       "                        }\n",
       "                        break;\n",
       "                    }\n",
       "                }\n",
       "            }, 500);\n",
       "            "
      ],
      "text/plain": [
       "<IPython.core.display.Javascript object>"
      ]
     },
     "metadata": {},
     "output_type": "display_data"
    }
   ],
   "source": [
    "plt.plot(np.nanmean(accuracy[:, :], axis=0))"
   ]
  },
  {
   "cell_type": "code",
   "execution_count": 146,
   "id": "6ec5f4d3",
   "metadata": {},
   "outputs": [
    {
     "data": {
      "text/plain": [
       "[<matplotlib.lines.Line2D at 0x7f43b3f6d9a0>]"
      ]
     },
     "execution_count": 146,
     "metadata": {},
     "output_type": "execute_result"
    },
    {
     "data": {
      "image/png": "[encoded data removed]",
      "text/plain": [
       "<Figure size 432x288 with 1 Axes>"
      ]
     },
     "metadata": {},
     "output_type": "display_data"
    },
    {
     "data": {
      "application/javascript": [
       "\n",
       "            setTimeout(function() {\n",
       "                var nbb_cell_id = 146;\n",
       "                var nbb_unformatted_code = \"plt.plot(accuracy[78, :])\";\n",
       "                var nbb_formatted_code = \"plt.plot(accuracy[78, :])\";\n",
       "                var nbb_cells = Jupyter.notebook.get_cells();\n",
       "                for (var i = 0; i < nbb_cells.length; ++i) {\n",
       "                    if (nbb_cells[i].input_prompt_number == nbb_cell_id) {\n",
       "                        if (nbb_cells[i].get_text() == nbb_unformatted_code) {\n",
       "                             nbb_cells[i].set_text(nbb_formatted_code);\n",
       "                        }\n",
       "                        break;\n",
       "                    }\n",
       "                }\n",
       "            }, 500);\n",
       "            "
      ],
      "text/plain": [
       "<IPython.core.display.Javascript object>"
      ]
     },
     "metadata": {},
     "output_type": "display_data"
    }
   ],
   "source": [
    "plt.plot(accuracy[78, :])"
   ]
  },
  {
   "cell_type": "markdown",
   "id": "08afefb3",
   "metadata": {},
   "source": [
    "**Will need to use multinomial distributions to see what the baseline probability for such events will be assuming a random classifier - one that produces 1-5 star with equal probability**"
   ]
  },
  {
   "cell_type": "markdown",
   "id": "4f538ec6",
   "metadata": {},
   "source": [
    "**Next we will design a similar set of accuracy tests for simulations that used existing reviews**"
   ]
  },
  {
   "cell_type": "markdown",
   "id": "801c0c48",
   "metadata": {},
   "source": [
    "**First check how the reviews for a specific product look**"
   ]
  },
  {
   "cell_type": "code",
   "execution_count": 92,
   "id": "7e8cf0a6",
   "metadata": {},
   "outputs": [
    {
     "data": {
      "text/plain": [
       "3126"
      ]
     },
     "execution_count": 92,
     "metadata": {},
     "output_type": "execute_result"
    },
    {
     "data": {
      "application/javascript": [
       "\n",
       "            setTimeout(function() {\n",
       "                var nbb_cell_id = 92;\n",
       "                var nbb_unformatted_code = \"idx = np.where(embedding_df[\\\"asin\\\"] == timeseries_asin[45])[0][0]\\nidx\";\n",
       "                var nbb_formatted_code = \"idx = np.where(embedding_df[\\\"asin\\\"] == timeseries_asin[45])[0][0]\\nidx\";\n",
       "                var nbb_cells = Jupyter.notebook.get_cells();\n",
       "                for (var i = 0; i < nbb_cells.length; ++i) {\n",
       "                    if (nbb_cells[i].input_prompt_number == nbb_cell_id) {\n",
       "                        if (nbb_cells[i].get_text() == nbb_unformatted_code) {\n",
       "                             nbb_cells[i].set_text(nbb_formatted_code);\n",
       "                        }\n",
       "                        break;\n",
       "                    }\n",
       "                }\n",
       "            }, 500);\n",
       "            "
      ],
      "text/plain": [
       "<IPython.core.display.Javascript object>"
      ]
     },
     "metadata": {},
     "output_type": "display_data"
    }
   ],
   "source": [
    "idx = np.where(embedding_df[\"asin\"] == timeseries_asin[45])[0][0]\n",
    "idx"
   ]
  },
  {
   "cell_type": "code",
   "execution_count": 93,
   "id": "178d8157",
   "metadata": {},
   "outputs": [
    {
     "data": {
      "text/plain": [
       "productid                                              1068388\n",
       "embedding    [0.0177991, -0.0077902, -0.0126334, 0.00898823...\n",
       "asin                                                   1068388\n",
       "1                                                           62\n",
       "2                                                           13\n",
       "3                                                           17\n",
       "4                                                           48\n",
       "5                                                           95\n",
       "Name: 3126, dtype: object"
      ]
     },
     "execution_count": 93,
     "metadata": {},
     "output_type": "execute_result"
    },
    {
     "data": {
      "application/javascript": [
       "\n",
       "            setTimeout(function() {\n",
       "                var nbb_cell_id = 93;\n",
       "                var nbb_unformatted_code = \"embedding_df.iloc[3126, :]\";\n",
       "                var nbb_formatted_code = \"embedding_df.iloc[3126, :]\";\n",
       "                var nbb_cells = Jupyter.notebook.get_cells();\n",
       "                for (var i = 0; i < nbb_cells.length; ++i) {\n",
       "                    if (nbb_cells[i].input_prompt_number == nbb_cell_id) {\n",
       "                        if (nbb_cells[i].get_text() == nbb_unformatted_code) {\n",
       "                             nbb_cells[i].set_text(nbb_formatted_code);\n",
       "                        }\n",
       "                        break;\n",
       "                    }\n",
       "                }\n",
       "            }, 500);\n",
       "            "
      ],
      "text/plain": [
       "<IPython.core.display.Javascript object>"
      ]
     },
     "metadata": {},
     "output_type": "display_data"
    }
   ],
   "source": [
    "embedding_df.iloc[3126, :]"
   ]
  },
  {
   "cell_type": "code",
   "execution_count": 94,
   "id": "a941f701",
   "metadata": {},
   "outputs": [
    {
     "data": {
      "application/javascript": [
       "\n",
       "            setTimeout(function() {\n",
       "                var nbb_cell_id = 94;\n",
       "                var nbb_unformatted_code = \"sims = []\\nfor sim in simulator.simulations:\\n    sims.append(sim[45][-1] - sim[45][timeseries_half_len[45]])\";\n",
       "                var nbb_formatted_code = \"sims = []\\nfor sim in simulator.simulations:\\n    sims.append(sim[45][-1] - sim[45][timeseries_half_len[45]])\";\n",
       "                var nbb_cells = Jupyter.notebook.get_cells();\n",
       "                for (var i = 0; i < nbb_cells.length; ++i) {\n",
       "                    if (nbb_cells[i].input_prompt_number == nbb_cell_id) {\n",
       "                        if (nbb_cells[i].get_text() == nbb_unformatted_code) {\n",
       "                             nbb_cells[i].set_text(nbb_formatted_code);\n",
       "                        }\n",
       "                        break;\n",
       "                    }\n",
       "                }\n",
       "            }, 500);\n",
       "            "
      ],
      "text/plain": [
       "<IPython.core.display.Javascript object>"
      ]
     },
     "metadata": {},
     "output_type": "display_data"
    }
   ],
   "source": [
    "sims = []\n",
    "for sim in simulator.simulations:\n",
    "    sims.append(sim[45][-1] - sim[45][timeseries_half_len[45]])"
   ]
  },
  {
   "cell_type": "code",
   "execution_count": 95,
   "id": "0a4f2e2a",
   "metadata": {},
   "outputs": [
    {
     "data": {
      "application/javascript": [
       "\n",
       "            setTimeout(function() {\n",
       "                var nbb_cell_id = 95;\n",
       "                var nbb_unformatted_code = \"sims = np.array(sims)\\nsims /= np.sum(sims, axis=1)[:, None]\";\n",
       "                var nbb_formatted_code = \"sims = np.array(sims)\\nsims /= np.sum(sims, axis=1)[:, None]\";\n",
       "                var nbb_cells = Jupyter.notebook.get_cells();\n",
       "                for (var i = 0; i < nbb_cells.length; ++i) {\n",
       "                    if (nbb_cells[i].input_prompt_number == nbb_cell_id) {\n",
       "                        if (nbb_cells[i].get_text() == nbb_unformatted_code) {\n",
       "                             nbb_cells[i].set_text(nbb_formatted_code);\n",
       "                        }\n",
       "                        break;\n",
       "                    }\n",
       "                }\n",
       "            }, 500);\n",
       "            "
      ],
      "text/plain": [
       "<IPython.core.display.Javascript object>"
      ]
     },
     "metadata": {},
     "output_type": "display_data"
    }
   ],
   "source": [
    "sims = np.array(sims)\n",
    "sims /= np.sum(sims, axis=1)[:, None]"
   ]
  },
  {
   "cell_type": "code",
   "execution_count": 96,
   "id": "8cf66040",
   "metadata": {},
   "outputs": [
    {
     "data": {
      "text/plain": [
       "array([[0.23863636, 0.03409091, 0.02272727, 0.13636364, 0.56818182],\n",
       "       [0.24637681, 0.02898551, 0.08695652, 0.07246377, 0.56521739],\n",
       "       [0.17721519, 0.05063291, 0.10126582, 0.05063291, 0.62025316],\n",
       "       [0.31168831, 0.        , 0.09090909, 0.03896104, 0.55844156],\n",
       "       [0.28235294, 0.01176471, 0.11764706, 0.01176471, 0.57647059],\n",
       "       [0.22535211, 0.02816901, 0.11267606, 0.14084507, 0.49295775],\n",
       "       [0.23076923, 0.03296703, 0.07692308, 0.14285714, 0.51648352],\n",
       "       [0.18644068, 0.01694915, 0.11864407, 0.11864407, 0.55932203],\n",
       "       [0.1954023 , 0.04597701, 0.08045977, 0.10344828, 0.57471264],\n",
       "       [0.27272727, 0.03409091, 0.125     , 0.02272727, 0.54545455],\n",
       "       [0.17105263, 0.02631579, 0.05263158, 0.21052632, 0.53947368],\n",
       "       [0.22727273, 0.02272727, 0.05681818, 0.10227273, 0.59090909],\n",
       "       [0.22352941, 0.03529412, 0.09411765, 0.11764706, 0.52941176],\n",
       "       [0.16049383, 0.03703704, 0.13580247, 0.11111111, 0.55555556],\n",
       "       [0.20731707, 0.        , 0.13414634, 0.12195122, 0.53658537],\n",
       "       [0.20618557, 0.06185567, 0.12371134, 0.07216495, 0.53608247],\n",
       "       [0.16216216, 0.05405405, 0.04054054, 0.16216216, 0.58108108],\n",
       "       [0.21794872, 0.02564103, 0.06410256, 0.07692308, 0.61538462],\n",
       "       [0.22727273, 0.03409091, 0.10227273, 0.06818182, 0.56818182],\n",
       "       [0.1875    , 0.0625    , 0.1125    , 0.1       , 0.5375    ],\n",
       "       [0.1686747 , 0.06024096, 0.10843373, 0.09638554, 0.56626506],\n",
       "       [0.18478261, 0.0326087 , 0.11956522, 0.09782609, 0.56521739],\n",
       "       [0.20731707, 0.04878049, 0.07317073, 0.08536585, 0.58536585],\n",
       "       [0.24      , 0.04      , 0.13333333, 0.04      , 0.54666667],\n",
       "       [0.27272727, 0.01298701, 0.1038961 , 0.03896104, 0.57142857],\n",
       "       [0.17894737, 0.04210526, 0.11578947, 0.15789474, 0.50526316],\n",
       "       [0.17857143, 0.02380952, 0.0952381 , 0.13095238, 0.57142857],\n",
       "       [0.09638554, 0.07228916, 0.13253012, 0.15662651, 0.54216867],\n",
       "       [0.18055556, 0.02777778, 0.125     , 0.09722222, 0.56944444],\n",
       "       [0.13513514, 0.04054054, 0.13513514, 0.13513514, 0.55405405],\n",
       "       [0.1627907 , 0.03488372, 0.11627907, 0.11627907, 0.56976744],\n",
       "       [0.18823529, 0.03529412, 0.09411765, 0.12941176, 0.55294118]])"
      ]
     },
     "execution_count": 96,
     "metadata": {},
     "output_type": "execute_result"
    },
    {
     "data": {
      "application/javascript": [
       "\n",
       "            setTimeout(function() {\n",
       "                var nbb_cell_id = 96;\n",
       "                var nbb_unformatted_code = \"sims\";\n",
       "                var nbb_formatted_code = \"sims\";\n",
       "                var nbb_cells = Jupyter.notebook.get_cells();\n",
       "                for (var i = 0; i < nbb_cells.length; ++i) {\n",
       "                    if (nbb_cells[i].input_prompt_number == nbb_cell_id) {\n",
       "                        if (nbb_cells[i].get_text() == nbb_unformatted_code) {\n",
       "                             nbb_cells[i].set_text(nbb_formatted_code);\n",
       "                        }\n",
       "                        break;\n",
       "                    }\n",
       "                }\n",
       "            }, 500);\n",
       "            "
      ],
      "text/plain": [
       "<IPython.core.display.Javascript object>"
      ]
     },
     "metadata": {},
     "output_type": "display_data"
    }
   ],
   "source": [
    "sims"
   ]
  },
  {
   "cell_type": "code",
   "execution_count": 97,
   "id": "84046a24",
   "metadata": {},
   "outputs": [
    {
     "data": {
      "text/plain": [
       "([<matplotlib.axis.XTick at 0x7f45773f8400>,\n",
       "  <matplotlib.axis.XTick at 0x7f45773f8250>,\n",
       "  <matplotlib.axis.XTick at 0x7f457444e700>,\n",
       "  <matplotlib.axis.XTick at 0x7f43d82d9040>,\n",
       "  <matplotlib.axis.XTick at 0x7f43d82d9790>],\n",
       " [Text(0, 0, '1'),\n",
       "  Text(1, 0, '2'),\n",
       "  Text(2, 0, '3'),\n",
       "  Text(3, 0, '4'),\n",
       "  Text(4, 0, '5')])"
      ]
     },
     "execution_count": 97,
     "metadata": {},
     "output_type": "execute_result"
    },
    {
     "data": {
      "image/png": "[encoded data removed]",
      "text/plain": [
       "<Figure size 432x288 with 1 Axes>"
      ]
     },
     "metadata": {},
     "output_type": "display_data"
    },
    {
     "data": {
      "application/javascript": [
       "\n",
       "            setTimeout(function() {\n",
       "                var nbb_cell_id = 97;\n",
       "                var nbb_unformatted_code = \"plt.plot(sims.T)\\nreal_data = timeseries_data[45][-1] - timeseries_data[45][timeseries_half_len[45]]\\nplt.plot(real_data / np.sum(real_data), color=\\\"black\\\")\\nplt.xticks([0, 1, 2, 3, 4], labels=[\\\"1\\\", \\\"2\\\", \\\"3\\\", \\\"4\\\", \\\"5\\\"])\";\n",
       "                var nbb_formatted_code = \"plt.plot(sims.T)\\nreal_data = timeseries_data[45][-1] - timeseries_data[45][timeseries_half_len[45]]\\nplt.plot(real_data / np.sum(real_data), color=\\\"black\\\")\\nplt.xticks([0, 1, 2, 3, 4], labels=[\\\"1\\\", \\\"2\\\", \\\"3\\\", \\\"4\\\", \\\"5\\\"])\";\n",
       "                var nbb_cells = Jupyter.notebook.get_cells();\n",
       "                for (var i = 0; i < nbb_cells.length; ++i) {\n",
       "                    if (nbb_cells[i].input_prompt_number == nbb_cell_id) {\n",
       "                        if (nbb_cells[i].get_text() == nbb_unformatted_code) {\n",
       "                             nbb_cells[i].set_text(nbb_formatted_code);\n",
       "                        }\n",
       "                        break;\n",
       "                    }\n",
       "                }\n",
       "            }, 500);\n",
       "            "
      ],
      "text/plain": [
       "<IPython.core.display.Javascript object>"
      ]
     },
     "metadata": {},
     "output_type": "display_data"
    }
   ],
   "source": [
    "plt.plot(sims.T)\n",
    "real_data = timeseries_data[45][-1] - timeseries_data[45][timeseries_half_len[45]]\n",
    "plt.plot(real_data / np.sum(real_data), color=\"black\")\n",
    "plt.xticks([0, 1, 2, 3, 4], labels=[\"1\", \"2\", \"3\", \"4\", \"5\"])"
   ]
  },
  {
   "cell_type": "code",
   "execution_count": 98,
   "id": "c549ed87",
   "metadata": {},
   "outputs": [
    {
     "data": {
      "text/plain": [
       "4202"
      ]
     },
     "execution_count": 98,
     "metadata": {},
     "output_type": "execute_result"
    },
    {
     "data": {
      "application/javascript": [
       "\n",
       "            setTimeout(function() {\n",
       "                var nbb_cell_id = 98;\n",
       "                var nbb_unformatted_code = \"idx = np.where(embedding_df[\\\"asin\\\"] == timeseries_asin[1000])[0][0]\\nidx\";\n",
       "                var nbb_formatted_code = \"idx = np.where(embedding_df[\\\"asin\\\"] == timeseries_asin[1000])[0][0]\\nidx\";\n",
       "                var nbb_cells = Jupyter.notebook.get_cells();\n",
       "                for (var i = 0; i < nbb_cells.length; ++i) {\n",
       "                    if (nbb_cells[i].input_prompt_number == nbb_cell_id) {\n",
       "                        if (nbb_cells[i].get_text() == nbb_unformatted_code) {\n",
       "                             nbb_cells[i].set_text(nbb_formatted_code);\n",
       "                        }\n",
       "                        break;\n",
       "                    }\n",
       "                }\n",
       "            }, 500);\n",
       "            "
      ],
      "text/plain": [
       "<IPython.core.display.Javascript object>"
      ]
     },
     "metadata": {},
     "output_type": "display_data"
    }
   ],
   "source": [
    "idx = np.where(embedding_df[\"asin\"] == timeseries_asin[1000])[0][0]\n",
    "idx"
   ]
  },
  {
   "cell_type": "code",
   "execution_count": 99,
   "id": "779bc479",
   "metadata": {},
   "outputs": [
    {
     "data": {
      "text/plain": [
       "productid                                              6247836\n",
       "embedding    [0.00325097, -0.0225528, -0.000740233, -0.0006...\n",
       "asin                                                   6247836\n",
       "1                                                            3\n",
       "2                                                            2\n",
       "3                                                            2\n",
       "4                                                            6\n",
       "5                                                           19\n",
       "Name: 4202, dtype: object"
      ]
     },
     "execution_count": 99,
     "metadata": {},
     "output_type": "execute_result"
    },
    {
     "data": {
      "application/javascript": [
       "\n",
       "            setTimeout(function() {\n",
       "                var nbb_cell_id = 99;\n",
       "                var nbb_unformatted_code = \"embedding_df.iloc[4202, :]\";\n",
       "                var nbb_formatted_code = \"embedding_df.iloc[4202, :]\";\n",
       "                var nbb_cells = Jupyter.notebook.get_cells();\n",
       "                for (var i = 0; i < nbb_cells.length; ++i) {\n",
       "                    if (nbb_cells[i].input_prompt_number == nbb_cell_id) {\n",
       "                        if (nbb_cells[i].get_text() == nbb_unformatted_code) {\n",
       "                             nbb_cells[i].set_text(nbb_formatted_code);\n",
       "                        }\n",
       "                        break;\n",
       "                    }\n",
       "                }\n",
       "            }, 500);\n",
       "            "
      ],
      "text/plain": [
       "<IPython.core.display.Javascript object>"
      ]
     },
     "metadata": {},
     "output_type": "display_data"
    }
   ],
   "source": [
    "embedding_df.iloc[4202, :]"
   ]
  },
  {
   "cell_type": "code",
   "execution_count": 100,
   "id": "c1aa8fa2",
   "metadata": {},
   "outputs": [
    {
     "data": {
      "application/javascript": [
       "\n",
       "            setTimeout(function() {\n",
       "                var nbb_cell_id = 100;\n",
       "                var nbb_unformatted_code = \"sims = []\\nfor sim in simulator.simulations:\\n    sims.append(sim[1000][-1] - sim[1000][timeseries_half_len[1000]])\";\n",
       "                var nbb_formatted_code = \"sims = []\\nfor sim in simulator.simulations:\\n    sims.append(sim[1000][-1] - sim[1000][timeseries_half_len[1000]])\";\n",
       "                var nbb_cells = Jupyter.notebook.get_cells();\n",
       "                for (var i = 0; i < nbb_cells.length; ++i) {\n",
       "                    if (nbb_cells[i].input_prompt_number == nbb_cell_id) {\n",
       "                        if (nbb_cells[i].get_text() == nbb_unformatted_code) {\n",
       "                             nbb_cells[i].set_text(nbb_formatted_code);\n",
       "                        }\n",
       "                        break;\n",
       "                    }\n",
       "                }\n",
       "            }, 500);\n",
       "            "
      ],
      "text/plain": [
       "<IPython.core.display.Javascript object>"
      ]
     },
     "metadata": {},
     "output_type": "display_data"
    }
   ],
   "source": [
    "sims = []\n",
    "for sim in simulator.simulations:\n",
    "    sims.append(sim[1000][-1] - sim[1000][timeseries_half_len[1000]])"
   ]
  },
  {
   "cell_type": "code",
   "execution_count": 101,
   "id": "405e1ce1",
   "metadata": {},
   "outputs": [
    {
     "data": {
      "application/javascript": [
       "\n",
       "            setTimeout(function() {\n",
       "                var nbb_cell_id = 101;\n",
       "                var nbb_unformatted_code = \"sims = np.array(sims)\\nsims /= np.sum(sims, axis=1)[:, None]\";\n",
       "                var nbb_formatted_code = \"sims = np.array(sims)\\nsims /= np.sum(sims, axis=1)[:, None]\";\n",
       "                var nbb_cells = Jupyter.notebook.get_cells();\n",
       "                for (var i = 0; i < nbb_cells.length; ++i) {\n",
       "                    if (nbb_cells[i].input_prompt_number == nbb_cell_id) {\n",
       "                        if (nbb_cells[i].get_text() == nbb_unformatted_code) {\n",
       "                             nbb_cells[i].set_text(nbb_formatted_code);\n",
       "                        }\n",
       "                        break;\n",
       "                    }\n",
       "                }\n",
       "            }, 500);\n",
       "            "
      ],
      "text/plain": [
       "<IPython.core.display.Javascript object>"
      ]
     },
     "metadata": {},
     "output_type": "display_data"
    }
   ],
   "source": [
    "sims = np.array(sims)\n",
    "sims /= np.sum(sims, axis=1)[:, None]"
   ]
  },
  {
   "cell_type": "code",
   "execution_count": 102,
   "id": "212338dd",
   "metadata": {},
   "outputs": [
    {
     "data": {
      "text/plain": [
       "array([[0.125     , 0.0625    , 0.1875    , 0.25      , 0.375     ],\n",
       "       [0.05263158, 0.05263158, 0.26315789, 0.15789474, 0.47368421],\n",
       "       [0.28      , 0.        , 0.04      , 0.08      , 0.6       ],\n",
       "       [0.23529412, 0.        , 0.05882353, 0.11764706, 0.58823529],\n",
       "       [0.04545455, 0.13636364, 0.31818182, 0.09090909, 0.40909091],\n",
       "       [0.18181818, 0.09090909, 0.09090909, 0.09090909, 0.54545455],\n",
       "       [0.15789474, 0.05263158, 0.10526316, 0.05263158, 0.63157895],\n",
       "       [0.1       , 0.1       , 0.2       , 0.1       , 0.5       ],\n",
       "       [0.0625    , 0.1875    , 0.125     , 0.1875    , 0.4375    ],\n",
       "       [0.17647059, 0.05882353, 0.05882353, 0.11764706, 0.58823529],\n",
       "       [0.2       , 0.08      , 0.04      , 0.08      , 0.6       ],\n",
       "       [0.        , 0.        , 0.125     , 0.375     , 0.5       ],\n",
       "       [0.        , 0.        , 0.2       , 0.4       , 0.4       ],\n",
       "       [0.08333333, 0.        , 0.25      , 0.        , 0.66666667],\n",
       "       [0.06666667, 0.        , 0.33333333, 0.        , 0.6       ],\n",
       "       [0.2       , 0.        , 0.2       , 0.06666667, 0.53333333],\n",
       "       [0.15      , 0.05      , 0.2       , 0.1       , 0.5       ],\n",
       "       [0.15789474, 0.        , 0.15789474, 0.10526316, 0.57894737],\n",
       "       [0.05555556, 0.05555556, 0.05555556, 0.16666667, 0.66666667],\n",
       "       [0.13333333, 0.        , 0.2       , 0.26666667, 0.4       ],\n",
       "       [0.07142857, 0.07142857, 0.14285714, 0.28571429, 0.42857143],\n",
       "       [0.16666667, 0.11111111, 0.05555556, 0.11111111, 0.55555556],\n",
       "       [0.1       , 0.05      , 0.05      , 0.25      , 0.55      ],\n",
       "       [0.14285714, 0.        , 0.19047619, 0.23809524, 0.42857143],\n",
       "       [0.13333333, 0.        , 0.26666667, 0.        , 0.6       ],\n",
       "       [0.06666667, 0.13333333, 0.06666667, 0.2       , 0.53333333],\n",
       "       [0.07142857, 0.07142857, 0.21428571, 0.14285714, 0.5       ],\n",
       "       [0.05555556, 0.        , 0.16666667, 0.11111111, 0.66666667],\n",
       "       [0.16666667, 0.        , 0.16666667, 0.        , 0.66666667],\n",
       "       [0.0625    , 0.0625    , 0.1875    , 0.1875    , 0.5       ],\n",
       "       [0.05882353, 0.        , 0.35294118, 0.11764706, 0.47058824],\n",
       "       [0.05263158, 0.10526316, 0.26315789, 0.05263158, 0.52631579]])"
      ]
     },
     "execution_count": 102,
     "metadata": {},
     "output_type": "execute_result"
    },
    {
     "data": {
      "application/javascript": [
       "\n",
       "            setTimeout(function() {\n",
       "                var nbb_cell_id = 102;\n",
       "                var nbb_unformatted_code = \"sims\";\n",
       "                var nbb_formatted_code = \"sims\";\n",
       "                var nbb_cells = Jupyter.notebook.get_cells();\n",
       "                for (var i = 0; i < nbb_cells.length; ++i) {\n",
       "                    if (nbb_cells[i].input_prompt_number == nbb_cell_id) {\n",
       "                        if (nbb_cells[i].get_text() == nbb_unformatted_code) {\n",
       "                             nbb_cells[i].set_text(nbb_formatted_code);\n",
       "                        }\n",
       "                        break;\n",
       "                    }\n",
       "                }\n",
       "            }, 500);\n",
       "            "
      ],
      "text/plain": [
       "<IPython.core.display.Javascript object>"
      ]
     },
     "metadata": {},
     "output_type": "display_data"
    }
   ],
   "source": [
    "sims"
   ]
  },
  {
   "cell_type": "code",
   "execution_count": 103,
   "id": "3e35be58",
   "metadata": {},
   "outputs": [
    {
     "data": {
      "text/plain": [
       "[<matplotlib.lines.Line2D at 0x7f43d8261be0>]"
      ]
     },
     "execution_count": 103,
     "metadata": {},
     "output_type": "execute_result"
    },
    {
     "data": {
      "image/png": "[encoded data removed]",
      "text/plain": [
       "<Figure size 432x288 with 1 Axes>"
      ]
     },
     "metadata": {},
     "output_type": "display_data"
    },
    {
     "data": {
      "application/javascript": [
       "\n",
       "            setTimeout(function() {\n",
       "                var nbb_cell_id = 103;\n",
       "                var nbb_unformatted_code = \"plt.plot(sims.T)\\nreal_data = timeseries_data[1000][-1] - timeseries_data[1000][timeseries_half_len[1000]]\\nplt.plot(real_data / np.sum(real_data), color=\\\"black\\\")\";\n",
       "                var nbb_formatted_code = \"plt.plot(sims.T)\\nreal_data = timeseries_data[1000][-1] - timeseries_data[1000][timeseries_half_len[1000]]\\nplt.plot(real_data / np.sum(real_data), color=\\\"black\\\")\";\n",
       "                var nbb_cells = Jupyter.notebook.get_cells();\n",
       "                for (var i = 0; i < nbb_cells.length; ++i) {\n",
       "                    if (nbb_cells[i].input_prompt_number == nbb_cell_id) {\n",
       "                        if (nbb_cells[i].get_text() == nbb_unformatted_code) {\n",
       "                             nbb_cells[i].set_text(nbb_formatted_code);\n",
       "                        }\n",
       "                        break;\n",
       "                    }\n",
       "                }\n",
       "            }, 500);\n",
       "            "
      ],
      "text/plain": [
       "<IPython.core.display.Javascript object>"
      ]
     },
     "metadata": {},
     "output_type": "display_data"
    }
   ],
   "source": [
    "plt.plot(sims.T)\n",
    "real_data = timeseries_data[1000][-1] - timeseries_data[1000][timeseries_half_len[1000]]\n",
    "plt.plot(real_data / np.sum(real_data), color=\"black\")"
   ]
  },
  {
   "cell_type": "code",
   "execution_count": 104,
   "id": "3ddb065a",
   "metadata": {},
   "outputs": [
    {
     "data": {
      "text/plain": [
       "(4, 5)"
      ]
     },
     "execution_count": 104,
     "metadata": {},
     "output_type": "execute_result"
    },
    {
     "data": {
      "application/javascript": [
       "\n",
       "            setTimeout(function() {\n",
       "                var nbb_cell_id = 104;\n",
       "                var nbb_unformatted_code = \"timeseries_data[1].shape\";\n",
       "                var nbb_formatted_code = \"timeseries_data[1].shape\";\n",
       "                var nbb_cells = Jupyter.notebook.get_cells();\n",
       "                for (var i = 0; i < nbb_cells.length; ++i) {\n",
       "                    if (nbb_cells[i].input_prompt_number == nbb_cell_id) {\n",
       "                        if (nbb_cells[i].get_text() == nbb_unformatted_code) {\n",
       "                             nbb_cells[i].set_text(nbb_formatted_code);\n",
       "                        }\n",
       "                        break;\n",
       "                    }\n",
       "                }\n",
       "            }, 500);\n",
       "            "
      ],
      "text/plain": [
       "<IPython.core.display.Javascript object>"
      ]
     },
     "metadata": {},
     "output_type": "display_data"
    }
   ],
   "source": [
    "timeseries_data[1].shape"
   ]
  },
  {
   "cell_type": "code",
   "execution_count": 105,
   "id": "855ee5dc",
   "metadata": {},
   "outputs": [
    {
     "data": {
      "text/plain": [
       "(14, 5)"
      ]
     },
     "execution_count": 105,
     "metadata": {},
     "output_type": "execute_result"
    },
    {
     "data": {
      "application/javascript": [
       "\n",
       "            setTimeout(function() {\n",
       "                var nbb_cell_id = 105;\n",
       "                var nbb_unformatted_code = \"simulator.simulations[15][1].shape\";\n",
       "                var nbb_formatted_code = \"simulator.simulations[15][1].shape\";\n",
       "                var nbb_cells = Jupyter.notebook.get_cells();\n",
       "                for (var i = 0; i < nbb_cells.length; ++i) {\n",
       "                    if (nbb_cells[i].input_prompt_number == nbb_cell_id) {\n",
       "                        if (nbb_cells[i].get_text() == nbb_unformatted_code) {\n",
       "                             nbb_cells[i].set_text(nbb_formatted_code);\n",
       "                        }\n",
       "                        break;\n",
       "                    }\n",
       "                }\n",
       "            }, 500);\n",
       "            "
      ],
      "text/plain": [
       "<IPython.core.display.Javascript object>"
      ]
     },
     "metadata": {},
     "output_type": "display_data"
    }
   ],
   "source": [
    "simulator.simulations[15][1].shape"
   ]
  },
  {
   "cell_type": "code",
   "execution_count": 106,
   "id": "45b58013",
   "metadata": {},
   "outputs": [
    {
     "data": {
      "application/javascript": [
       "\n",
       "            setTimeout(function() {\n",
       "                var nbb_cell_id = 106;\n",
       "                var nbb_unformatted_code = \"# This checks the review-by-review accuracy for the first t reviews (after the existing/input reviews)\\n# for each product\\n# Accuracy is reported as the % of simulations that produced the exact same star rating\\naccuracy = []\\nfor i in range(timeseries_data.shape[0]):\\n    this_prod_accuracy = []\\n    for t in range(timeseries_half_len[i] + 1, timeseries_half_len[i] + 15, 1):\\n        correct = 0\\n        for j in range(len(simulator.simulations)):\\n            try:\\n                correct += int(\\n                    np.array_equal(\\n                        timeseries_data[i][t, :], simulator.simulations[j][i][t, :]\\n                    )\\n                )\\n            except:\\n                correct = np.nan\\n                continue\\n        this_prod_accuracy.append(correct / len(simulator.simulations))\\n    accuracy.append(this_prod_accuracy)\";\n",
       "                var nbb_formatted_code = \"# This checks the review-by-review accuracy for the first t reviews (after the existing/input reviews)\\n# for each product\\n# Accuracy is reported as the % of simulations that produced the exact same star rating\\naccuracy = []\\nfor i in range(timeseries_data.shape[0]):\\n    this_prod_accuracy = []\\n    for t in range(timeseries_half_len[i] + 1, timeseries_half_len[i] + 15, 1):\\n        correct = 0\\n        for j in range(len(simulator.simulations)):\\n            try:\\n                correct += int(\\n                    np.array_equal(\\n                        timeseries_data[i][t, :], simulator.simulations[j][i][t, :]\\n                    )\\n                )\\n            except:\\n                correct = np.nan\\n                continue\\n        this_prod_accuracy.append(correct / len(simulator.simulations))\\n    accuracy.append(this_prod_accuracy)\";\n",
       "                var nbb_cells = Jupyter.notebook.get_cells();\n",
       "                for (var i = 0; i < nbb_cells.length; ++i) {\n",
       "                    if (nbb_cells[i].input_prompt_number == nbb_cell_id) {\n",
       "                        if (nbb_cells[i].get_text() == nbb_unformatted_code) {\n",
       "                             nbb_cells[i].set_text(nbb_formatted_code);\n",
       "                        }\n",
       "                        break;\n",
       "                    }\n",
       "                }\n",
       "            }, 500);\n",
       "            "
      ],
      "text/plain": [
       "<IPython.core.display.Javascript object>"
      ]
     },
     "metadata": {},
     "output_type": "display_data"
    }
   ],
   "source": [
    "# This checks the review-by-review accuracy for the first t reviews (after the existing/input reviews)\n",
    "# for each product\n",
    "# Accuracy is reported as the % of simulations that produced the exact same star rating\n",
    "accuracy = []\n",
    "for i in range(timeseries_data.shape[0]):\n",
    "    this_prod_accuracy = []\n",
    "    for t in range(timeseries_half_len[i] + 1, timeseries_half_len[i] + 15, 1):\n",
    "        correct = 0\n",
    "        for j in range(len(simulator.simulations)):\n",
    "            try:\n",
    "                correct += int(\n",
    "                    np.array_equal(\n",
    "                        timeseries_data[i][t, :], simulator.simulations[j][i][t, :]\n",
    "                    )\n",
    "                )\n",
    "            except:\n",
    "                correct = np.nan\n",
    "                continue\n",
    "        this_prod_accuracy.append(correct / len(simulator.simulations))\n",
    "    accuracy.append(this_prod_accuracy)"
   ]
  },
  {
   "cell_type": "code",
   "execution_count": 113,
   "id": "91bc40a4",
   "metadata": {},
   "outputs": [
    {
     "data": {
      "application/javascript": [
       "\n",
       "            setTimeout(function() {\n",
       "                var nbb_cell_id = 113;\n",
       "                var nbb_unformatted_code = \"# This is a different measure of accuracy - we first take the predicted rating to be the most common rating\\n# produced by the simulations. Then we check if the real rating is the same as this most common rating\\n# We measure accuracy as the absolute difference between the real and predicted rating\\naccuracy = []\\nfor i in range(timeseries_data.shape[0]):\\n    this_prod_accuracy = []\\n    for t in range(timeseries_half_len[i] + 1, timeseries_half_len[i] + 25, 1):\\n        ratings = []\\n        for j in range(len(simulator.simulations)):\\n            try:\\n                rating = (\\n                    np.where(\\n                        simulator.simulations[j][i][t, :]\\n                        - simulator.simulations[j][i][t - 1, :]\\n                    )[0][0]\\n                    + 1\\n                )\\n            except:\\n                rating = np.nan\\n            ratings.append(rating)\\n        ratings = np.array(ratings)\\n\\n        try:\\n            pred_rating = np.argmax(np.bincount(ratings[~np.isnan(ratings)]))\\n            obs_rating = (\\n                np.where(timeseries_data[i][t, :] - timeseries_data[i][t - 1, :])[0][0]\\n                + 1\\n            )\\n        except:\\n            obs_rating = np.nan\\n            pred_rating = np.nan\\n        this_prod_accuracy.append(np.abs(pred_rating - obs_rating))\\n    accuracy.append(this_prod_accuracy)\";\n",
       "                var nbb_formatted_code = \"# This is a different measure of accuracy - we first take the predicted rating to be the most common rating\\n# produced by the simulations. Then we check if the real rating is the same as this most common rating\\n# We measure accuracy as the absolute difference between the real and predicted rating\\naccuracy = []\\nfor i in range(timeseries_data.shape[0]):\\n    this_prod_accuracy = []\\n    for t in range(timeseries_half_len[i] + 1, timeseries_half_len[i] + 25, 1):\\n        ratings = []\\n        for j in range(len(simulator.simulations)):\\n            try:\\n                rating = (\\n                    np.where(\\n                        simulator.simulations[j][i][t, :]\\n                        - simulator.simulations[j][i][t - 1, :]\\n                    )[0][0]\\n                    + 1\\n                )\\n            except:\\n                rating = np.nan\\n            ratings.append(rating)\\n        ratings = np.array(ratings)\\n\\n        try:\\n            pred_rating = np.argmax(np.bincount(ratings[~np.isnan(ratings)]))\\n            obs_rating = (\\n                np.where(timeseries_data[i][t, :] - timeseries_data[i][t - 1, :])[0][0]\\n                + 1\\n            )\\n        except:\\n            obs_rating = np.nan\\n            pred_rating = np.nan\\n        this_prod_accuracy.append(np.abs(pred_rating - obs_rating))\\n    accuracy.append(this_prod_accuracy)\";\n",
       "                var nbb_cells = Jupyter.notebook.get_cells();\n",
       "                for (var i = 0; i < nbb_cells.length; ++i) {\n",
       "                    if (nbb_cells[i].input_prompt_number == nbb_cell_id) {\n",
       "                        if (nbb_cells[i].get_text() == nbb_unformatted_code) {\n",
       "                             nbb_cells[i].set_text(nbb_formatted_code);\n",
       "                        }\n",
       "                        break;\n",
       "                    }\n",
       "                }\n",
       "            }, 500);\n",
       "            "
      ],
      "text/plain": [
       "<IPython.core.display.Javascript object>"
      ]
     },
     "metadata": {},
     "output_type": "display_data"
    }
   ],
   "source": [
    "# This is a different measure of accuracy - we first take the predicted rating to be the most common rating\n",
    "# produced by the simulations. Then we check if the real rating is the same as this most common rating\n",
    "# We measure accuracy as the absolute difference between the real and predicted rating\n",
    "accuracy = []\n",
    "for i in range(timeseries_data.shape[0]):\n",
    "    this_prod_accuracy = []\n",
    "    for t in range(timeseries_half_len[i] + 1, timeseries_half_len[i] + 25, 1):\n",
    "        ratings = []\n",
    "        for j in range(len(simulator.simulations)):\n",
    "            try:\n",
    "                rating = (\n",
    "                    np.where(\n",
    "                        simulator.simulations[j][i][t, :]\n",
    "                        - simulator.simulations[j][i][t - 1, :]\n",
    "                    )[0][0]\n",
    "                    + 1\n",
    "                )\n",
    "            except:\n",
    "                rating = np.nan\n",
    "            ratings.append(rating)\n",
    "        ratings = np.array(ratings)\n",
    "\n",
    "        try:\n",
    "            pred_rating = np.argmax(np.bincount(ratings[~np.isnan(ratings)]))\n",
    "            obs_rating = (\n",
    "                np.where(timeseries_data[i][t, :] - timeseries_data[i][t - 1, :])[0][0]\n",
    "                + 1\n",
    "            )\n",
    "        except:\n",
    "            obs_rating = np.nan\n",
    "            pred_rating = np.nan\n",
    "        this_prod_accuracy.append(np.abs(pred_rating - obs_rating))\n",
    "    accuracy.append(this_prod_accuracy)"
   ]
  },
  {
   "cell_type": "code",
   "execution_count": 122,
   "id": "61e47aec",
   "metadata": {},
   "outputs": [
    {
     "name": "stderr",
     "output_type": "stream",
     "text": [
      "/tmp/ipykernel_331/4006397458.py:29: RuntimeWarning: Mean of empty slice\n",
      "  diff = np.nanmean(np.abs(ratings - obs_rating))\n"
     ]
    },
    {
     "data": {
      "application/javascript": [
       "\n",
       "            setTimeout(function() {\n",
       "                var nbb_cell_id = 122;\n",
       "                var nbb_unformatted_code = \"# This is a different measure of accuracy\\n# We measure accuracy as the absolute difference between the real and predicted rating\\n# We average this absolute difference across multiple simulations, instead of taking the most common predicted\\n# rating first\\naccuracy = []\\nfor i in range(timeseries_data.shape[0]):\\n    this_prod_accuracy = []\\n    for t in range(timeseries_half_len[i] + 1, timeseries_half_len[i] + 50, 1):\\n        ratings = []\\n        for j in range(len(simulator.simulations)):\\n            try:\\n                rating = (\\n                    np.where(\\n                        simulator.simulations[j][i][t, :]\\n                        - simulator.simulations[j][i][t - 1, :]\\n                    )[0][0]\\n                    + 1\\n                )\\n            except:\\n                rating = np.nan\\n            ratings.append(rating)\\n        ratings = np.array(ratings)\\n\\n        try:\\n            obs_rating = (\\n                np.where(timeseries_data[i][t, :] - timeseries_data[i][t - 1, :])[0][0]\\n                + 1\\n            )\\n            diff = np.nanmean(np.abs(ratings - obs_rating))\\n        except:\\n            diff = np.nan\\n        this_prod_accuracy.append(diff)\\n    accuracy.append(this_prod_accuracy)\";\n",
       "                var nbb_formatted_code = \"# This is a different measure of accuracy\\n# We measure accuracy as the absolute difference between the real and predicted rating\\n# We average this absolute difference across multiple simulations, instead of taking the most common predicted\\n# rating first\\naccuracy = []\\nfor i in range(timeseries_data.shape[0]):\\n    this_prod_accuracy = []\\n    for t in range(timeseries_half_len[i] + 1, timeseries_half_len[i] + 50, 1):\\n        ratings = []\\n        for j in range(len(simulator.simulations)):\\n            try:\\n                rating = (\\n                    np.where(\\n                        simulator.simulations[j][i][t, :]\\n                        - simulator.simulations[j][i][t - 1, :]\\n                    )[0][0]\\n                    + 1\\n                )\\n            except:\\n                rating = np.nan\\n            ratings.append(rating)\\n        ratings = np.array(ratings)\\n\\n        try:\\n            obs_rating = (\\n                np.where(timeseries_data[i][t, :] - timeseries_data[i][t - 1, :])[0][0]\\n                + 1\\n            )\\n            diff = np.nanmean(np.abs(ratings - obs_rating))\\n        except:\\n            diff = np.nan\\n        this_prod_accuracy.append(diff)\\n    accuracy.append(this_prod_accuracy)\";\n",
       "                var nbb_cells = Jupyter.notebook.get_cells();\n",
       "                for (var i = 0; i < nbb_cells.length; ++i) {\n",
       "                    if (nbb_cells[i].input_prompt_number == nbb_cell_id) {\n",
       "                        if (nbb_cells[i].get_text() == nbb_unformatted_code) {\n",
       "                             nbb_cells[i].set_text(nbb_formatted_code);\n",
       "                        }\n",
       "                        break;\n",
       "                    }\n",
       "                }\n",
       "            }, 500);\n",
       "            "
      ],
      "text/plain": [
       "<IPython.core.display.Javascript object>"
      ]
     },
     "metadata": {},
     "output_type": "display_data"
    }
   ],
   "source": [
    "# This is a different measure of accuracy\n",
    "# We measure accuracy as the absolute difference between the real and predicted rating\n",
    "# We average this absolute difference across multiple simulations, instead of taking the most common predicted\n",
    "# rating first\n",
    "accuracy = []\n",
    "for i in range(timeseries_data.shape[0]):\n",
    "    this_prod_accuracy = []\n",
    "    for t in range(timeseries_half_len[i] + 1, timeseries_half_len[i] + 50, 1):\n",
    "        ratings = []\n",
    "        for j in range(len(simulator.simulations)):\n",
    "            try:\n",
    "                rating = (\n",
    "                    np.where(\n",
    "                        simulator.simulations[j][i][t, :]\n",
    "                        - simulator.simulations[j][i][t - 1, :]\n",
    "                    )[0][0]\n",
    "                    + 1\n",
    "                )\n",
    "            except:\n",
    "                rating = np.nan\n",
    "            ratings.append(rating)\n",
    "        ratings = np.array(ratings)\n",
    "\n",
    "        try:\n",
    "            obs_rating = (\n",
    "                np.where(timeseries_data[i][t, :] - timeseries_data[i][t - 1, :])[0][0]\n",
    "                + 1\n",
    "            )\n",
    "            diff = np.nanmean(np.abs(ratings - obs_rating))\n",
    "        except:\n",
    "            diff = np.nan\n",
    "        this_prod_accuracy.append(diff)\n",
    "    accuracy.append(this_prod_accuracy)"
   ]
  },
  {
   "cell_type": "code",
   "execution_count": 119,
   "id": "50c0f6f2",
   "metadata": {},
   "outputs": [
    {
     "data": {
      "application/javascript": [
       "\n",
       "            setTimeout(function() {\n",
       "                var nbb_cell_id = 119;\n",
       "                var nbb_unformatted_code = \"# Another different measure of accuracy - here we take the most common rating as the predicted rating as before\\n# But just calculate the accuracy, across products - i.e, for how many products is this predicted rating the same\\n# as the observed rating\\naccuracy = []\\nfor i in range(timeseries_data.shape[0]):\\n    this_prod_accuracy = []\\n    for t in range(timeseries_half_len[i] + 1, timeseries_half_len[i] + 20, 1):\\n        ratings = []\\n        for j in range(len(simulator.simulations)):\\n            try:\\n                rating = (\\n                    np.where(\\n                        simulator.simulations[j][i][t, :]\\n                        - simulator.simulations[j][i][t - 1, :]\\n                    )[0][0]\\n                    + 1\\n                )\\n            except:\\n                rating = np.nan\\n            ratings.append(rating)\\n        ratings = np.array(ratings)\\n\\n        try:\\n            pred_rating = np.argmax(np.bincount(ratings[~np.isnan(ratings)]))\\n            obs_rating = (\\n                np.where(timeseries_data[i][t, :] - timeseries_data[i][t - 1, :])[0][0]\\n                + 1\\n            )\\n            this_prod_accuracy.append(pred_rating == obs_rating)\\n        except:\\n            obs_rating = np.nan\\n            pred_rating = np.nan\\n            this_prod_accuracy.append(np.nan)\\n    accuracy.append(this_prod_accuracy)\";\n",
       "                var nbb_formatted_code = \"# Another different measure of accuracy - here we take the most common rating as the predicted rating as before\\n# But just calculate the accuracy, across products - i.e, for how many products is this predicted rating the same\\n# as the observed rating\\naccuracy = []\\nfor i in range(timeseries_data.shape[0]):\\n    this_prod_accuracy = []\\n    for t in range(timeseries_half_len[i] + 1, timeseries_half_len[i] + 20, 1):\\n        ratings = []\\n        for j in range(len(simulator.simulations)):\\n            try:\\n                rating = (\\n                    np.where(\\n                        simulator.simulations[j][i][t, :]\\n                        - simulator.simulations[j][i][t - 1, :]\\n                    )[0][0]\\n                    + 1\\n                )\\n            except:\\n                rating = np.nan\\n            ratings.append(rating)\\n        ratings = np.array(ratings)\\n\\n        try:\\n            pred_rating = np.argmax(np.bincount(ratings[~np.isnan(ratings)]))\\n            obs_rating = (\\n                np.where(timeseries_data[i][t, :] - timeseries_data[i][t - 1, :])[0][0]\\n                + 1\\n            )\\n            this_prod_accuracy.append(pred_rating == obs_rating)\\n        except:\\n            obs_rating = np.nan\\n            pred_rating = np.nan\\n            this_prod_accuracy.append(np.nan)\\n    accuracy.append(this_prod_accuracy)\";\n",
       "                var nbb_cells = Jupyter.notebook.get_cells();\n",
       "                for (var i = 0; i < nbb_cells.length; ++i) {\n",
       "                    if (nbb_cells[i].input_prompt_number == nbb_cell_id) {\n",
       "                        if (nbb_cells[i].get_text() == nbb_unformatted_code) {\n",
       "                             nbb_cells[i].set_text(nbb_formatted_code);\n",
       "                        }\n",
       "                        break;\n",
       "                    }\n",
       "                }\n",
       "            }, 500);\n",
       "            "
      ],
      "text/plain": [
       "<IPython.core.display.Javascript object>"
      ]
     },
     "metadata": {},
     "output_type": "display_data"
    }
   ],
   "source": [
    "# Another different measure of accuracy - here we take the most common rating as the predicted rating as before\n",
    "# But just calculate the accuracy, across products - i.e, for how many products is this predicted rating the same\n",
    "# as the observed rating\n",
    "accuracy = []\n",
    "for i in range(timeseries_data.shape[0]):\n",
    "    this_prod_accuracy = []\n",
    "    for t in range(timeseries_half_len[i] + 1, timeseries_half_len[i] + 20, 1):\n",
    "        ratings = []\n",
    "        for j in range(len(simulator.simulations)):\n",
    "            try:\n",
    "                rating = (\n",
    "                    np.where(\n",
    "                        simulator.simulations[j][i][t, :]\n",
    "                        - simulator.simulations[j][i][t - 1, :]\n",
    "                    )[0][0]\n",
    "                    + 1\n",
    "                )\n",
    "            except:\n",
    "                rating = np.nan\n",
    "            ratings.append(rating)\n",
    "        ratings = np.array(ratings)\n",
    "\n",
    "        try:\n",
    "            pred_rating = np.argmax(np.bincount(ratings[~np.isnan(ratings)]))\n",
    "            obs_rating = (\n",
    "                np.where(timeseries_data[i][t, :] - timeseries_data[i][t - 1, :])[0][0]\n",
    "                + 1\n",
    "            )\n",
    "            this_prod_accuracy.append(pred_rating == obs_rating)\n",
    "        except:\n",
    "            obs_rating = np.nan\n",
    "            pred_rating = np.nan\n",
    "            this_prod_accuracy.append(np.nan)\n",
    "    accuracy.append(this_prod_accuracy)"
   ]
  },
  {
   "cell_type": "code",
   "execution_count": 123,
   "id": "35618760",
   "metadata": {},
   "outputs": [
    {
     "data": {
      "text/plain": [
       "array([[1.1875 , 1.1875 , 0.96875, ..., 2.     , 2.5    , 1.9375 ],\n",
       "       [1.25   ,     nan,     nan, ...,     nan,     nan,     nan],\n",
       "       [1.21875, 1.25   , 0.65625, ..., 0.625  , 3.21875, 0.9375 ],\n",
       "       ...,\n",
       "       [2.21875, 2.53125, 1.875  , ..., 1.34375, 1.46875, 1.40625],\n",
       "       [0.96875, 1.125  , 1.09375, ..., 0.9375 , 3.     , 0.75   ],\n",
       "       [1.0625 , 0.90625, 0.5625 , ..., 0.71875, 0.96875, 3.25   ]])"
      ]
     },
     "execution_count": 123,
     "metadata": {},
     "output_type": "execute_result"
    },
    {
     "data": {
      "application/javascript": [
       "\n",
       "            setTimeout(function() {\n",
       "                var nbb_cell_id = 123;\n",
       "                var nbb_unformatted_code = \"accuracy = np.array(accuracy)\\naccuracy\";\n",
       "                var nbb_formatted_code = \"accuracy = np.array(accuracy)\\naccuracy\";\n",
       "                var nbb_cells = Jupyter.notebook.get_cells();\n",
       "                for (var i = 0; i < nbb_cells.length; ++i) {\n",
       "                    if (nbb_cells[i].input_prompt_number == nbb_cell_id) {\n",
       "                        if (nbb_cells[i].get_text() == nbb_unformatted_code) {\n",
       "                             nbb_cells[i].set_text(nbb_formatted_code);\n",
       "                        }\n",
       "                        break;\n",
       "                    }\n",
       "                }\n",
       "            }, 500);\n",
       "            "
      ],
      "text/plain": [
       "<IPython.core.display.Javascript object>"
      ]
     },
     "metadata": {},
     "output_type": "display_data"
    }
   ],
   "source": [
    "accuracy = np.array(accuracy)\n",
    "accuracy"
   ]
  },
  {
   "cell_type": "code",
   "execution_count": 124,
   "id": "6cc7fa03",
   "metadata": {},
   "outputs": [
    {
     "data": {
      "text/plain": [
       "<ErrorbarContainer object of 3 artists>"
      ]
     },
     "execution_count": 124,
     "metadata": {},
     "output_type": "execute_result"
    },
    {
     "data": {
      "image/png": "[encoded data removed]",
      "text/plain": [
       "<Figure size 432x288 with 1 Axes>"
      ]
     },
     "metadata": {},
     "output_type": "display_data"
    },
    {
     "data": {
      "application/javascript": [
       "\n",
       "            setTimeout(function() {\n",
       "                var nbb_cell_id = 124;\n",
       "                var nbb_unformatted_code = \"plt.errorbar(\\n    np.arange(49) + 1, np.nanmean(accuracy, axis=0), np.nanstd(accuracy, axis=0)\\n)\";\n",
       "                var nbb_formatted_code = \"plt.errorbar(\\n    np.arange(49) + 1, np.nanmean(accuracy, axis=0), np.nanstd(accuracy, axis=0)\\n)\";\n",
       "                var nbb_cells = Jupyter.notebook.get_cells();\n",
       "                for (var i = 0; i < nbb_cells.length; ++i) {\n",
       "                    if (nbb_cells[i].input_prompt_number == nbb_cell_id) {\n",
       "                        if (nbb_cells[i].get_text() == nbb_unformatted_code) {\n",
       "                             nbb_cells[i].set_text(nbb_formatted_code);\n",
       "                        }\n",
       "                        break;\n",
       "                    }\n",
       "                }\n",
       "            }, 500);\n",
       "            "
      ],
      "text/plain": [
       "<IPython.core.display.Javascript object>"
      ]
     },
     "metadata": {},
     "output_type": "display_data"
    }
   ],
   "source": [
    "plt.errorbar(\n",
    "    np.arange(49) + 1, np.nanmean(accuracy, axis=0), np.nanstd(accuracy, axis=0)\n",
    ")"
   ]
  },
  {
   "cell_type": "code",
   "execution_count": 125,
   "id": "785d11d4",
   "metadata": {},
   "outputs": [
    {
     "data": {
      "text/plain": [
       "(1406, 49)"
      ]
     },
     "execution_count": 125,
     "metadata": {},
     "output_type": "execute_result"
    },
    {
     "data": {
      "application/javascript": [
       "\n",
       "            setTimeout(function() {\n",
       "                var nbb_cell_id = 125;\n",
       "                var nbb_unformatted_code = \"accuracy.shape\";\n",
       "                var nbb_formatted_code = \"accuracy.shape\";\n",
       "                var nbb_cells = Jupyter.notebook.get_cells();\n",
       "                for (var i = 0; i < nbb_cells.length; ++i) {\n",
       "                    if (nbb_cells[i].input_prompt_number == nbb_cell_id) {\n",
       "                        if (nbb_cells[i].get_text() == nbb_unformatted_code) {\n",
       "                             nbb_cells[i].set_text(nbb_formatted_code);\n",
       "                        }\n",
       "                        break;\n",
       "                    }\n",
       "                }\n",
       "            }, 500);\n",
       "            "
      ],
      "text/plain": [
       "<IPython.core.display.Javascript object>"
      ]
     },
     "metadata": {},
     "output_type": "display_data"
    }
   ],
   "source": [
    "accuracy.shape"
   ]
  },
  {
   "cell_type": "code",
   "execution_count": 126,
   "id": "9d94647f",
   "metadata": {},
   "outputs": [
    {
     "data": {
      "text/plain": [
       "[<matplotlib.lines.Line2D at 0x7f43803705e0>]"
      ]
     },
     "execution_count": 126,
     "metadata": {},
     "output_type": "execute_result"
    },
    {
     "data": {
      "image/png": "[encoded data removed]",
      "text/plain": [
       "<Figure size 432x288 with 1 Axes>"
      ]
     },
     "metadata": {},
     "output_type": "display_data"
    },
    {
     "data": {
      "application/javascript": [
       "\n",
       "            setTimeout(function() {\n",
       "                var nbb_cell_id = 126;\n",
       "                var nbb_unformatted_code = \"plt.plot(accuracy[1000, :])\";\n",
       "                var nbb_formatted_code = \"plt.plot(accuracy[1000, :])\";\n",
       "                var nbb_cells = Jupyter.notebook.get_cells();\n",
       "                for (var i = 0; i < nbb_cells.length; ++i) {\n",
       "                    if (nbb_cells[i].input_prompt_number == nbb_cell_id) {\n",
       "                        if (nbb_cells[i].get_text() == nbb_unformatted_code) {\n",
       "                             nbb_cells[i].set_text(nbb_formatted_code);\n",
       "                        }\n",
       "                        break;\n",
       "                    }\n",
       "                }\n",
       "            }, 500);\n",
       "            "
      ],
      "text/plain": [
       "<IPython.core.display.Javascript object>"
      ]
     },
     "metadata": {},
     "output_type": "display_data"
    }
   ],
   "source": [
    "plt.plot(accuracy[1000, :])"
   ]
  },
  {
   "cell_type": "code",
   "execution_count": 127,
   "id": "b639b1dc",
   "metadata": {},
   "outputs": [
    {
     "data": {
      "text/plain": [
       "array([1.03125   , 0.8125    , 1.4375    , 1.21875   , 1.25      ,\n",
       "       1.6875    , 1.5       , 2.125     , 0.93548387, 2.80645161,\n",
       "       0.76666667, 1.26666667, 0.78571429, 1.85714286, 1.15384615,\n",
       "       1.28571429,        nan,        nan,        nan,        nan,\n",
       "              nan,        nan,        nan,        nan,        nan,\n",
       "              nan,        nan,        nan,        nan,        nan,\n",
       "              nan,        nan,        nan,        nan,        nan,\n",
       "              nan,        nan,        nan,        nan,        nan,\n",
       "              nan,        nan,        nan,        nan,        nan,\n",
       "              nan,        nan,        nan,        nan])"
      ]
     },
     "execution_count": 127,
     "metadata": {},
     "output_type": "execute_result"
    },
    {
     "data": {
      "application/javascript": [
       "\n",
       "            setTimeout(function() {\n",
       "                var nbb_cell_id = 127;\n",
       "                var nbb_unformatted_code = \"accuracy[1000, :]\";\n",
       "                var nbb_formatted_code = \"accuracy[1000, :]\";\n",
       "                var nbb_cells = Jupyter.notebook.get_cells();\n",
       "                for (var i = 0; i < nbb_cells.length; ++i) {\n",
       "                    if (nbb_cells[i].input_prompt_number == nbb_cell_id) {\n",
       "                        if (nbb_cells[i].get_text() == nbb_unformatted_code) {\n",
       "                             nbb_cells[i].set_text(nbb_formatted_code);\n",
       "                        }\n",
       "                        break;\n",
       "                    }\n",
       "                }\n",
       "            }, 500);\n",
       "            "
      ],
      "text/plain": [
       "<IPython.core.display.Javascript object>"
      ]
     },
     "metadata": {},
     "output_type": "display_data"
    }
   ],
   "source": [
    "accuracy[1000, :]"
   ]
  },
  {
   "cell_type": "markdown",
   "id": "2990d325",
   "metadata": {},
   "source": [
    "**We can also calculate a (moving) average rating of the simulated reviews and compare to the actual**"
   ]
  },
  {
   "cell_type": "code",
   "execution_count": 128,
   "id": "0734d3be",
   "metadata": {},
   "outputs": [
    {
     "data": {
      "application/javascript": [
       "\n",
       "            setTimeout(function() {\n",
       "                var nbb_cell_id = 128;\n",
       "                var nbb_unformatted_code = \"real_avg_rating = []\\nsim_avg_rating = []\\nfor product in range(timeseries_data.shape[0]):\\n    real_rating = (\\n        timeseries_data[product][timeseries_half_len[product] :]\\n        - timeseries_data[product][timeseries_half_len[product] - 1][None, :]\\n    )\\n    real_avg_rating.append(\\n        np.sum(\\n            (real_rating / np.sum(real_rating, axis=1)[:, None]) * np.arange(1, 6),\\n            axis=1,\\n        )\\n    )\\n    this_prod_avg_rating = []\\n    for sim in range(simulator.simulations.shape[0]):\\n        sim_rating = (\\n            simulator.simulations[sim, product][\\n                timeseries_half_len[product] : timeseries_data[product].shape[0]\\n            ]\\n            - simulator.simulations[sim, product][timeseries_half_len[product] - 1][\\n                None, :\\n            ]\\n        )\\n        this_prod_avg_rating.append(\\n            np.sum(\\n                (sim_rating / np.sum(sim_rating, axis=1)[:, None]) * np.arange(1, 6),\\n                axis=1,\\n            )\\n        )\\n    sim_avg_rating.append(this_prod_avg_rating)\";\n",
       "                var nbb_formatted_code = \"real_avg_rating = []\\nsim_avg_rating = []\\nfor product in range(timeseries_data.shape[0]):\\n    real_rating = (\\n        timeseries_data[product][timeseries_half_len[product] :]\\n        - timeseries_data[product][timeseries_half_len[product] - 1][None, :]\\n    )\\n    real_avg_rating.append(\\n        np.sum(\\n            (real_rating / np.sum(real_rating, axis=1)[:, None]) * np.arange(1, 6),\\n            axis=1,\\n        )\\n    )\\n    this_prod_avg_rating = []\\n    for sim in range(simulator.simulations.shape[0]):\\n        sim_rating = (\\n            simulator.simulations[sim, product][\\n                timeseries_half_len[product] : timeseries_data[product].shape[0]\\n            ]\\n            - simulator.simulations[sim, product][timeseries_half_len[product] - 1][\\n                None, :\\n            ]\\n        )\\n        this_prod_avg_rating.append(\\n            np.sum(\\n                (sim_rating / np.sum(sim_rating, axis=1)[:, None]) * np.arange(1, 6),\\n                axis=1,\\n            )\\n        )\\n    sim_avg_rating.append(this_prod_avg_rating)\";\n",
       "                var nbb_cells = Jupyter.notebook.get_cells();\n",
       "                for (var i = 0; i < nbb_cells.length; ++i) {\n",
       "                    if (nbb_cells[i].input_prompt_number == nbb_cell_id) {\n",
       "                        if (nbb_cells[i].get_text() == nbb_unformatted_code) {\n",
       "                             nbb_cells[i].set_text(nbb_formatted_code);\n",
       "                        }\n",
       "                        break;\n",
       "                    }\n",
       "                }\n",
       "            }, 500);\n",
       "            "
      ],
      "text/plain": [
       "<IPython.core.display.Javascript object>"
      ]
     },
     "metadata": {},
     "output_type": "display_data"
    }
   ],
   "source": [
    "real_avg_rating = []\n",
    "sim_avg_rating = []\n",
    "for product in range(timeseries_data.shape[0]):\n",
    "    real_rating = (\n",
    "        timeseries_data[product][timeseries_half_len[product] :]\n",
    "        - timeseries_data[product][timeseries_half_len[product] - 1][None, :]\n",
    "    )\n",
    "    real_avg_rating.append(\n",
    "        np.sum(\n",
    "            (real_rating / np.sum(real_rating, axis=1)[:, None]) * np.arange(1, 6),\n",
    "            axis=1,\n",
    "        )\n",
    "    )\n",
    "    this_prod_avg_rating = []\n",
    "    for sim in range(simulator.simulations.shape[0]):\n",
    "        sim_rating = (\n",
    "            simulator.simulations[sim, product][\n",
    "                timeseries_half_len[product] : timeseries_data[product].shape[0]\n",
    "            ]\n",
    "            - simulator.simulations[sim, product][timeseries_half_len[product] - 1][\n",
    "                None, :\n",
    "            ]\n",
    "        )\n",
    "        this_prod_avg_rating.append(\n",
    "            np.sum(\n",
    "                (sim_rating / np.sum(sim_rating, axis=1)[:, None]) * np.arange(1, 6),\n",
    "                axis=1,\n",
    "            )\n",
    "        )\n",
    "    sim_avg_rating.append(this_prod_avg_rating)"
   ]
  },
  {
   "cell_type": "code",
   "execution_count": 129,
   "id": "ce4d1a5c",
   "metadata": {},
   "outputs": [
    {
     "name": "stderr",
     "output_type": "stream",
     "text": [
      "/tmp/ipykernel_331/3557943907.py:1: VisibleDeprecationWarning: Creating an ndarray from ragged nested sequences (which is a list-or-tuple of lists-or-tuples-or ndarrays with different lengths or shapes) is deprecated. If you meant to do this, you must specify 'dtype=object' when creating the ndarray.\n",
      "  real_avg_rating = np.array(real_avg_rating)\n",
      "/tmp/ipykernel_331/3557943907.py:2: VisibleDeprecationWarning: Creating an ndarray from ragged nested sequences (which is a list-or-tuple of lists-or-tuples-or ndarrays with different lengths or shapes) is deprecated. If you meant to do this, you must specify 'dtype=object' when creating the ndarray.\n",
      "  sim_avg_rating = np.array(sim_avg_rating)\n"
     ]
    },
    {
     "data": {
      "text/plain": [
       "((1406,), (1406, 32))"
      ]
     },
     "execution_count": 129,
     "metadata": {},
     "output_type": "execute_result"
    },
    {
     "data": {
      "application/javascript": [
       "\n",
       "            setTimeout(function() {\n",
       "                var nbb_cell_id = 129;\n",
       "                var nbb_unformatted_code = \"real_avg_rating = np.array(real_avg_rating)\\nsim_avg_rating = np.array(sim_avg_rating)\\nreal_avg_rating.shape, sim_avg_rating.shape\";\n",
       "                var nbb_formatted_code = \"real_avg_rating = np.array(real_avg_rating)\\nsim_avg_rating = np.array(sim_avg_rating)\\nreal_avg_rating.shape, sim_avg_rating.shape\";\n",
       "                var nbb_cells = Jupyter.notebook.get_cells();\n",
       "                for (var i = 0; i < nbb_cells.length; ++i) {\n",
       "                    if (nbb_cells[i].input_prompt_number == nbb_cell_id) {\n",
       "                        if (nbb_cells[i].get_text() == nbb_unformatted_code) {\n",
       "                             nbb_cells[i].set_text(nbb_formatted_code);\n",
       "                        }\n",
       "                        break;\n",
       "                    }\n",
       "                }\n",
       "            }, 500);\n",
       "            "
      ],
      "text/plain": [
       "<IPython.core.display.Javascript object>"
      ]
     },
     "metadata": {},
     "output_type": "display_data"
    }
   ],
   "source": [
    "real_avg_rating = np.array(real_avg_rating)\n",
    "sim_avg_rating = np.array(sim_avg_rating)\n",
    "real_avg_rating.shape, sim_avg_rating.shape"
   ]
  },
  {
   "cell_type": "code",
   "execution_count": 130,
   "id": "bece9c49",
   "metadata": {},
   "outputs": [
    {
     "data": {
      "application/javascript": [
       "\n",
       "            setTimeout(function() {\n",
       "                var nbb_cell_id = 130;\n",
       "                var nbb_unformatted_code = \"# As the simulations run independently, it could be possible that some of the simulations do not accumulate\\n# the same number of reviews as the real product. So we cut both the real and simulated time series to the\\n# smallest length where they both have data\\nfor i in range(real_avg_rating.shape[0]):\\n    min_sim_len = np.min([len(sim) for sim in sim_avg_rating[i, :]])\\n    real_len = len(real_avg_rating[i])\\n    cut_len = min(min_sim_len, real_len)\\n    real_avg_rating[i] = real_avg_rating[i][:cut_len]\\n    for j in range(sim_avg_rating.shape[1]):\\n        sim_avg_rating[i, j] = sim_avg_rating[i, j][:cut_len]\";\n",
       "                var nbb_formatted_code = \"# As the simulations run independently, it could be possible that some of the simulations do not accumulate\\n# the same number of reviews as the real product. So we cut both the real and simulated time series to the\\n# smallest length where they both have data\\nfor i in range(real_avg_rating.shape[0]):\\n    min_sim_len = np.min([len(sim) for sim in sim_avg_rating[i, :]])\\n    real_len = len(real_avg_rating[i])\\n    cut_len = min(min_sim_len, real_len)\\n    real_avg_rating[i] = real_avg_rating[i][:cut_len]\\n    for j in range(sim_avg_rating.shape[1]):\\n        sim_avg_rating[i, j] = sim_avg_rating[i, j][:cut_len]\";\n",
       "                var nbb_cells = Jupyter.notebook.get_cells();\n",
       "                for (var i = 0; i < nbb_cells.length; ++i) {\n",
       "                    if (nbb_cells[i].input_prompt_number == nbb_cell_id) {\n",
       "                        if (nbb_cells[i].get_text() == nbb_unformatted_code) {\n",
       "                             nbb_cells[i].set_text(nbb_formatted_code);\n",
       "                        }\n",
       "                        break;\n",
       "                    }\n",
       "                }\n",
       "            }, 500);\n",
       "            "
      ],
      "text/plain": [
       "<IPython.core.display.Javascript object>"
      ]
     },
     "metadata": {},
     "output_type": "display_data"
    }
   ],
   "source": [
    "# As the simulations run independently, it could be possible that some of the simulations do not accumulate\n",
    "# the same number of reviews as the real product. So we cut both the real and simulated time series to the\n",
    "# smallest length where they both have data\n",
    "for i in range(real_avg_rating.shape[0]):\n",
    "    min_sim_len = np.min([len(sim) for sim in sim_avg_rating[i, :]])\n",
    "    real_len = len(real_avg_rating[i])\n",
    "    cut_len = min(min_sim_len, real_len)\n",
    "    real_avg_rating[i] = real_avg_rating[i][:cut_len]\n",
    "    for j in range(sim_avg_rating.shape[1]):\n",
    "        sim_avg_rating[i, j] = sim_avg_rating[i, j][:cut_len]"
   ]
  },
  {
   "cell_type": "code",
   "execution_count": 131,
   "id": "df8eb963",
   "metadata": {},
   "outputs": [
    {
     "data": {
      "text/plain": [
       "array([88, 88, 88, 88, 88, 88, 88, 88, 88, 88, 88, 88, 88, 88, 88, 88, 88,\n",
       "       88, 88, 88, 88, 88, 88, 88, 88, 88, 88, 88, 88, 88, 88, 88])"
      ]
     },
     "execution_count": 131,
     "metadata": {},
     "output_type": "execute_result"
    },
    {
     "data": {
      "application/javascript": [
       "\n",
       "            setTimeout(function() {\n",
       "                var nbb_cell_id = 131;\n",
       "                var nbb_unformatted_code = \"np.array([len(sim) for sim in sim_avg_rating[2, :]])\";\n",
       "                var nbb_formatted_code = \"np.array([len(sim) for sim in sim_avg_rating[2, :]])\";\n",
       "                var nbb_cells = Jupyter.notebook.get_cells();\n",
       "                for (var i = 0; i < nbb_cells.length; ++i) {\n",
       "                    if (nbb_cells[i].input_prompt_number == nbb_cell_id) {\n",
       "                        if (nbb_cells[i].get_text() == nbb_unformatted_code) {\n",
       "                             nbb_cells[i].set_text(nbb_formatted_code);\n",
       "                        }\n",
       "                        break;\n",
       "                    }\n",
       "                }\n",
       "            }, 500);\n",
       "            "
      ],
      "text/plain": [
       "<IPython.core.display.Javascript object>"
      ]
     },
     "metadata": {},
     "output_type": "display_data"
    }
   ],
   "source": [
    "np.array([len(sim) for sim in sim_avg_rating[2, :]])"
   ]
  },
  {
   "cell_type": "code",
   "execution_count": 132,
   "id": "4ce0d7a5",
   "metadata": {},
   "outputs": [
    {
     "data": {
      "text/plain": [
       "88"
      ]
     },
     "execution_count": 132,
     "metadata": {},
     "output_type": "execute_result"
    },
    {
     "data": {
      "application/javascript": [
       "\n",
       "            setTimeout(function() {\n",
       "                var nbb_cell_id = 132;\n",
       "                var nbb_unformatted_code = \"len(real_avg_rating[2])\";\n",
       "                var nbb_formatted_code = \"len(real_avg_rating[2])\";\n",
       "                var nbb_cells = Jupyter.notebook.get_cells();\n",
       "                for (var i = 0; i < nbb_cells.length; ++i) {\n",
       "                    if (nbb_cells[i].input_prompt_number == nbb_cell_id) {\n",
       "                        if (nbb_cells[i].get_text() == nbb_unformatted_code) {\n",
       "                             nbb_cells[i].set_text(nbb_formatted_code);\n",
       "                        }\n",
       "                        break;\n",
       "                    }\n",
       "                }\n",
       "            }, 500);\n",
       "            "
      ],
      "text/plain": [
       "<IPython.core.display.Javascript object>"
      ]
     },
     "metadata": {},
     "output_type": "display_data"
    }
   ],
   "source": [
    "len(real_avg_rating[2])"
   ]
  },
  {
   "cell_type": "code",
   "execution_count": 133,
   "id": "56f07098",
   "metadata": {},
   "outputs": [
    {
     "data": {
      "text/plain": [
       "array([1.        , 3.        , 3.66666667, 4.        , 3.8       ,\n",
       "       4.        , 4.14285714, 4.25      , 4.22222222, 4.3       ,\n",
       "       4.36363636, 4.41666667, 4.46153846, 4.5       , 4.53333333,\n",
       "       4.5625    , 4.58823529, 4.61111111, 4.63157895, 4.65      ,\n",
       "       4.66666667, 4.68181818, 4.69565217, 4.70833333, 4.68      ,\n",
       "       4.65384615, 4.66666667, 4.53571429, 4.55172414, 4.5       ,\n",
       "       4.51612903, 4.53125   , 4.54545455, 4.44117647, 4.34285714,\n",
       "       4.36111111, 4.37837838, 4.36842105, 4.38461538, 4.35      ,\n",
       "       4.36585366, 4.35714286, 4.37209302, 4.38636364, 4.4       ,\n",
       "       4.39130435, 4.36170213, 4.375     , 4.30612245, 4.3       ,\n",
       "       4.31372549, 4.28846154, 4.30188679, 4.24074074, 4.25454545,\n",
       "       4.26785714, 4.21052632, 4.22413793, 4.16949153, 4.18333333,\n",
       "       4.13114754, 4.14516129, 4.0952381 , 4.109375  , 4.10769231,\n",
       "       4.10606061, 4.10447761, 4.10294118, 4.11594203, 4.1       ,\n",
       "       4.08450704, 4.09722222, 4.08219178, 4.09459459, 4.05333333,\n",
       "       4.06578947, 4.07792208, 4.08974359, 4.08860759, 4.1       ,\n",
       "       4.09876543, 4.1097561 , 4.12048193, 4.08333333, 4.09411765,\n",
       "       4.10465116, 4.10344828, 4.11363636])"
      ]
     },
     "execution_count": 133,
     "metadata": {},
     "output_type": "execute_result"
    },
    {
     "data": {
      "application/javascript": [
       "\n",
       "            setTimeout(function() {\n",
       "                var nbb_cell_id = 133;\n",
       "                var nbb_unformatted_code = \"real_avg_rating[2]\";\n",
       "                var nbb_formatted_code = \"real_avg_rating[2]\";\n",
       "                var nbb_cells = Jupyter.notebook.get_cells();\n",
       "                for (var i = 0; i < nbb_cells.length; ++i) {\n",
       "                    if (nbb_cells[i].input_prompt_number == nbb_cell_id) {\n",
       "                        if (nbb_cells[i].get_text() == nbb_unformatted_code) {\n",
       "                             nbb_cells[i].set_text(nbb_formatted_code);\n",
       "                        }\n",
       "                        break;\n",
       "                    }\n",
       "                }\n",
       "            }, 500);\n",
       "            "
      ],
      "text/plain": [
       "<IPython.core.display.Javascript object>"
      ]
     },
     "metadata": {},
     "output_type": "display_data"
    }
   ],
   "source": [
    "real_avg_rating[2]"
   ]
  },
  {
   "cell_type": "code",
   "execution_count": 147,
   "id": "85bf1a90",
   "metadata": {},
   "outputs": [
    {
     "data": {
      "text/plain": [
       "<ErrorbarContainer object of 3 artists>"
      ]
     },
     "execution_count": 147,
     "metadata": {},
     "output_type": "execute_result"
    },
    {
     "data": {
      "image/png": "[encoded data removed]",
      "text/plain": [
       "<Figure size 432x288 with 1 Axes>"
      ]
     },
     "metadata": {},
     "output_type": "display_data"
    },
    {
     "data": {
      "application/javascript": [
       "\n",
       "            setTimeout(function() {\n",
       "                var nbb_cell_id = 147;\n",
       "                var nbb_unformatted_code = \"product = 875\\nplt.plot(\\n    np.arange(real_avg_rating[product].shape[0]) + 1,\\n    real_avg_rating[product],\\n    color=\\\"black\\\",\\n)\\nsim_arr = np.array([sim for sim in sim_avg_rating[product]])\\nplt.errorbar(\\n    np.arange(real_avg_rating[product].shape[0]) + 1,\\n    np.mean(sim_arr, axis=0),\\n    np.std(sim_arr, axis=0),\\n)\";\n",
       "                var nbb_formatted_code = \"product = 875\\nplt.plot(\\n    np.arange(real_avg_rating[product].shape[0]) + 1,\\n    real_avg_rating[product],\\n    color=\\\"black\\\",\\n)\\nsim_arr = np.array([sim for sim in sim_avg_rating[product]])\\nplt.errorbar(\\n    np.arange(real_avg_rating[product].shape[0]) + 1,\\n    np.mean(sim_arr, axis=0),\\n    np.std(sim_arr, axis=0),\\n)\";\n",
       "                var nbb_cells = Jupyter.notebook.get_cells();\n",
       "                for (var i = 0; i < nbb_cells.length; ++i) {\n",
       "                    if (nbb_cells[i].input_prompt_number == nbb_cell_id) {\n",
       "                        if (nbb_cells[i].get_text() == nbb_unformatted_code) {\n",
       "                             nbb_cells[i].set_text(nbb_formatted_code);\n",
       "                        }\n",
       "                        break;\n",
       "                    }\n",
       "                }\n",
       "            }, 500);\n",
       "            "
      ],
      "text/plain": [
       "<IPython.core.display.Javascript object>"
      ]
     },
     "metadata": {},
     "output_type": "display_data"
    }
   ],
   "source": [
    "product = 875\n",
    "plt.plot(\n",
    "    np.arange(real_avg_rating[product].shape[0]) + 1,\n",
    "    real_avg_rating[product],\n",
    "    color=\"black\",\n",
    ")\n",
    "sim_arr = np.array([sim for sim in sim_avg_rating[product]])\n",
    "plt.errorbar(\n",
    "    np.arange(real_avg_rating[product].shape[0]) + 1,\n",
    "    np.mean(sim_arr, axis=0),\n",
    "    np.std(sim_arr, axis=0),\n",
    ")"
   ]
  },
  {
   "cell_type": "code",
   "execution_count": 138,
   "id": "d2e4062d",
   "metadata": {},
   "outputs": [
    {
     "data": {
      "text/plain": [
       "array([[  0.,   0.,   0.,   0.,   1.],\n",
       "       [  0.,   0.,   0.,   0.,   2.],\n",
       "       [  0.,   0.,   0.,   0.,   3.],\n",
       "       [  0.,   0.,   0.,   0.,   4.],\n",
       "       [  0.,   0.,   0.,   0.,   5.],\n",
       "       [  0.,   0.,   0.,   0.,   6.],\n",
       "       [  0.,   0.,   0.,   0.,   7.],\n",
       "       [  0.,   0.,   0.,   0.,   8.],\n",
       "       [  0.,   0.,   0.,   0.,   9.],\n",
       "       [  0.,   0.,   0.,   0.,  10.],\n",
       "       [  0.,   0.,   0.,   0.,  11.],\n",
       "       [  0.,   0.,   0.,   0.,  12.],\n",
       "       [  0.,   0.,   0.,   0.,  13.],\n",
       "       [  0.,   0.,   0.,   1.,  13.],\n",
       "       [  0.,   0.,   0.,   1.,  14.],\n",
       "       [  0.,   0.,   0.,   1.,  15.],\n",
       "       [  0.,   0.,   0.,   1.,  16.],\n",
       "       [  0.,   0.,   0.,   1.,  17.],\n",
       "       [  0.,   0.,   0.,   1.,  18.],\n",
       "       [  0.,   0.,   0.,   1.,  19.],\n",
       "       [  0.,   0.,   0.,   1.,  20.],\n",
       "       [  0.,   0.,   0.,   1.,  21.],\n",
       "       [  0.,   0.,   0.,   1.,  22.],\n",
       "       [  0.,   0.,   0.,   1.,  23.],\n",
       "       [  0.,   0.,   0.,   1.,  24.],\n",
       "       [  0.,   0.,   0.,   2.,  24.],\n",
       "       [  0.,   0.,   0.,   2.,  25.],\n",
       "       [  0.,   0.,   0.,   2.,  26.],\n",
       "       [  0.,   0.,   0.,   2.,  27.],\n",
       "       [  0.,   0.,   0.,   3.,  27.],\n",
       "       [  0.,   0.,   0.,   3.,  28.],\n",
       "       [  0.,   0.,   0.,   3.,  29.],\n",
       "       [  0.,   0.,   0.,   3.,  30.],\n",
       "       [  0.,   0.,   0.,   3.,  31.],\n",
       "       [  0.,   0.,   0.,   3.,  32.],\n",
       "       [  0.,   0.,   0.,   3.,  33.],\n",
       "       [  0.,   0.,   0.,   3.,  34.],\n",
       "       [  0.,   0.,   0.,   3.,  35.],\n",
       "       [  0.,   0.,   0.,   3.,  36.],\n",
       "       [  0.,   0.,   0.,   3.,  37.],\n",
       "       [  0.,   0.,   0.,   3.,  38.],\n",
       "       [  0.,   0.,   0.,   3.,  39.],\n",
       "       [  0.,   0.,   0.,   4.,  39.],\n",
       "       [  0.,   0.,   0.,   4.,  40.],\n",
       "       [  0.,   0.,   0.,   4.,  41.],\n",
       "       [  0.,   0.,   0.,   4.,  42.],\n",
       "       [  0.,   0.,   0.,   4.,  43.],\n",
       "       [  1.,   0.,   0.,   4.,  43.],\n",
       "       [  1.,   0.,   0.,   4.,  44.],\n",
       "       [  1.,   0.,   0.,   4.,  45.],\n",
       "       [  1.,   0.,   0.,   4.,  46.],\n",
       "       [  1.,   0.,   0.,   5.,  46.],\n",
       "       [  1.,   0.,   0.,   6.,  46.],\n",
       "       [  1.,   0.,   0.,   6.,  47.],\n",
       "       [  1.,   0.,   0.,   7.,  47.],\n",
       "       [  1.,   0.,   0.,   7.,  48.],\n",
       "       [  1.,   0.,   0.,   7.,  49.],\n",
       "       [  1.,   0.,   0.,   7.,  50.],\n",
       "       [  1.,   0.,   0.,   7.,  51.],\n",
       "       [  1.,   0.,   0.,   7.,  52.],\n",
       "       [  1.,   0.,   0.,   7.,  53.],\n",
       "       [  1.,   0.,   0.,   7.,  54.],\n",
       "       [  1.,   0.,   0.,   7.,  55.],\n",
       "       [  1.,   0.,   0.,   7.,  56.],\n",
       "       [  1.,   0.,   0.,   8.,  56.],\n",
       "       [  1.,   0.,   0.,   8.,  57.],\n",
       "       [  1.,   0.,   0.,   9.,  57.],\n",
       "       [  1.,   0.,   0.,  10.,  57.],\n",
       "       [  1.,   0.,   0.,  10.,  58.],\n",
       "       [  1.,   0.,   0.,  10.,  59.],\n",
       "       [  1.,   0.,   0.,  10.,  60.],\n",
       "       [  1.,   0.,   0.,  11.,  60.],\n",
       "       [  1.,   0.,   0.,  11.,  61.],\n",
       "       [  2.,   0.,   0.,  11.,  61.],\n",
       "       [  2.,   0.,   0.,  11.,  62.],\n",
       "       [  2.,   0.,   0.,  11.,  63.],\n",
       "       [  2.,   0.,   0.,  11.,  64.],\n",
       "       [  2.,   0.,   0.,  11.,  65.],\n",
       "       [  2.,   0.,   0.,  11.,  66.],\n",
       "       [  2.,   0.,   0.,  11.,  67.],\n",
       "       [  2.,   0.,   0.,  12.,  67.],\n",
       "       [  2.,   0.,   0.,  13.,  67.],\n",
       "       [  2.,   0.,   0.,  13.,  68.],\n",
       "       [  2.,   0.,   0.,  13.,  69.],\n",
       "       [  2.,   0.,   0.,  14.,  69.],\n",
       "       [  2.,   0.,   0.,  14.,  70.],\n",
       "       [  2.,   0.,   1.,  14.,  70.],\n",
       "       [  2.,   0.,   1.,  14.,  71.],\n",
       "       [  2.,   0.,   1.,  14.,  72.],\n",
       "       [  2.,   0.,   1.,  14.,  73.],\n",
       "       [  2.,   0.,   1.,  14.,  74.],\n",
       "       [  2.,   0.,   1.,  14.,  75.],\n",
       "       [  2.,   0.,   1.,  14.,  76.],\n",
       "       [  2.,   0.,   1.,  15.,  76.],\n",
       "       [  2.,   0.,   1.,  15.,  77.],\n",
       "       [  2.,   0.,   1.,  16.,  77.],\n",
       "       [  2.,   0.,   1.,  16.,  78.],\n",
       "       [  2.,   0.,   1.,  16.,  79.],\n",
       "       [  2.,   0.,   1.,  17.,  79.],\n",
       "       [  2.,   0.,   1.,  18.,  79.],\n",
       "       [  2.,   0.,   1.,  18.,  80.],\n",
       "       [  2.,   0.,   1.,  18.,  81.],\n",
       "       [  2.,   0.,   1.,  18.,  82.],\n",
       "       [  2.,   0.,   1.,  18.,  83.],\n",
       "       [  2.,   0.,   1.,  19.,  83.],\n",
       "       [  2.,   0.,   1.,  19.,  84.],\n",
       "       [  2.,   0.,   1.,  19.,  85.],\n",
       "       [  2.,   0.,   1.,  19.,  86.],\n",
       "       [  2.,   0.,   1.,  20.,  86.],\n",
       "       [  2.,   0.,   1.,  21.,  86.],\n",
       "       [  2.,   0.,   1.,  21.,  87.],\n",
       "       [  2.,   0.,   1.,  21.,  88.],\n",
       "       [  2.,   0.,   1.,  21.,  89.],\n",
       "       [  2.,   0.,   1.,  22.,  89.],\n",
       "       [  2.,   0.,   1.,  22.,  90.],\n",
       "       [  2.,   0.,   1.,  22.,  91.],\n",
       "       [  2.,   0.,   1.,  22.,  92.],\n",
       "       [  2.,   0.,   1.,  23.,  92.],\n",
       "       [  2.,   0.,   1.,  23.,  93.],\n",
       "       [  2.,   0.,   1.,  23.,  94.],\n",
       "       [  2.,   0.,   1.,  23.,  95.],\n",
       "       [  2.,   0.,   1.,  23.,  96.],\n",
       "       [  2.,   0.,   1.,  24.,  96.],\n",
       "       [  2.,   0.,   1.,  24.,  97.],\n",
       "       [  2.,   0.,   1.,  24.,  98.],\n",
       "       [  2.,   1.,   1.,  24.,  98.],\n",
       "       [  2.,   1.,   1.,  24.,  99.],\n",
       "       [  2.,   1.,   1.,  24., 100.],\n",
       "       [  2.,   1.,   1.,  25., 100.],\n",
       "       [  2.,   1.,   1.,  25., 101.],\n",
       "       [  2.,   1.,   1.,  25., 102.],\n",
       "       [  2.,   1.,   1.,  25., 103.],\n",
       "       [  2.,   1.,   1.,  25., 104.],\n",
       "       [  2.,   1.,   1.,  25., 105.],\n",
       "       [  2.,   1.,   1.,  25., 106.],\n",
       "       [  2.,   1.,   1.,  25., 107.],\n",
       "       [  2.,   1.,   1.,  25., 108.],\n",
       "       [  2.,   1.,   1.,  25., 109.],\n",
       "       [  2.,   1.,   1.,  25., 110.],\n",
       "       [  2.,   1.,   1.,  25., 111.],\n",
       "       [  2.,   1.,   1.,  25., 112.],\n",
       "       [  2.,   1.,   1.,  25., 113.],\n",
       "       [  2.,   1.,   1.,  26., 113.],\n",
       "       [  2.,   1.,   1.,  26., 114.],\n",
       "       [  2.,   1.,   1.,  27., 114.],\n",
       "       [  2.,   1.,   1.,  27., 115.],\n",
       "       [  2.,   1.,   1.,  28., 115.],\n",
       "       [  2.,   1.,   1.,  28., 116.],\n",
       "       [  2.,   1.,   2.,  28., 116.],\n",
       "       [  2.,   1.,   2.,  28., 117.],\n",
       "       [  2.,   1.,   2.,  28., 118.],\n",
       "       [  2.,   1.,   2.,  28., 119.],\n",
       "       [  2.,   2.,   2.,  28., 119.],\n",
       "       [  2.,   2.,   2.,  28., 120.],\n",
       "       [  2.,   2.,   2.,  28., 121.]])"
      ]
     },
     "execution_count": 138,
     "metadata": {},
     "output_type": "execute_result"
    },
    {
     "data": {
      "application/javascript": [
       "\n",
       "            setTimeout(function() {\n",
       "                var nbb_cell_id = 138;\n",
       "                var nbb_unformatted_code = \"timeseries_data[875][timeseries_half_len[875] :] - timeseries_data[875][\\n    timeseries_half_len[875] - 1\\n]\";\n",
       "                var nbb_formatted_code = \"timeseries_data[875][timeseries_half_len[875] :] - timeseries_data[875][\\n    timeseries_half_len[875] - 1\\n]\";\n",
       "                var nbb_cells = Jupyter.notebook.get_cells();\n",
       "                for (var i = 0; i < nbb_cells.length; ++i) {\n",
       "                    if (nbb_cells[i].input_prompt_number == nbb_cell_id) {\n",
       "                        if (nbb_cells[i].get_text() == nbb_unformatted_code) {\n",
       "                             nbb_cells[i].set_text(nbb_formatted_code);\n",
       "                        }\n",
       "                        break;\n",
       "                    }\n",
       "                }\n",
       "            }, 500);\n",
       "            "
      ],
      "text/plain": [
       "<IPython.core.display.Javascript object>"
      ]
     },
     "metadata": {},
     "output_type": "display_data"
    }
   ],
   "source": [
    "timeseries_data[875][timeseries_half_len[875] :] - timeseries_data[875][\n",
    "    timeseries_half_len[875] - 1\n",
    "]"
   ]
  },
  {
   "cell_type": "code",
   "execution_count": 139,
   "id": "0514120f",
   "metadata": {},
   "outputs": [
    {
     "data": {
      "text/plain": [
       "array([[ 0.,  0.,  0.,  1.,  0.],\n",
       "       [ 0.,  0.,  0.,  2.,  0.],\n",
       "       [ 0.,  0.,  1.,  2.,  0.],\n",
       "       [ 0.,  0.,  1.,  3.,  0.],\n",
       "       [ 1.,  0.,  1.,  3.,  0.],\n",
       "       [ 1.,  0.,  1.,  4.,  0.],\n",
       "       [ 1.,  0.,  1.,  5.,  0.],\n",
       "       [ 2.,  0.,  1.,  5.,  0.],\n",
       "       [ 2.,  0.,  2.,  5.,  0.],\n",
       "       [ 2.,  0.,  3.,  5.,  0.],\n",
       "       [ 2.,  0.,  3.,  6.,  0.],\n",
       "       [ 3.,  0.,  3.,  6.,  0.],\n",
       "       [ 3.,  0.,  3.,  7.,  0.],\n",
       "       [ 3.,  0.,  3.,  8.,  0.],\n",
       "       [ 4.,  0.,  3.,  8.,  0.],\n",
       "       [ 4.,  0.,  3.,  9.,  0.],\n",
       "       [ 4.,  0.,  3., 10.,  0.],\n",
       "       [ 4.,  0.,  3., 11.,  0.],\n",
       "       [ 4.,  1.,  3., 11.,  0.],\n",
       "       [ 4.,  1.,  3., 12.,  0.],\n",
       "       [ 4.,  1.,  3., 12.,  1.],\n",
       "       [ 4.,  1.,  3., 13.,  1.],\n",
       "       [ 4.,  1.,  3., 14.,  1.],\n",
       "       [ 4.,  1.,  3., 15.,  1.],\n",
       "       [ 4.,  1.,  3., 16.,  1.]])"
      ]
     },
     "execution_count": 139,
     "metadata": {},
     "output_type": "execute_result"
    },
    {
     "data": {
      "application/javascript": [
       "\n",
       "            setTimeout(function() {\n",
       "                var nbb_cell_id = 139;\n",
       "                var nbb_unformatted_code = \"simulator.simulations[10, 875][timeseries_half_len[875] :] - simulator.simulations[\\n    10, 875\\n][timeseries_half_len[875] - 1]\";\n",
       "                var nbb_formatted_code = \"simulator.simulations[10, 875][timeseries_half_len[875] :] - simulator.simulations[\\n    10, 875\\n][timeseries_half_len[875] - 1]\";\n",
       "                var nbb_cells = Jupyter.notebook.get_cells();\n",
       "                for (var i = 0; i < nbb_cells.length; ++i) {\n",
       "                    if (nbb_cells[i].input_prompt_number == nbb_cell_id) {\n",
       "                        if (nbb_cells[i].get_text() == nbb_unformatted_code) {\n",
       "                             nbb_cells[i].set_text(nbb_formatted_code);\n",
       "                        }\n",
       "                        break;\n",
       "                    }\n",
       "                }\n",
       "            }, 500);\n",
       "            "
      ],
      "text/plain": [
       "<IPython.core.display.Javascript object>"
      ]
     },
     "metadata": {},
     "output_type": "display_data"
    }
   ],
   "source": [
    "simulator.simulations[10, 875][timeseries_half_len[875] :] - simulator.simulations[\n",
    "    10, 875\n",
    "][timeseries_half_len[875] - 1]"
   ]
  },
  {
   "cell_type": "code",
   "execution_count": 140,
   "id": "663c1d51",
   "metadata": {},
   "outputs": [
    {
     "data": {
      "application/javascript": [
       "\n",
       "            setTimeout(function() {\n",
       "                var nbb_cell_id = 140;\n",
       "                var nbb_unformatted_code = \"max_review_len = max([len(prod) for prod in real_avg_rating])\\nprod_avg_real_rating = np.full((real_avg_rating.shape[0], max_review_len), np.nan)\\nprod_avg_sim_rating = np.full((real_avg_rating.shape[0], max_review_len), np.nan)\\nfor prod in range(real_avg_rating.shape[0]):\\n    prod_avg_real_rating[prod, :len(real_avg_rating[prod])] = real_avg_rating[prod]\\n    sim_array = np.array([sim for sim in sim_avg_rating[prod]])\\n    prod_avg_sim_rating[prod, :len(real_avg_rating[prod])] = np.mean(sim_array, axis=0) \";\n",
       "                var nbb_formatted_code = \"max_review_len = max([len(prod) for prod in real_avg_rating])\\nprod_avg_real_rating = np.full((real_avg_rating.shape[0], max_review_len), np.nan)\\nprod_avg_sim_rating = np.full((real_avg_rating.shape[0], max_review_len), np.nan)\\nfor prod in range(real_avg_rating.shape[0]):\\n    prod_avg_real_rating[prod, : len(real_avg_rating[prod])] = real_avg_rating[prod]\\n    sim_array = np.array([sim for sim in sim_avg_rating[prod]])\\n    prod_avg_sim_rating[prod, : len(real_avg_rating[prod])] = np.mean(sim_array, axis=0)\";\n",
       "                var nbb_cells = Jupyter.notebook.get_cells();\n",
       "                for (var i = 0; i < nbb_cells.length; ++i) {\n",
       "                    if (nbb_cells[i].input_prompt_number == nbb_cell_id) {\n",
       "                        if (nbb_cells[i].get_text() == nbb_unformatted_code) {\n",
       "                             nbb_cells[i].set_text(nbb_formatted_code);\n",
       "                        }\n",
       "                        break;\n",
       "                    }\n",
       "                }\n",
       "            }, 500);\n",
       "            "
      ],
      "text/plain": [
       "<IPython.core.display.Javascript object>"
      ]
     },
     "metadata": {},
     "output_type": "display_data"
    }
   ],
   "source": [
    "max_review_len = max([len(prod) for prod in real_avg_rating])\n",
    "prod_avg_real_rating = np.full((real_avg_rating.shape[0], max_review_len), np.nan)\n",
    "prod_avg_sim_rating = np.full((real_avg_rating.shape[0], max_review_len), np.nan)\n",
    "for prod in range(real_avg_rating.shape[0]):\n",
    "    prod_avg_real_rating[prod, : len(real_avg_rating[prod])] = real_avg_rating[prod]\n",
    "    sim_array = np.array([sim for sim in sim_avg_rating[prod]])\n",
    "    prod_avg_sim_rating[prod, : len(real_avg_rating[prod])] = np.mean(sim_array, axis=0)"
   ]
  },
  {
   "cell_type": "code",
   "execution_count": 141,
   "id": "8e102174",
   "metadata": {},
   "outputs": [
    {
     "data": {
      "text/plain": [
       "((1406, 239), (1406, 239))"
      ]
     },
     "execution_count": 141,
     "metadata": {},
     "output_type": "execute_result"
    },
    {
     "data": {
      "application/javascript": [
       "\n",
       "            setTimeout(function() {\n",
       "                var nbb_cell_id = 141;\n",
       "                var nbb_unformatted_code = \"prod_avg_real_rating.shape, prod_avg_sim_rating.shape\";\n",
       "                var nbb_formatted_code = \"prod_avg_real_rating.shape, prod_avg_sim_rating.shape\";\n",
       "                var nbb_cells = Jupyter.notebook.get_cells();\n",
       "                for (var i = 0; i < nbb_cells.length; ++i) {\n",
       "                    if (nbb_cells[i].input_prompt_number == nbb_cell_id) {\n",
       "                        if (nbb_cells[i].get_text() == nbb_unformatted_code) {\n",
       "                             nbb_cells[i].set_text(nbb_formatted_code);\n",
       "                        }\n",
       "                        break;\n",
       "                    }\n",
       "                }\n",
       "            }, 500);\n",
       "            "
      ],
      "text/plain": [
       "<IPython.core.display.Javascript object>"
      ]
     },
     "metadata": {},
     "output_type": "display_data"
    }
   ],
   "source": [
    "prod_avg_real_rating.shape, prod_avg_sim_rating.shape"
   ]
  },
  {
   "cell_type": "code",
   "execution_count": 142,
   "id": "46d0039b",
   "metadata": {},
   "outputs": [
    {
     "data": {
      "text/plain": [
       "<ErrorbarContainer object of 3 artists>"
      ]
     },
     "execution_count": 142,
     "metadata": {},
     "output_type": "execute_result"
    },
    {
     "data": {
      "image/png": "[encoded data removed]",
      "text/plain": [
       "<Figure size 432x288 with 1 Axes>"
      ]
     },
     "metadata": {},
     "output_type": "display_data"
    },
    {
     "data": {
      "application/javascript": [
       "\n",
       "            setTimeout(function() {\n",
       "                var nbb_cell_id = 142;\n",
       "                var nbb_unformatted_code = \"plt.errorbar(\\n    np.arange(100) + 1,\\n    np.nanmean(prod_avg_real_rating[:, :100], axis=0),\\n    np.nanstd(prod_avg_real_rating[:, :100], axis=0),\\n    alpha=0.6,\\n)\\nplt.errorbar(\\n    np.arange(100) + 1,\\n    np.nanmean(prod_avg_sim_rating[:, :100], axis=0),\\n    np.nanstd(prod_avg_real_rating[:, :100], axis=0),\\n    alpha=0.6,\\n)\";\n",
       "                var nbb_formatted_code = \"plt.errorbar(\\n    np.arange(100) + 1,\\n    np.nanmean(prod_avg_real_rating[:, :100], axis=0),\\n    np.nanstd(prod_avg_real_rating[:, :100], axis=0),\\n    alpha=0.6,\\n)\\nplt.errorbar(\\n    np.arange(100) + 1,\\n    np.nanmean(prod_avg_sim_rating[:, :100], axis=0),\\n    np.nanstd(prod_avg_real_rating[:, :100], axis=0),\\n    alpha=0.6,\\n)\";\n",
       "                var nbb_cells = Jupyter.notebook.get_cells();\n",
       "                for (var i = 0; i < nbb_cells.length; ++i) {\n",
       "                    if (nbb_cells[i].input_prompt_number == nbb_cell_id) {\n",
       "                        if (nbb_cells[i].get_text() == nbb_unformatted_code) {\n",
       "                             nbb_cells[i].set_text(nbb_formatted_code);\n",
       "                        }\n",
       "                        break;\n",
       "                    }\n",
       "                }\n",
       "            }, 500);\n",
       "            "
      ],
      "text/plain": [
       "<IPython.core.display.Javascript object>"
      ]
     },
     "metadata": {},
     "output_type": "display_data"
    }
   ],
   "source": [
    "plt.errorbar(\n",
    "    np.arange(100) + 1,\n",
    "    np.nanmean(prod_avg_real_rating[:, :100], axis=0),\n",
    "    np.nanstd(prod_avg_real_rating[:, :100], axis=0),\n",
    "    alpha=0.6,\n",
    ")\n",
    "plt.errorbar(\n",
    "    np.arange(100) + 1,\n",
    "    np.nanmean(prod_avg_sim_rating[:, :100], axis=0),\n",
    "    np.nanstd(prod_avg_real_rating[:, :100], axis=0),\n",
    "    alpha=0.6,\n",
    ")"
   ]
  },
  {
   "cell_type": "markdown",
   "id": "05493279",
   "metadata": {},
   "source": [
    "# Creating a baseline for the review timeseries prediction task using a simple categorical model"
   ]
  },
  {
   "cell_type": "markdown",
   "id": "6ab814b0",
   "metadata": {},
   "source": [
    "In order to have a baseline comparison for review prediction using the simulation model (and any other timeseries prediction methods like RNN later), we will use predictions from a categorical probability distribution. The probabilities of this categorical distribution can be the 50% (half-way) review histogram that we already have - using these reviews from the first half of the timeseries for each product, we will try to predict the 2nd half "
   ]
  },
  {
   "cell_type": "code",
   "execution_count": null,
   "id": "b8b72a2d",
   "metadata": {},
   "outputs": [],
   "source": [
    "real_avg_rating = []\n",
    "sim_avg_rating = []\n",
    "for product in range(timeseries_data.shape[0]):\n",
    "    real_rating = (\n",
    "        timeseries_data[product][timeseries_half_len[product] :]\n",
    "        - timeseries_data[product][timeseries_half_len[product] - 1][None, :]\n",
    "    )\n",
    "    real_avg_rating.append(\n",
    "        np.sum(\n",
    "            (real_rating / np.sum(real_rating, axis=1)[:, None]) * np.arange(1, 6),\n",
    "            axis=1,\n",
    "        )\n",
    "    )\n",
    "    half_histogram = timeseries_data[product][timeseries_half_len[product] - 1]\n",
    "    half_histogram /= np.sum(half_histogram)\n",
    "    \n",
    "    for rating in range(real_rating.shape[0]):\n",
    "        \n",
    "    this_prod_avg_rating = []\n",
    "    for sim in range(simulator.simulations.shape[0]):\n",
    "        sim_rating = (\n",
    "            simulator.simulations[sim, product][\n",
    "                timeseries_half_len[product] : timeseries_data[product].shape[0]\n",
    "            ]\n",
    "            - simulator.simulations[sim, product][timeseries_half_len[product] - 1][\n",
    "                None, :\n",
    "            ]\n",
    "        )\n",
    "        this_prod_avg_rating.append(\n",
    "            np.sum(\n",
    "                (sim_rating / np.sum(sim_rating, axis=1)[:, None]) * np.arange(1, 6),\n",
    "                axis=1,\n",
    "            )\n",
    "        )\n",
    "    sim_avg_rating.append(this_prod_avg_rating)"
   ]
  },
  {
   "cell_type": "code",
   "execution_count": null,
   "id": "b012a445",
   "metadata": {},
   "outputs": [],
   "source": []
  }
 ],
 "metadata": {
  "kernelspec": {
   "display_name": "Python 3 (ipykernel)",
   "language": "python",
   "name": "python3"
  },
  "language_info": {
   "codemirror_mode": {
    "name": "ipython",
    "version": 3
   },
   "file_extension": ".py",
   "mimetype": "text/x-python",
   "name": "python",
   "nbconvert_exporter": "python",
   "pygments_lexer": "ipython3",
   "version": "3.9.12"
  }
 },
 "nbformat": 4,
 "nbformat_minor": 5
}
